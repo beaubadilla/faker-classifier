{
 "cells": [
  {
   "cell_type": "markdown",
   "metadata": {},
   "source": [
    "# Imports"
   ]
  },
  {
   "cell_type": "code",
   "execution_count": 18,
   "metadata": {},
   "outputs": [],
   "source": [
    "# Built-In\n",
    "from importlib import reload\n",
    "\n",
    "# 3rd party\n",
    "import pandas\n",
    "from sklearn.model_selection import train_test_split\n",
    "\n",
    "# In-House"
   ]
  },
  {
   "cell_type": "markdown",
   "metadata": {},
   "source": [
    "## Intra\n",
    "Separated because we need to reload often"
   ]
  },
  {
   "cell_type": "code",
   "execution_count": 20,
   "metadata": {},
   "outputs": [
    {
     "data": {
      "text/plain": [
       "<module 'helpers' from 'c:\\\\Users\\\\Beau\\\\Desktop\\\\ML\\\\faker\\\\helpers.py'>"
      ]
     },
     "execution_count": 20,
     "metadata": {},
     "output_type": "execute_result"
    }
   ],
   "source": [
    "import helpers\n",
    "from helpers import get_damage_profile_composition\n",
    "\n",
    "reload(helpers)"
   ]
  },
  {
   "cell_type": "markdown",
   "metadata": {},
   "source": [
    "# Globals"
   ]
  },
  {
   "cell_type": "code",
   "execution_count": 21,
   "metadata": {},
   "outputs": [],
   "source": [
    "RANDOM_STATE = 30"
   ]
  },
  {
   "cell_type": "markdown",
   "metadata": {},
   "source": [
    "# Load Data"
   ]
  },
  {
   "cell_type": "code",
   "execution_count": 22,
   "metadata": {},
   "outputs": [
    {
     "name": "stdout",
     "output_type": "stream",
     "text": [
      "Loading \"./merged9.csv\"\n",
      "Finish loading.\n",
      "(987, 65)\n"
     ]
    },
    {
     "data": {
      "text/html": [
       "<div>\n",
       "<style scoped>\n",
       "    .dataframe tbody tr th:only-of-type {\n",
       "        vertical-align: middle;\n",
       "    }\n",
       "\n",
       "    .dataframe tbody tr th {\n",
       "        vertical-align: top;\n",
       "    }\n",
       "\n",
       "    .dataframe thead th {\n",
       "        text-align: right;\n",
       "    }\n",
       "</style>\n",
       "<table border=\"1\" class=\"dataframe\">\n",
       "  <thead>\n",
       "    <tr style=\"text-align: right;\">\n",
       "      <th></th>\n",
       "      <th>Date</th>\n",
       "      <th>Tournament</th>\n",
       "      <th>W/L</th>\n",
       "      <th>Side</th>\n",
       "      <th>Vs_Team</th>\n",
       "      <th>Game_Length</th>\n",
       "      <th>Champion</th>\n",
       "      <th>Vs_Champion</th>\n",
       "      <th>Kills</th>\n",
       "      <th>Deaths</th>\n",
       "      <th>...</th>\n",
       "      <th>teammate_top_ign</th>\n",
       "      <th>teammate_jungle_ign</th>\n",
       "      <th>teammate_mid_ign</th>\n",
       "      <th>teammate_adc_ign</th>\n",
       "      <th>teammate_support_ign</th>\n",
       "      <th>opponent_top_ign</th>\n",
       "      <th>opponent_jungle_ign</th>\n",
       "      <th>opponent_mid_ign</th>\n",
       "      <th>opponent_adc_ign</th>\n",
       "      <th>opponent_support_ign</th>\n",
       "    </tr>\n",
       "  </thead>\n",
       "  <tbody>\n",
       "    <tr>\n",
       "      <th>0</th>\n",
       "      <td>2013-04-06 10:30:00</td>\n",
       "      <td>Korea,Champions 2013 Spring</td>\n",
       "      <td>Win</td>\n",
       "      <td>Red</td>\n",
       "      <td>CJ Entus Blaze</td>\n",
       "      <td>35:42</td>\n",
       "      <td>Nidalee</td>\n",
       "      <td>Kha'Zix</td>\n",
       "      <td>6</td>\n",
       "      <td>0</td>\n",
       "      <td>...</td>\n",
       "      <td>Impact</td>\n",
       "      <td>bengi</td>\n",
       "      <td>Faker</td>\n",
       "      <td>Piglet</td>\n",
       "      <td>PoohManDu</td>\n",
       "      <td>Flame</td>\n",
       "      <td>Helios (Shin Dong-jin)</td>\n",
       "      <td>Ambition</td>\n",
       "      <td>Cpt Jack</td>\n",
       "      <td>Lustboy</td>\n",
       "    </tr>\n",
       "    <tr>\n",
       "      <th>1</th>\n",
       "      <td>2013-04-06 10:30:01</td>\n",
       "      <td>Korea,Champions 2013 Spring</td>\n",
       "      <td>Win</td>\n",
       "      <td>Blue</td>\n",
       "      <td>CJ Entus Blaze</td>\n",
       "      <td>35:23</td>\n",
       "      <td>Karthus</td>\n",
       "      <td>Diana</td>\n",
       "      <td>12</td>\n",
       "      <td>2</td>\n",
       "      <td>...</td>\n",
       "      <td>Impact</td>\n",
       "      <td>bengi</td>\n",
       "      <td>Faker</td>\n",
       "      <td>Piglet</td>\n",
       "      <td>PoohManDu</td>\n",
       "      <td>Flame</td>\n",
       "      <td>Helios (Shin Dong-jin)</td>\n",
       "      <td>Ambition</td>\n",
       "      <td>Cpt Jack</td>\n",
       "      <td>Lustboy</td>\n",
       "    </tr>\n",
       "    <tr>\n",
       "      <th>2</th>\n",
       "      <td>2013-04-12 09:30:00</td>\n",
       "      <td>Korea,Champions 2013 Spring</td>\n",
       "      <td>Loss</td>\n",
       "      <td>Red</td>\n",
       "      <td>NaJin Sword</td>\n",
       "      <td>28:49</td>\n",
       "      <td>Lux</td>\n",
       "      <td>Twisted Fate</td>\n",
       "      <td>2</td>\n",
       "      <td>6</td>\n",
       "      <td>...</td>\n",
       "      <td>Impact</td>\n",
       "      <td>bengi</td>\n",
       "      <td>Faker</td>\n",
       "      <td>Piglet</td>\n",
       "      <td>PoohManDu</td>\n",
       "      <td>MakNooN</td>\n",
       "      <td>watch</td>\n",
       "      <td>SSONG</td>\n",
       "      <td>PraY</td>\n",
       "      <td>Cain</td>\n",
       "    </tr>\n",
       "    <tr>\n",
       "      <th>3</th>\n",
       "      <td>2013-04-12 09:30:01</td>\n",
       "      <td>Korea,Champions 2013 Spring</td>\n",
       "      <td>Win</td>\n",
       "      <td>Blue</td>\n",
       "      <td>NaJin Sword</td>\n",
       "      <td>33:24</td>\n",
       "      <td>Twisted Fate</td>\n",
       "      <td>Zilean</td>\n",
       "      <td>7</td>\n",
       "      <td>3</td>\n",
       "      <td>...</td>\n",
       "      <td>Impact</td>\n",
       "      <td>bengi</td>\n",
       "      <td>Faker</td>\n",
       "      <td>Piglet</td>\n",
       "      <td>PoohManDu</td>\n",
       "      <td>MakNooN</td>\n",
       "      <td>watch</td>\n",
       "      <td>SSONG</td>\n",
       "      <td>PraY</td>\n",
       "      <td>Cain</td>\n",
       "    </tr>\n",
       "    <tr>\n",
       "      <th>4</th>\n",
       "      <td>2013-04-17 09:30:00</td>\n",
       "      <td>Korea,Champions 2013 Spring</td>\n",
       "      <td>Win</td>\n",
       "      <td>Blue</td>\n",
       "      <td>MVP Blue</td>\n",
       "      <td>38:43</td>\n",
       "      <td>Jayce</td>\n",
       "      <td>Kha'Zix</td>\n",
       "      <td>6</td>\n",
       "      <td>3</td>\n",
       "      <td>...</td>\n",
       "      <td>Impact</td>\n",
       "      <td>bengi</td>\n",
       "      <td>Faker</td>\n",
       "      <td>Piglet</td>\n",
       "      <td>PoohManDu</td>\n",
       "      <td>Cheonju</td>\n",
       "      <td>ChuNyang</td>\n",
       "      <td>Easyhoon</td>\n",
       "      <td>Deft</td>\n",
       "      <td>FLahm</td>\n",
       "    </tr>\n",
       "  </tbody>\n",
       "</table>\n",
       "<p>5 rows × 65 columns</p>\n",
       "</div>"
      ],
      "text/plain": [
       "                  Date                   Tournament   W/L  Side  \\\n",
       "0  2013-04-06 10:30:00  Korea,Champions 2013 Spring   Win   Red   \n",
       "1  2013-04-06 10:30:01  Korea,Champions 2013 Spring   Win  Blue   \n",
       "2  2013-04-12 09:30:00  Korea,Champions 2013 Spring  Loss   Red   \n",
       "3  2013-04-12 09:30:01  Korea,Champions 2013 Spring   Win  Blue   \n",
       "4  2013-04-17 09:30:00  Korea,Champions 2013 Spring   Win  Blue   \n",
       "\n",
       "          Vs_Team Game_Length      Champion   Vs_Champion  Kills  Deaths  ...  \\\n",
       "0  CJ Entus Blaze       35:42       Nidalee       Kha'Zix      6       0  ...   \n",
       "1  CJ Entus Blaze       35:23       Karthus         Diana     12       2  ...   \n",
       "2     NaJin Sword       28:49           Lux  Twisted Fate      2       6  ...   \n",
       "3     NaJin Sword       33:24  Twisted Fate        Zilean      7       3  ...   \n",
       "4        MVP Blue       38:43         Jayce       Kha'Zix      6       3  ...   \n",
       "\n",
       "   teammate_top_ign  teammate_jungle_ign teammate_mid_ign  teammate_adc_ign  \\\n",
       "0            Impact                bengi            Faker            Piglet   \n",
       "1            Impact                bengi            Faker            Piglet   \n",
       "2            Impact                bengi            Faker            Piglet   \n",
       "3            Impact                bengi            Faker            Piglet   \n",
       "4            Impact                bengi            Faker            Piglet   \n",
       "\n",
       "  teammate_support_ign opponent_top_ign     opponent_jungle_ign  \\\n",
       "0            PoohManDu            Flame  Helios (Shin Dong-jin)   \n",
       "1            PoohManDu            Flame  Helios (Shin Dong-jin)   \n",
       "2            PoohManDu          MakNooN                   watch   \n",
       "3            PoohManDu          MakNooN                   watch   \n",
       "4            PoohManDu          Cheonju                ChuNyang   \n",
       "\n",
       "   opponent_mid_ign opponent_adc_ign opponent_support_ign  \n",
       "0          Ambition         Cpt Jack              Lustboy  \n",
       "1          Ambition         Cpt Jack              Lustboy  \n",
       "2             SSONG             PraY                 Cain  \n",
       "3             SSONG             PraY                 Cain  \n",
       "4          Easyhoon             Deft                FLahm  \n",
       "\n",
       "[5 rows x 65 columns]"
      ]
     },
     "execution_count": 22,
     "metadata": {},
     "output_type": "execute_result"
    }
   ],
   "source": [
    "file_path: str = \"./merged9.csv\"\n",
    "# Load csv\n",
    "print(f'Loading \"{file_path}\"')\n",
    "data: pandas.DataFrame = pandas.read_csv(file_path)\n",
    "print(f\"Finish loading.\")\n",
    "print(data.shape)\n",
    "data.head()"
   ]
  },
  {
   "cell_type": "code",
   "execution_count": 23,
   "metadata": {},
   "outputs": [
    {
     "data": {
      "text/plain": [
       "Index(['Date', 'Tournament', 'W/L', 'Side', 'Vs_Team', 'Game_Length',\n",
       "       'Champion', 'Vs_Champion', 'Kills', 'Deaths', 'Assists', 'KDA',\n",
       "       'Spells', 'CS', 'Delta_CS', 'Items', 'Date_parsed',\n",
       "       'tournaments_played', 'date', 'blue_side_team', 'red_side_team',\n",
       "       'winner', 'blue_side_bans', 'red_side_bans', 'blue_side_picks',\n",
       "       'red_side_picks', 'blue_side_roster', 'red_side_roster',\n",
       "       'tournament_curr_total_games', 'tournament_curr_wins',\n",
       "       'tournament_curr_losses', 'tournament_curr_win_percentage',\n",
       "       'tournament_type', 'teams_region', 'teammate_role_top',\n",
       "       'teammate_role_jungle', 'teammate_role_mid', 'teammate_role_adc',\n",
       "       'teammate_role_support', 'enemy_role_top', 'enemy_role_jungle',\n",
       "       'enemy_role_mid', 'enemy_role_adc', 'enemy_role_support', 'bans',\n",
       "       'teammate_top_champion', 'teammate_jungle_champion',\n",
       "       'teammate_mid_champion', 'teammate_adc_champion',\n",
       "       'teammate_support_champion', 'opponent_top_champion',\n",
       "       'opponent_jungle_champion', 'opponent_mid_champion',\n",
       "       'opponent_adc_champion', 'opponent_support_champion',\n",
       "       'teammate_top_ign', 'teammate_jungle_ign', 'teammate_mid_ign',\n",
       "       'teammate_adc_ign', 'teammate_support_ign', 'opponent_top_ign',\n",
       "       'opponent_jungle_ign', 'opponent_mid_ign', 'opponent_adc_ign',\n",
       "       'opponent_support_ign'],\n",
       "      dtype='object')"
      ]
     },
     "execution_count": 23,
     "metadata": {},
     "output_type": "execute_result"
    }
   ],
   "source": [
    "data.columns"
   ]
  },
  {
   "cell_type": "markdown",
   "metadata": {},
   "source": [
    "# Feature Engineer"
   ]
  },
  {
   "cell_type": "markdown",
   "metadata": {},
   "source": [
    "## add \"Team's Damage Composition\""
   ]
  },
  {
   "cell_type": "code",
   "execution_count": 24,
   "metadata": {},
   "outputs": [],
   "source": [
    "data[[\"blue_physical_damage_perc\",\n",
    "      \"blue_magic_damage_perc\",\n",
    "      \"blue_true_damage_perc\",\n",
    "      \"red_physical_damage_perc\",\n",
    "      \"red_magic_damage_perc\",\n",
    "      \"red_true_damage_perc\"]] = data.apply(get_damage_profile_composition, axis=1, result_type=\"expand\")"
   ]
  },
  {
   "cell_type": "markdown",
   "metadata": {},
   "source": [
    "# Preprocess"
   ]
  },
  {
   "cell_type": "code",
   "execution_count": 25,
   "metadata": {},
   "outputs": [],
   "source": [
    "cols_to_use = [\n",
    "    \"Side\",\n",
    "    \"tournament_curr_win_percentage\",\n",
    "    \"teams_region\",\n",
    "    \"teammate_role_top\",\n",
    "    \"teammate_role_jungle\",\n",
    "    \"teammate_role_mid\",\n",
    "    \"teammate_role_adc\",\n",
    "    \"teammate_role_support\",\n",
    "    \"enemy_role_top\",\n",
    "    \"enemy_role_jungle\",\n",
    "    \"enemy_role_mid\",\n",
    "    \"enemy_role_adc\",\n",
    "    \"enemy_role_support\",\n",
    "    \"tournament_type\",\n",
    "    \"blue_physical_damage_perc\",\n",
    "    \"blue_magic_damage_perc\",\n",
    "    \"blue_true_damage_perc\",\n",
    "    \"red_physical_damage_perc\",\n",
    "    \"red_magic_damage_perc\",\n",
    "    \"red_true_damage_perc\",\n",
    "]\n",
    "\n",
    "X = data[cols_to_use]"
   ]
  },
  {
   "cell_type": "markdown",
   "metadata": {},
   "source": [
    "## transform target column to discrete values"
   ]
  },
  {
   "cell_type": "code",
   "execution_count": 26,
   "metadata": {},
   "outputs": [],
   "source": [
    "y = data[\"W/L\"]\n",
    "def transform_game_result(game_result):\n",
    "    if game_result.lower() == \"win\":\n",
    "        return 1\n",
    "    elif game_result.lower() == \"loss\":\n",
    "        return 0\n",
    "    else:\n",
    "        raise ValueError(\"\\\"W/L\\\" column has invalid values\")\n",
    "y = y.transform(transform_game_result)"
   ]
  },
  {
   "cell_type": "markdown",
   "metadata": {},
   "source": [
    "## create training, dev, and test set"
   ]
  },
  {
   "cell_type": "code",
   "execution_count": 27,
   "metadata": {},
   "outputs": [],
   "source": [
    "# Train Set is 60% of entire data set\n",
    "# Dev Set is 20% of entire data set\n",
    "# Test Set is 20% of entire data set\n",
    "X_train, X_test, y_train, y_test = train_test_split(X, y, train_size=0.8, test_size=0.2, random_state=RANDOM_STATE)\n",
    "\n",
    "X_train, X_dev, y_train, y_dev = train_test_split(X_train, y_train, train_size=0.75, test_size=0.25, random_state=RANDOM_STATE)"
   ]
  },
  {
   "cell_type": "markdown",
   "metadata": {},
   "source": [
    "## get categorical cols"
   ]
  },
  {
   "cell_type": "code",
   "execution_count": 28,
   "metadata": {},
   "outputs": [
    {
     "name": "stdout",
     "output_type": "stream",
     "text": [
      "categorical_cols = ['Side', 'teams_region', 'teammate_role_top', 'teammate_role_jungle', 'teammate_role_mid', 'teammate_role_adc', 'teammate_role_support', 'enemy_role_top', 'enemy_role_jungle', 'enemy_role_mid', 'enemy_role_adc', 'enemy_role_support', 'tournament_type']\n",
      "\n"
     ]
    }
   ],
   "source": [
    "categorical_cols = [col for col in X_train.columns if X_train[col].dtype == \"object\"]\n",
    "print(f\"categorical_cols = {categorical_cols}\\n\")"
   ]
  }
 ],
 "metadata": {
  "kernelspec": {
   "display_name": "Python 3.7.4 ('.venv': venv)",
   "language": "python",
   "name": "python3"
  },
  "language_info": {
   "codemirror_mode": {
    "name": "ipython",
    "version": 3
   },
   "file_extension": ".py",
   "mimetype": "text/x-python",
   "name": "python",
   "nbconvert_exporter": "python",
   "pygments_lexer": "ipython3",
   "version": "3.7.4"
  },
  "orig_nbformat": 4,
  "vscode": {
   "interpreter": {
    "hash": "1920d7ec77403009ba0308836b7e203e7c3913f8a56778c2faa31a2088572210"
   }
  }
 },
 "nbformat": 4,
 "nbformat_minor": 2
}
