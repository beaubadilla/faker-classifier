{
 "cells": [
  {
   "cell_type": "markdown",
   "metadata": {},
   "source": [
    "# Imports"
   ]
  },
  {
   "cell_type": "code",
   "execution_count": 1,
   "metadata": {},
   "outputs": [
    {
     "name": "stderr",
     "output_type": "stream",
     "text": [
      "2022-09-06 18:47:42.808264: W tensorflow/stream_executor/platform/default/dso_loader.cc:64] Could not load dynamic library 'libcudart.so.11.0'; dlerror: libcudart.so.11.0: cannot open shared object file: No such file or directory\n",
      "2022-09-06 18:47:42.808304: I tensorflow/stream_executor/cuda/cudart_stub.cc:29] Ignore above cudart dlerror if you do not have a GPU set up on your machine.\n"
     ]
    }
   ],
   "source": [
    "# Built-In\n",
    "from importlib import reload\n",
    "\n",
    "# 3rd party\n",
    "import pandas\n",
    "from sklearn.compose import ColumnTransformer\n",
    "from sklearn.model_selection import train_test_split, GridSearchCV\n",
    "from sklearn.pipeline import Pipeline\n",
    "from sklearn.preprocessing import OneHotEncoder\n",
    "from tensorflow import keras\n",
    "from keras import layers\n",
    "from keras.models import Model, Sequential\n",
    "\n",
    "# from keras.wrappers.scikit_learn import KerasClassifier\n",
    "from scikeras.wrappers import KerasClassifier\n",
    "\n",
    "# In-House\n"
   ]
  },
  {
   "cell_type": "markdown",
   "metadata": {},
   "source": [
    "## Intra\n",
    "Separated because we need to reload often"
   ]
  },
  {
   "cell_type": "code",
   "execution_count": 2,
   "metadata": {},
   "outputs": [
    {
     "data": {
      "text/plain": [
       "<module 'helpers' from '/home/beaujb/github/faker-classifier/helpers.py'>"
      ]
     },
     "execution_count": 2,
     "metadata": {},
     "output_type": "execute_result"
    }
   ],
   "source": [
    "import helpers\n",
    "from helpers import get_damage_profile_composition\n",
    "\n",
    "reload(helpers)"
   ]
  },
  {
   "cell_type": "markdown",
   "metadata": {},
   "source": [
    "# Globals"
   ]
  },
  {
   "cell_type": "code",
   "execution_count": 3,
   "metadata": {},
   "outputs": [],
   "source": [
    "RANDOM_STATE = 30"
   ]
  },
  {
   "cell_type": "markdown",
   "metadata": {},
   "source": [
    "# Load Data"
   ]
  },
  {
   "cell_type": "code",
   "execution_count": 4,
   "metadata": {},
   "outputs": [
    {
     "name": "stdout",
     "output_type": "stream",
     "text": [
      "Loading \"./merged9.csv\"\n",
      "Finish loading.\n",
      "(987, 65)\n"
     ]
    },
    {
     "data": {
      "text/html": [
       "<div>\n",
       "<style scoped>\n",
       "    .dataframe tbody tr th:only-of-type {\n",
       "        vertical-align: middle;\n",
       "    }\n",
       "\n",
       "    .dataframe tbody tr th {\n",
       "        vertical-align: top;\n",
       "    }\n",
       "\n",
       "    .dataframe thead th {\n",
       "        text-align: right;\n",
       "    }\n",
       "</style>\n",
       "<table border=\"1\" class=\"dataframe\">\n",
       "  <thead>\n",
       "    <tr style=\"text-align: right;\">\n",
       "      <th></th>\n",
       "      <th>Date</th>\n",
       "      <th>Tournament</th>\n",
       "      <th>W/L</th>\n",
       "      <th>Side</th>\n",
       "      <th>Vs_Team</th>\n",
       "      <th>Game_Length</th>\n",
       "      <th>Champion</th>\n",
       "      <th>Vs_Champion</th>\n",
       "      <th>Kills</th>\n",
       "      <th>Deaths</th>\n",
       "      <th>...</th>\n",
       "      <th>teammate_top_ign</th>\n",
       "      <th>teammate_jungle_ign</th>\n",
       "      <th>teammate_mid_ign</th>\n",
       "      <th>teammate_adc_ign</th>\n",
       "      <th>teammate_support_ign</th>\n",
       "      <th>opponent_top_ign</th>\n",
       "      <th>opponent_jungle_ign</th>\n",
       "      <th>opponent_mid_ign</th>\n",
       "      <th>opponent_adc_ign</th>\n",
       "      <th>opponent_support_ign</th>\n",
       "    </tr>\n",
       "  </thead>\n",
       "  <tbody>\n",
       "    <tr>\n",
       "      <th>0</th>\n",
       "      <td>2013-04-06 10:30:00</td>\n",
       "      <td>Korea,Champions 2013 Spring</td>\n",
       "      <td>Win</td>\n",
       "      <td>Red</td>\n",
       "      <td>CJ Entus Blaze</td>\n",
       "      <td>35:42</td>\n",
       "      <td>Nidalee</td>\n",
       "      <td>Kha'Zix</td>\n",
       "      <td>6</td>\n",
       "      <td>0</td>\n",
       "      <td>...</td>\n",
       "      <td>Impact</td>\n",
       "      <td>bengi</td>\n",
       "      <td>Faker</td>\n",
       "      <td>Piglet</td>\n",
       "      <td>PoohManDu</td>\n",
       "      <td>Flame</td>\n",
       "      <td>Helios (Shin Dong-jin)</td>\n",
       "      <td>Ambition</td>\n",
       "      <td>Cpt Jack</td>\n",
       "      <td>Lustboy</td>\n",
       "    </tr>\n",
       "    <tr>\n",
       "      <th>1</th>\n",
       "      <td>2013-04-06 10:30:01</td>\n",
       "      <td>Korea,Champions 2013 Spring</td>\n",
       "      <td>Win</td>\n",
       "      <td>Blue</td>\n",
       "      <td>CJ Entus Blaze</td>\n",
       "      <td>35:23</td>\n",
       "      <td>Karthus</td>\n",
       "      <td>Diana</td>\n",
       "      <td>12</td>\n",
       "      <td>2</td>\n",
       "      <td>...</td>\n",
       "      <td>Impact</td>\n",
       "      <td>bengi</td>\n",
       "      <td>Faker</td>\n",
       "      <td>Piglet</td>\n",
       "      <td>PoohManDu</td>\n",
       "      <td>Flame</td>\n",
       "      <td>Helios (Shin Dong-jin)</td>\n",
       "      <td>Ambition</td>\n",
       "      <td>Cpt Jack</td>\n",
       "      <td>Lustboy</td>\n",
       "    </tr>\n",
       "    <tr>\n",
       "      <th>2</th>\n",
       "      <td>2013-04-12 09:30:00</td>\n",
       "      <td>Korea,Champions 2013 Spring</td>\n",
       "      <td>Loss</td>\n",
       "      <td>Red</td>\n",
       "      <td>NaJin Sword</td>\n",
       "      <td>28:49</td>\n",
       "      <td>Lux</td>\n",
       "      <td>Twisted Fate</td>\n",
       "      <td>2</td>\n",
       "      <td>6</td>\n",
       "      <td>...</td>\n",
       "      <td>Impact</td>\n",
       "      <td>bengi</td>\n",
       "      <td>Faker</td>\n",
       "      <td>Piglet</td>\n",
       "      <td>PoohManDu</td>\n",
       "      <td>MakNooN</td>\n",
       "      <td>watch</td>\n",
       "      <td>SSONG</td>\n",
       "      <td>PraY</td>\n",
       "      <td>Cain</td>\n",
       "    </tr>\n",
       "    <tr>\n",
       "      <th>3</th>\n",
       "      <td>2013-04-12 09:30:01</td>\n",
       "      <td>Korea,Champions 2013 Spring</td>\n",
       "      <td>Win</td>\n",
       "      <td>Blue</td>\n",
       "      <td>NaJin Sword</td>\n",
       "      <td>33:24</td>\n",
       "      <td>Twisted Fate</td>\n",
       "      <td>Zilean</td>\n",
       "      <td>7</td>\n",
       "      <td>3</td>\n",
       "      <td>...</td>\n",
       "      <td>Impact</td>\n",
       "      <td>bengi</td>\n",
       "      <td>Faker</td>\n",
       "      <td>Piglet</td>\n",
       "      <td>PoohManDu</td>\n",
       "      <td>MakNooN</td>\n",
       "      <td>watch</td>\n",
       "      <td>SSONG</td>\n",
       "      <td>PraY</td>\n",
       "      <td>Cain</td>\n",
       "    </tr>\n",
       "    <tr>\n",
       "      <th>4</th>\n",
       "      <td>2013-04-17 09:30:00</td>\n",
       "      <td>Korea,Champions 2013 Spring</td>\n",
       "      <td>Win</td>\n",
       "      <td>Blue</td>\n",
       "      <td>MVP Blue</td>\n",
       "      <td>38:43</td>\n",
       "      <td>Jayce</td>\n",
       "      <td>Kha'Zix</td>\n",
       "      <td>6</td>\n",
       "      <td>3</td>\n",
       "      <td>...</td>\n",
       "      <td>Impact</td>\n",
       "      <td>bengi</td>\n",
       "      <td>Faker</td>\n",
       "      <td>Piglet</td>\n",
       "      <td>PoohManDu</td>\n",
       "      <td>Cheonju</td>\n",
       "      <td>ChuNyang</td>\n",
       "      <td>Easyhoon</td>\n",
       "      <td>Deft</td>\n",
       "      <td>FLahm</td>\n",
       "    </tr>\n",
       "  </tbody>\n",
       "</table>\n",
       "<p>5 rows × 65 columns</p>\n",
       "</div>"
      ],
      "text/plain": [
       "                  Date                   Tournament   W/L  Side  \\\n",
       "0  2013-04-06 10:30:00  Korea,Champions 2013 Spring   Win   Red   \n",
       "1  2013-04-06 10:30:01  Korea,Champions 2013 Spring   Win  Blue   \n",
       "2  2013-04-12 09:30:00  Korea,Champions 2013 Spring  Loss   Red   \n",
       "3  2013-04-12 09:30:01  Korea,Champions 2013 Spring   Win  Blue   \n",
       "4  2013-04-17 09:30:00  Korea,Champions 2013 Spring   Win  Blue   \n",
       "\n",
       "          Vs_Team Game_Length      Champion   Vs_Champion  Kills  Deaths  ...  \\\n",
       "0  CJ Entus Blaze       35:42       Nidalee       Kha'Zix      6       0  ...   \n",
       "1  CJ Entus Blaze       35:23       Karthus         Diana     12       2  ...   \n",
       "2     NaJin Sword       28:49           Lux  Twisted Fate      2       6  ...   \n",
       "3     NaJin Sword       33:24  Twisted Fate        Zilean      7       3  ...   \n",
       "4        MVP Blue       38:43         Jayce       Kha'Zix      6       3  ...   \n",
       "\n",
       "   teammate_top_ign  teammate_jungle_ign teammate_mid_ign  teammate_adc_ign  \\\n",
       "0            Impact                bengi            Faker            Piglet   \n",
       "1            Impact                bengi            Faker            Piglet   \n",
       "2            Impact                bengi            Faker            Piglet   \n",
       "3            Impact                bengi            Faker            Piglet   \n",
       "4            Impact                bengi            Faker            Piglet   \n",
       "\n",
       "  teammate_support_ign opponent_top_ign     opponent_jungle_ign  \\\n",
       "0            PoohManDu            Flame  Helios (Shin Dong-jin)   \n",
       "1            PoohManDu            Flame  Helios (Shin Dong-jin)   \n",
       "2            PoohManDu          MakNooN                   watch   \n",
       "3            PoohManDu          MakNooN                   watch   \n",
       "4            PoohManDu          Cheonju                ChuNyang   \n",
       "\n",
       "   opponent_mid_ign opponent_adc_ign opponent_support_ign  \n",
       "0          Ambition         Cpt Jack              Lustboy  \n",
       "1          Ambition         Cpt Jack              Lustboy  \n",
       "2             SSONG             PraY                 Cain  \n",
       "3             SSONG             PraY                 Cain  \n",
       "4          Easyhoon             Deft                FLahm  \n",
       "\n",
       "[5 rows x 65 columns]"
      ]
     },
     "execution_count": 4,
     "metadata": {},
     "output_type": "execute_result"
    }
   ],
   "source": [
    "file_path: str = \"./merged9.csv\"\n",
    "# Load csv\n",
    "print(f'Loading \"{file_path}\"')\n",
    "data: pandas.DataFrame = pandas.read_csv(file_path)\n",
    "print(f\"Finish loading.\")\n",
    "print(data.shape)\n",
    "data.head()"
   ]
  },
  {
   "cell_type": "code",
   "execution_count": 5,
   "metadata": {},
   "outputs": [
    {
     "data": {
      "text/plain": [
       "Index(['Date', 'Tournament', 'W/L', 'Side', 'Vs_Team', 'Game_Length',\n",
       "       'Champion', 'Vs_Champion', 'Kills', 'Deaths', 'Assists', 'KDA',\n",
       "       'Spells', 'CS', 'Delta_CS', 'Items', 'Date_parsed',\n",
       "       'tournaments_played', 'date', 'blue_side_team', 'red_side_team',\n",
       "       'winner', 'blue_side_bans', 'red_side_bans', 'blue_side_picks',\n",
       "       'red_side_picks', 'blue_side_roster', 'red_side_roster',\n",
       "       'tournament_curr_total_games', 'tournament_curr_wins',\n",
       "       'tournament_curr_losses', 'tournament_curr_win_percentage',\n",
       "       'tournament_type', 'teams_region', 'teammate_role_top',\n",
       "       'teammate_role_jungle', 'teammate_role_mid', 'teammate_role_adc',\n",
       "       'teammate_role_support', 'enemy_role_top', 'enemy_role_jungle',\n",
       "       'enemy_role_mid', 'enemy_role_adc', 'enemy_role_support', 'bans',\n",
       "       'teammate_top_champion', 'teammate_jungle_champion',\n",
       "       'teammate_mid_champion', 'teammate_adc_champion',\n",
       "       'teammate_support_champion', 'opponent_top_champion',\n",
       "       'opponent_jungle_champion', 'opponent_mid_champion',\n",
       "       'opponent_adc_champion', 'opponent_support_champion',\n",
       "       'teammate_top_ign', 'teammate_jungle_ign', 'teammate_mid_ign',\n",
       "       'teammate_adc_ign', 'teammate_support_ign', 'opponent_top_ign',\n",
       "       'opponent_jungle_ign', 'opponent_mid_ign', 'opponent_adc_ign',\n",
       "       'opponent_support_ign'],\n",
       "      dtype='object')"
      ]
     },
     "execution_count": 5,
     "metadata": {},
     "output_type": "execute_result"
    }
   ],
   "source": [
    "data.columns"
   ]
  },
  {
   "cell_type": "markdown",
   "metadata": {},
   "source": [
    "# Feature Engineer"
   ]
  },
  {
   "cell_type": "markdown",
   "metadata": {},
   "source": [
    "## add \"Team's Damage Composition\""
   ]
  },
  {
   "cell_type": "code",
   "execution_count": 6,
   "metadata": {},
   "outputs": [],
   "source": [
    "data[[\"blue_physical_damage_perc\",\n",
    "      \"blue_magic_damage_perc\",\n",
    "      \"blue_true_damage_perc\",\n",
    "      \"red_physical_damage_perc\",\n",
    "      \"red_magic_damage_perc\",\n",
    "      \"red_true_damage_perc\"]] = data.apply(get_damage_profile_composition, axis=1, result_type=\"expand\")"
   ]
  },
  {
   "cell_type": "markdown",
   "metadata": {},
   "source": [
    "# Preprocess"
   ]
  },
  {
   "cell_type": "code",
   "execution_count": 7,
   "metadata": {},
   "outputs": [],
   "source": [
    "cols_to_use = [\n",
    "    \"Side\",\n",
    "    \"tournament_curr_win_percentage\",\n",
    "    \"teams_region\",\n",
    "    \"teammate_role_top\",\n",
    "    \"teammate_role_jungle\",\n",
    "    \"teammate_role_mid\",\n",
    "    \"teammate_role_adc\",\n",
    "    \"teammate_role_support\",\n",
    "    \"enemy_role_top\",\n",
    "    \"enemy_role_jungle\",\n",
    "    \"enemy_role_mid\",\n",
    "    \"enemy_role_adc\",\n",
    "    \"enemy_role_support\",\n",
    "    \"tournament_type\",\n",
    "    \"blue_physical_damage_perc\",\n",
    "    \"blue_magic_damage_perc\",\n",
    "    \"blue_true_damage_perc\",\n",
    "    \"red_physical_damage_perc\",\n",
    "    \"red_magic_damage_perc\",\n",
    "    \"red_true_damage_perc\",\n",
    "]\n",
    "\n",
    "X = data[cols_to_use]"
   ]
  },
  {
   "cell_type": "markdown",
   "metadata": {},
   "source": [
    "## transform target column to discrete values"
   ]
  },
  {
   "cell_type": "code",
   "execution_count": 8,
   "metadata": {},
   "outputs": [],
   "source": [
    "y = data[\"W/L\"]\n",
    "def transform_game_result(game_result):\n",
    "    if game_result.lower() == \"win\":\n",
    "        return 1\n",
    "    elif game_result.lower() == \"loss\":\n",
    "        return 0\n",
    "    else:\n",
    "        raise ValueError(\"\\\"W/L\\\" column has invalid values\")\n",
    "y = y.transform(transform_game_result)"
   ]
  },
  {
   "cell_type": "markdown",
   "metadata": {},
   "source": [
    "## create training, dev, and test set"
   ]
  },
  {
   "cell_type": "code",
   "execution_count": 9,
   "metadata": {},
   "outputs": [],
   "source": [
    "# Train Set is 60% of entire data set\n",
    "# Dev Set is 20% of entire data set\n",
    "# Test Set is 20% of entire data set\n",
    "X_train, X_test, y_train, y_test = train_test_split(X, y, train_size=0.8, test_size=0.2, random_state=RANDOM_STATE)\n",
    "\n",
    "X_train, X_dev, y_train, y_dev = train_test_split(X_train, y_train, train_size=0.75, test_size=0.25, random_state=RANDOM_STATE)"
   ]
  },
  {
   "cell_type": "markdown",
   "metadata": {},
   "source": [
    "## get categorical cols"
   ]
  },
  {
   "cell_type": "code",
   "execution_count": 10,
   "metadata": {},
   "outputs": [
    {
     "name": "stdout",
     "output_type": "stream",
     "text": [
      "categorical_cols = ['Side', 'teams_region', 'teammate_role_top', 'teammate_role_jungle', 'teammate_role_mid', 'teammate_role_adc', 'teammate_role_support', 'enemy_role_top', 'enemy_role_jungle', 'enemy_role_mid', 'enemy_role_adc', 'enemy_role_support', 'tournament_type']\n",
      "\n"
     ]
    }
   ],
   "source": [
    "categorical_cols = [col for col in X_train.columns if X_train[col].dtype == \"object\"]\n",
    "print(f\"categorical_cols = {categorical_cols}\\n\")"
   ]
  },
  {
   "cell_type": "markdown",
   "metadata": {},
   "source": [
    "## get numerical cols"
   ]
  },
  {
   "cell_type": "code",
   "execution_count": 11,
   "metadata": {},
   "outputs": [
    {
     "name": "stdout",
     "output_type": "stream",
     "text": [
      "numerical_cols = ['tournament_curr_win_percentage', 'blue_physical_damage_perc', 'blue_magic_damage_perc', 'blue_true_damage_perc', 'red_physical_damage_perc', 'red_magic_damage_perc', 'red_true_damage_perc']\n"
     ]
    }
   ],
   "source": [
    "# Get numerical cols\n",
    "numerical_cols = [col for col in X_train.columns\n",
    "                  if X_train[col].dtype in [\"int64\", \"float64\"]]\n",
    "print(f\"numerical_cols = {numerical_cols}\")"
   ]
  },
  {
   "cell_type": "code",
   "execution_count": 12,
   "metadata": {},
   "outputs": [],
   "source": [
    "categorical_transformer = Pipeline(steps=[\n",
    "    ('onehot', OneHotEncoder(handle_unknown=\"ignore\"))\n",
    "])\n",
    "\n",
    "preprocessor = ColumnTransformer(\n",
    "    transformers = [\n",
    "        ('cat', categorical_transformer, categorical_cols)\n",
    "    ]\n",
    ")"
   ]
  },
  {
   "cell_type": "markdown",
   "metadata": {},
   "source": [
    "# Build NN"
   ]
  },
  {
   "cell_type": "code",
   "execution_count": 13,
   "metadata": {},
   "outputs": [],
   "source": [
    "# def get_model(hidden_layer_dim, meta):\n",
    "#     n_features_in_ = meta[\"n_features_in_\"]\n",
    "#     X_shape_ = meta[\"X_shape_\"]\n",
    "#     n_classes_ = meta[\"n_classes_\"]\n",
    "#     print(f\"X_shape={X_shape_}\")\n",
    "#     model = keras.Sequential(\n",
    "#         [\n",
    "#             # layers.Dense(512, activation=\"relu\", input_shape=[X_shape_[1:]]),\n",
    "#             layers.Dropout(rate=0.5),\n",
    "#             layers.BatchNormalization(),\n",
    "#             layers.Dense(512, activation=\"relu\"),\n",
    "#             layers.Dropout(rate=0.5),\n",
    "#             layers.BatchNormalization(),\n",
    "#             # layers.Dense(512, activation='relu'),\n",
    "#             # layers.Dropout(rate=0.1),\n",
    "#             # layers.BatchNormalization(),\n",
    "#             # layers.Dense(512, activation='relu'),\n",
    "#             # layers.Dropout(rate=0.1),\n",
    "#             # layers.BatchNormalization(),\n",
    "#             layers.Dense(1, activation=\"sigmoid\"),\n",
    "#         ]\n",
    "#     )\n",
    "\n",
    "#     model.compile(\n",
    "#         optimizer=\"adam\", loss=\"binary_crossentropy\", metrics=[\"binary_accuracy\"]\n",
    "#     )\n",
    "\n",
    "#     return model\n"
   ]
  },
  {
   "cell_type": "code",
   "execution_count": 14,
   "metadata": {},
   "outputs": [],
   "source": [
    "def get_model(hidden_layer_dim, meta):\n",
    "    # note that meta is a special argument that will be\n",
    "    # handed a dict containing input metadata\n",
    "    n_features_in_ = meta[\"n_features_in_\"]\n",
    "    X_shape_ = meta[\"X_shape_\"]\n",
    "    n_classes_ = meta[\"n_classes_\"]\n",
    "\n",
    "    model = keras.Sequential(\n",
    "        [\n",
    "            layers.Dense(n_features_in_, input_shape=X_shape_[1:]),\n",
    "            layers.Dropout(rate=0.5),\n",
    "            layers.BatchNormalization(),\n",
    "            layers.Dense(512, activation=\"relu\"),\n",
    "            layers.Dropout(rate=0.5),\n",
    "            layers.BatchNormalization(),\n",
    "            # layers.Dense(512, activation='relu'),\n",
    "            # layers.Dropout(rate=0.1),\n",
    "            # layers.BatchNormalization(),\n",
    "            # layers.Dense(512, activation='relu'),\n",
    "            # layers.Dropout(rate=0.1),\n",
    "            # layers.BatchNormalization(),\n",
    "            layers.Dense(1, activation=\"sigmoid\"),\n",
    "        ]\n",
    "    )\n",
    "    return model"
   ]
  },
  {
   "cell_type": "code",
   "execution_count": 15,
   "metadata": {},
   "outputs": [],
   "source": [
    "nn = KerasClassifier(get_model, loss=\"binary_crossentropy\", hidden_layer_dim=100)"
   ]
  },
  {
   "cell_type": "code",
   "execution_count": 16,
   "metadata": {},
   "outputs": [],
   "source": [
    "early_stopping = keras.callbacks.EarlyStopping(\n",
    "    patience=30,\n",
    "    min_delta=0.001,\n",
    "    restore_best_weights=True,\n",
    ")\n",
    "\n",
    "param_grid = {\n",
    "    'nn__optimizer':['rmsprop','adam','adagrad'],\n",
    "    'nn__epochs':[4,8],\n",
    "    # 'nn__dropout':[0.1,0.2],\n",
    "    'nn__callbacks': [early_stopping]\n",
    "}"
   ]
  },
  {
   "cell_type": "code",
   "execution_count": 17,
   "metadata": {},
   "outputs": [
    {
     "name": "stderr",
     "output_type": "stream",
     "text": [
      "2022-09-06 18:47:45.264130: W tensorflow/stream_executor/platform/default/dso_loader.cc:64] Could not load dynamic library 'libcuda.so.1'; dlerror: libcuda.so.1: cannot open shared object file: No such file or directory\n",
      "2022-09-06 18:47:45.264171: W tensorflow/stream_executor/cuda/cuda_driver.cc:269] failed call to cuInit: UNKNOWN ERROR (303)\n",
      "2022-09-06 18:47:45.264189: I tensorflow/stream_executor/cuda/cuda_diagnostics.cc:156] kernel driver does not appear to be running on this host (DESKTOP-0D3E607): /proc/driver/nvidia/version does not exist\n",
      "2022-09-06 18:47:45.264368: I tensorflow/core/platform/cpu_feature_guard.cc:193] This TensorFlow binary is optimized with oneAPI Deep Neural Network Library (oneDNN) to use the following CPU instructions in performance-critical operations:  AVX2 FMA\n",
      "To enable them in other operations, rebuild TensorFlow with the appropriate compiler flags.\n",
      "/home/beaujb/github/faker-classifier/.venv/lib/python3.8/site-packages/tensorflow/python/framework/indexed_slices.py:444: UserWarning: Converting sparse IndexedSlices(IndexedSlices(indices=Tensor(\"gradient_tape/sequential/dense/embedding_lookup_sparse/Reshape_1:0\", shape=(None,), dtype=int32), values=Tensor(\"gradient_tape/sequential/dense/embedding_lookup_sparse/Reshape:0\", shape=(None, 131), dtype=float32), dense_shape=Tensor(\"gradient_tape/sequential/dense/embedding_lookup_sparse/Cast:0\", shape=(2,), dtype=int32))) to a dense Tensor of unknown shape. This may consume a large amount of memory.\n",
      "  warnings.warn(\n"
     ]
    },
    {
     "name": "stdout",
     "output_type": "stream",
     "text": [
      "19/19 [==============================] - 1s 4ms/step - loss: 0.8577\n"
     ]
    },
    {
     "data": {
      "text/html": [
       "<style>#sk-container-id-1 {color: black;background-color: white;}#sk-container-id-1 pre{padding: 0;}#sk-container-id-1 div.sk-toggleable {background-color: white;}#sk-container-id-1 label.sk-toggleable__label {cursor: pointer;display: block;width: 100%;margin-bottom: 0;padding: 0.3em;box-sizing: border-box;text-align: center;}#sk-container-id-1 label.sk-toggleable__label-arrow:before {content: \"▸\";float: left;margin-right: 0.25em;color: #696969;}#sk-container-id-1 label.sk-toggleable__label-arrow:hover:before {color: black;}#sk-container-id-1 div.sk-estimator:hover label.sk-toggleable__label-arrow:before {color: black;}#sk-container-id-1 div.sk-toggleable__content {max-height: 0;max-width: 0;overflow: hidden;text-align: left;background-color: #f0f8ff;}#sk-container-id-1 div.sk-toggleable__content pre {margin: 0.2em;color: black;border-radius: 0.25em;background-color: #f0f8ff;}#sk-container-id-1 input.sk-toggleable__control:checked~div.sk-toggleable__content {max-height: 200px;max-width: 100%;overflow: auto;}#sk-container-id-1 input.sk-toggleable__control:checked~label.sk-toggleable__label-arrow:before {content: \"▾\";}#sk-container-id-1 div.sk-estimator input.sk-toggleable__control:checked~label.sk-toggleable__label {background-color: #d4ebff;}#sk-container-id-1 div.sk-label input.sk-toggleable__control:checked~label.sk-toggleable__label {background-color: #d4ebff;}#sk-container-id-1 input.sk-hidden--visually {border: 0;clip: rect(1px 1px 1px 1px);clip: rect(1px, 1px, 1px, 1px);height: 1px;margin: -1px;overflow: hidden;padding: 0;position: absolute;width: 1px;}#sk-container-id-1 div.sk-estimator {font-family: monospace;background-color: #f0f8ff;border: 1px dotted black;border-radius: 0.25em;box-sizing: border-box;margin-bottom: 0.5em;}#sk-container-id-1 div.sk-estimator:hover {background-color: #d4ebff;}#sk-container-id-1 div.sk-parallel-item::after {content: \"\";width: 100%;border-bottom: 1px solid gray;flex-grow: 1;}#sk-container-id-1 div.sk-label:hover label.sk-toggleable__label {background-color: #d4ebff;}#sk-container-id-1 div.sk-serial::before {content: \"\";position: absolute;border-left: 1px solid gray;box-sizing: border-box;top: 0;bottom: 0;left: 50%;z-index: 0;}#sk-container-id-1 div.sk-serial {display: flex;flex-direction: column;align-items: center;background-color: white;padding-right: 0.2em;padding-left: 0.2em;position: relative;}#sk-container-id-1 div.sk-item {position: relative;z-index: 1;}#sk-container-id-1 div.sk-parallel {display: flex;align-items: stretch;justify-content: center;background-color: white;position: relative;}#sk-container-id-1 div.sk-item::before, #sk-container-id-1 div.sk-parallel-item::before {content: \"\";position: absolute;border-left: 1px solid gray;box-sizing: border-box;top: 0;bottom: 0;left: 50%;z-index: -1;}#sk-container-id-1 div.sk-parallel-item {display: flex;flex-direction: column;z-index: 1;position: relative;background-color: white;}#sk-container-id-1 div.sk-parallel-item:first-child::after {align-self: flex-end;width: 50%;}#sk-container-id-1 div.sk-parallel-item:last-child::after {align-self: flex-start;width: 50%;}#sk-container-id-1 div.sk-parallel-item:only-child::after {width: 0;}#sk-container-id-1 div.sk-dashed-wrapped {border: 1px dashed gray;margin: 0 0.4em 0.5em 0.4em;box-sizing: border-box;padding-bottom: 0.4em;background-color: white;}#sk-container-id-1 div.sk-label label {font-family: monospace;font-weight: bold;display: inline-block;line-height: 1.2em;}#sk-container-id-1 div.sk-label-container {text-align: center;}#sk-container-id-1 div.sk-container {/* jupyter's `normalize.less` sets `[hidden] { display: none; }` but bootstrap.min.css set `[hidden] { display: none !important; }` so we also need the `!important` here to be able to override the default hidden behavior on the sphinx rendered scikit-learn.org. See: https://github.com/scikit-learn/scikit-learn/issues/21755 */display: inline-block !important;position: relative;}#sk-container-id-1 div.sk-text-repr-fallback {display: none;}</style><div id=\"sk-container-id-1\" class=\"sk-top-container\"><div class=\"sk-text-repr-fallback\"><pre>Pipeline(steps=[(&#x27;preprocessor&#x27;,\n",
       "                 ColumnTransformer(transformers=[(&#x27;cat&#x27;,\n",
       "                                                  Pipeline(steps=[(&#x27;onehot&#x27;,\n",
       "                                                                   OneHotEncoder(handle_unknown=&#x27;ignore&#x27;))]),\n",
       "                                                  [&#x27;Side&#x27;, &#x27;teams_region&#x27;,\n",
       "                                                   &#x27;teammate_role_top&#x27;,\n",
       "                                                   &#x27;teammate_role_jungle&#x27;,\n",
       "                                                   &#x27;teammate_role_mid&#x27;,\n",
       "                                                   &#x27;teammate_role_adc&#x27;,\n",
       "                                                   &#x27;teammate_role_support&#x27;,\n",
       "                                                   &#x27;enemy_role_top&#x27;,\n",
       "                                                   &#x27;enemy_role_jungle&#x27;,\n",
       "                                                   &#x27;enemy_role_mid&#x27;,\n",
       "                                                   &#x27;enemy_role_adc&#x27;,\n",
       "                                                   &#x27;enemy_role_support&#x27;,\n",
       "                                                   &#x27;tournament_type&#x27;])])),\n",
       "                (&#x27;nn&#x27;,\n",
       "                 KerasClassifier(hidden_layer_dim=100, loss=&#x27;binary_crossentropy&#x27;, model=&lt;function get_model at 0x7f3c745a2790&gt;))])</pre><b>In a Jupyter environment, please rerun this cell to show the HTML representation or trust the notebook. <br />On GitHub, the HTML representation is unable to render, please try loading this page with nbviewer.org.</b></div><div class=\"sk-container\" hidden><div class=\"sk-item sk-dashed-wrapped\"><div class=\"sk-label-container\"><div class=\"sk-label sk-toggleable\"><input class=\"sk-toggleable__control sk-hidden--visually\" id=\"sk-estimator-id-1\" type=\"checkbox\" ><label for=\"sk-estimator-id-1\" class=\"sk-toggleable__label sk-toggleable__label-arrow\">Pipeline</label><div class=\"sk-toggleable__content\"><pre>Pipeline(steps=[(&#x27;preprocessor&#x27;,\n",
       "                 ColumnTransformer(transformers=[(&#x27;cat&#x27;,\n",
       "                                                  Pipeline(steps=[(&#x27;onehot&#x27;,\n",
       "                                                                   OneHotEncoder(handle_unknown=&#x27;ignore&#x27;))]),\n",
       "                                                  [&#x27;Side&#x27;, &#x27;teams_region&#x27;,\n",
       "                                                   &#x27;teammate_role_top&#x27;,\n",
       "                                                   &#x27;teammate_role_jungle&#x27;,\n",
       "                                                   &#x27;teammate_role_mid&#x27;,\n",
       "                                                   &#x27;teammate_role_adc&#x27;,\n",
       "                                                   &#x27;teammate_role_support&#x27;,\n",
       "                                                   &#x27;enemy_role_top&#x27;,\n",
       "                                                   &#x27;enemy_role_jungle&#x27;,\n",
       "                                                   &#x27;enemy_role_mid&#x27;,\n",
       "                                                   &#x27;enemy_role_adc&#x27;,\n",
       "                                                   &#x27;enemy_role_support&#x27;,\n",
       "                                                   &#x27;tournament_type&#x27;])])),\n",
       "                (&#x27;nn&#x27;,\n",
       "                 KerasClassifier(hidden_layer_dim=100, loss=&#x27;binary_crossentropy&#x27;, model=&lt;function get_model at 0x7f3c745a2790&gt;))])</pre></div></div></div><div class=\"sk-serial\"><div class=\"sk-item sk-dashed-wrapped\"><div class=\"sk-label-container\"><div class=\"sk-label sk-toggleable\"><input class=\"sk-toggleable__control sk-hidden--visually\" id=\"sk-estimator-id-2\" type=\"checkbox\" ><label for=\"sk-estimator-id-2\" class=\"sk-toggleable__label sk-toggleable__label-arrow\">preprocessor: ColumnTransformer</label><div class=\"sk-toggleable__content\"><pre>ColumnTransformer(transformers=[(&#x27;cat&#x27;,\n",
       "                                 Pipeline(steps=[(&#x27;onehot&#x27;,\n",
       "                                                  OneHotEncoder(handle_unknown=&#x27;ignore&#x27;))]),\n",
       "                                 [&#x27;Side&#x27;, &#x27;teams_region&#x27;, &#x27;teammate_role_top&#x27;,\n",
       "                                  &#x27;teammate_role_jungle&#x27;, &#x27;teammate_role_mid&#x27;,\n",
       "                                  &#x27;teammate_role_adc&#x27;, &#x27;teammate_role_support&#x27;,\n",
       "                                  &#x27;enemy_role_top&#x27;, &#x27;enemy_role_jungle&#x27;,\n",
       "                                  &#x27;enemy_role_mid&#x27;, &#x27;enemy_role_adc&#x27;,\n",
       "                                  &#x27;enemy_role_support&#x27;, &#x27;tournament_type&#x27;])])</pre></div></div></div><div class=\"sk-parallel\"><div class=\"sk-parallel-item\"><div class=\"sk-item\"><div class=\"sk-label-container\"><div class=\"sk-label sk-toggleable\"><input class=\"sk-toggleable__control sk-hidden--visually\" id=\"sk-estimator-id-3\" type=\"checkbox\" ><label for=\"sk-estimator-id-3\" class=\"sk-toggleable__label sk-toggleable__label-arrow\">cat</label><div class=\"sk-toggleable__content\"><pre>[&#x27;Side&#x27;, &#x27;teams_region&#x27;, &#x27;teammate_role_top&#x27;, &#x27;teammate_role_jungle&#x27;, &#x27;teammate_role_mid&#x27;, &#x27;teammate_role_adc&#x27;, &#x27;teammate_role_support&#x27;, &#x27;enemy_role_top&#x27;, &#x27;enemy_role_jungle&#x27;, &#x27;enemy_role_mid&#x27;, &#x27;enemy_role_adc&#x27;, &#x27;enemy_role_support&#x27;, &#x27;tournament_type&#x27;]</pre></div></div></div><div class=\"sk-serial\"><div class=\"sk-item\"><div class=\"sk-serial\"><div class=\"sk-item\"><div class=\"sk-estimator sk-toggleable\"><input class=\"sk-toggleable__control sk-hidden--visually\" id=\"sk-estimator-id-4\" type=\"checkbox\" ><label for=\"sk-estimator-id-4\" class=\"sk-toggleable__label sk-toggleable__label-arrow\">OneHotEncoder</label><div class=\"sk-toggleable__content\"><pre>OneHotEncoder(handle_unknown=&#x27;ignore&#x27;)</pre></div></div></div></div></div></div></div></div></div></div><div class=\"sk-item\"><div class=\"sk-estimator sk-toggleable\"><input class=\"sk-toggleable__control sk-hidden--visually\" id=\"sk-estimator-id-5\" type=\"checkbox\" ><label for=\"sk-estimator-id-5\" class=\"sk-toggleable__label sk-toggleable__label-arrow\">KerasClassifier</label><div class=\"sk-toggleable__content\"><pre>KerasClassifier(\n",
       "\tmodel=&lt;function get_model at 0x7f3c745a2790&gt;\n",
       "\tbuild_fn=None\n",
       "\twarm_start=False\n",
       "\trandom_state=None\n",
       "\toptimizer=rmsprop\n",
       "\tloss=binary_crossentropy\n",
       "\tmetrics=None\n",
       "\tbatch_size=None\n",
       "\tvalidation_batch_size=None\n",
       "\tverbose=1\n",
       "\tcallbacks=None\n",
       "\tvalidation_split=0.0\n",
       "\tshuffle=True\n",
       "\trun_eagerly=False\n",
       "\tepochs=1\n",
       "\thidden_layer_dim=100\n",
       "\tclass_weight=None\n",
       ")</pre></div></div></div></div></div></div></div>"
      ],
      "text/plain": [
       "Pipeline(steps=[('preprocessor',\n",
       "                 ColumnTransformer(transformers=[('cat',\n",
       "                                                  Pipeline(steps=[('onehot',\n",
       "                                                                   OneHotEncoder(handle_unknown='ignore'))]),\n",
       "                                                  ['Side', 'teams_region',\n",
       "                                                   'teammate_role_top',\n",
       "                                                   'teammate_role_jungle',\n",
       "                                                   'teammate_role_mid',\n",
       "                                                   'teammate_role_adc',\n",
       "                                                   'teammate_role_support',\n",
       "                                                   'enemy_role_top',\n",
       "                                                   'enemy_role_jungle',\n",
       "                                                   'enemy_role_mid',\n",
       "                                                   'enemy_role_adc',\n",
       "                                                   'enemy_role_support',\n",
       "                                                   'tournament_type'])])),\n",
       "                ('nn',\n",
       "                 KerasClassifier(hidden_layer_dim=100, loss='binary_crossentropy', model=<function get_model at 0x7f3c745a2790>))])"
      ]
     },
     "execution_count": 17,
     "metadata": {},
     "output_type": "execute_result"
    }
   ],
   "source": [
    "nn_pipeline = Pipeline(steps=[\n",
    "    ('preprocessor', preprocessor),\n",
    "    ('nn', nn)\n",
    "])\n",
    "nn_pipeline.fit(X_train, y_train)"
   ]
  },
  {
   "cell_type": "code",
   "execution_count": 18,
   "metadata": {},
   "outputs": [],
   "source": [
    "# pipe = Pipeline([\n",
    "#     ('scale', OneHotEncoder(handle_unknown=\"ignore\")),\n",
    "#     ('nn', nn),\n",
    "# ])\n",
    "# pipe.fit(X, y)"
   ]
  },
  {
   "cell_type": "code",
   "execution_count": 19,
   "metadata": {},
   "outputs": [],
   "source": [
    "grid = GridSearchCV(nn_pipeline, cv=3, param_grid=param_grid)"
   ]
  },
  {
   "cell_type": "code",
   "execution_count": 20,
   "metadata": {},
   "outputs": [
    {
     "name": "stdout",
     "output_type": "stream",
     "text": [
      "Epoch 1/4\n"
     ]
    },
    {
     "name": "stderr",
     "output_type": "stream",
     "text": [
      "/home/beaujb/github/faker-classifier/.venv/lib/python3.8/site-packages/tensorflow/python/framework/indexed_slices.py:444: UserWarning: Converting sparse IndexedSlices(IndexedSlices(indices=Tensor(\"gradient_tape/sequential_1/dense_3/embedding_lookup_sparse/Reshape_1:0\", shape=(None,), dtype=int32), values=Tensor(\"gradient_tape/sequential_1/dense_3/embedding_lookup_sparse/Reshape:0\", shape=(None, 125), dtype=float32), dense_shape=Tensor(\"gradient_tape/sequential_1/dense_3/embedding_lookup_sparse/Cast:0\", shape=(2,), dtype=int32))) to a dense Tensor of unknown shape. This may consume a large amount of memory.\n",
      "  warnings.warn(\n"
     ]
    },
    {
     "name": "stdout",
     "output_type": "stream",
     "text": [
      " 1/13 [=>............................] - ETA: 7s - loss: 0.6596WARNING:tensorflow:Early stopping conditioned on metric `val_loss` which is not available. Available metrics are: loss\n",
      "13/13 [==============================] - 1s 3ms/step - loss: 0.8953\n",
      "Epoch 2/4\n",
      " 1/13 [=>............................] - ETA: 0s - loss: 0.6569WARNING:tensorflow:Early stopping conditioned on metric `val_loss` which is not available. Available metrics are: loss\n",
      "13/13 [==============================] - 0s 4ms/step - loss: 0.8392\n",
      "Epoch 3/4\n",
      " 1/13 [=>............................] - ETA: 0s - loss: 0.6677WARNING:tensorflow:Early stopping conditioned on metric `val_loss` which is not available. Available metrics are: loss\n",
      "13/13 [==============================] - 0s 4ms/step - loss: 0.6539\n",
      "Epoch 4/4\n",
      " 1/13 [=>............................] - ETA: 0s - loss: 0.8145WARNING:tensorflow:Early stopping conditioned on metric `val_loss` which is not available. Available metrics are: loss\n",
      "13/13 [==============================] - 0s 4ms/step - loss: 0.6853\n",
      "7/7 [==============================] - 0s 1ms/step\n",
      "Epoch 1/4\n"
     ]
    },
    {
     "name": "stderr",
     "output_type": "stream",
     "text": [
      "/home/beaujb/github/faker-classifier/.venv/lib/python3.8/site-packages/tensorflow/python/framework/indexed_slices.py:444: UserWarning: Converting sparse IndexedSlices(IndexedSlices(indices=Tensor(\"gradient_tape/sequential_2/dense_6/embedding_lookup_sparse/Reshape_1:0\", shape=(None,), dtype=int32), values=Tensor(\"gradient_tape/sequential_2/dense_6/embedding_lookup_sparse/Reshape:0\", shape=(None, 127), dtype=float32), dense_shape=Tensor(\"gradient_tape/sequential_2/dense_6/embedding_lookup_sparse/Cast:0\", shape=(2,), dtype=int32))) to a dense Tensor of unknown shape. This may consume a large amount of memory.\n",
      "  warnings.warn(\n"
     ]
    },
    {
     "name": "stdout",
     "output_type": "stream",
     "text": [
      " 1/13 [=>............................] - ETA: 8s - loss: 1.0873WARNING:tensorflow:Early stopping conditioned on metric `val_loss` which is not available. Available metrics are: loss\n",
      "13/13 [==============================] - 1s 4ms/step - loss: 0.8872\n",
      "Epoch 2/4\n",
      " 1/13 [=>............................] - ETA: 0s - loss: 0.7332WARNING:tensorflow:Early stopping conditioned on metric `val_loss` which is not available. Available metrics are: loss\n",
      "13/13 [==============================] - 0s 4ms/step - loss: 0.7721\n",
      "Epoch 3/4\n",
      " 1/13 [=>............................] - ETA: 0s - loss: 0.6549WARNING:tensorflow:Early stopping conditioned on metric `val_loss` which is not available. Available metrics are: loss\n",
      "13/13 [==============================] - 0s 4ms/step - loss: 0.7044\n",
      "Epoch 4/4\n",
      " 1/13 [=>............................] - ETA: 0s - loss: 0.9323WARNING:tensorflow:Early stopping conditioned on metric `val_loss` which is not available. Available metrics are: loss\n",
      "13/13 [==============================] - 0s 4ms/step - loss: 0.7280\n",
      "7/7 [==============================] - 0s 2ms/step\n",
      "Epoch 1/4\n"
     ]
    },
    {
     "name": "stderr",
     "output_type": "stream",
     "text": [
      "/home/beaujb/github/faker-classifier/.venv/lib/python3.8/site-packages/tensorflow/python/framework/indexed_slices.py:444: UserWarning: Converting sparse IndexedSlices(IndexedSlices(indices=Tensor(\"gradient_tape/sequential_3/dense_9/embedding_lookup_sparse/Reshape_1:0\", shape=(None,), dtype=int32), values=Tensor(\"gradient_tape/sequential_3/dense_9/embedding_lookup_sparse/Reshape:0\", shape=(None, 129), dtype=float32), dense_shape=Tensor(\"gradient_tape/sequential_3/dense_9/embedding_lookup_sparse/Cast:0\", shape=(2,), dtype=int32))) to a dense Tensor of unknown shape. This may consume a large amount of memory.\n",
      "  warnings.warn(\n"
     ]
    },
    {
     "name": "stdout",
     "output_type": "stream",
     "text": [
      " 1/13 [=>............................] - ETA: 7s - loss: 0.8990WARNING:tensorflow:Early stopping conditioned on metric `val_loss` which is not available. Available metrics are: loss\n",
      "13/13 [==============================] - 1s 4ms/step - loss: 0.8923\n",
      "Epoch 2/4\n",
      " 1/13 [=>............................] - ETA: 0s - loss: 0.7577WARNING:tensorflow:Early stopping conditioned on metric `val_loss` which is not available. Available metrics are: loss\n",
      "13/13 [==============================] - 0s 4ms/step - loss: 0.7515\n",
      "Epoch 3/4\n",
      " 1/13 [=>............................] - ETA: 0s - loss: 0.5839WARNING:tensorflow:Early stopping conditioned on metric `val_loss` which is not available. Available metrics are: loss\n",
      "13/13 [==============================] - 0s 4ms/step - loss: 0.7233\n",
      "Epoch 4/4\n",
      " 1/13 [=>............................] - ETA: 0s - loss: 0.6089WARNING:tensorflow:Early stopping conditioned on metric `val_loss` which is not available. Available metrics are: loss\n",
      "13/13 [==============================] - 0s 4ms/step - loss: 0.7239\n",
      "7/7 [==============================] - 0s 1ms/step\n",
      "Epoch 1/4\n"
     ]
    },
    {
     "name": "stderr",
     "output_type": "stream",
     "text": [
      "/home/beaujb/github/faker-classifier/.venv/lib/python3.8/site-packages/tensorflow/python/framework/indexed_slices.py:444: UserWarning: Converting sparse IndexedSlices(IndexedSlices(indices=Tensor(\"gradient_tape/sequential_4/dense_12/embedding_lookup_sparse/Reshape_1:0\", shape=(None,), dtype=int32), values=Tensor(\"gradient_tape/sequential_4/dense_12/embedding_lookup_sparse/Reshape:0\", shape=(None, 125), dtype=float32), dense_shape=Tensor(\"gradient_tape/sequential_4/dense_12/embedding_lookup_sparse/Cast:0\", shape=(2,), dtype=int32))) to a dense Tensor of unknown shape. This may consume a large amount of memory.\n",
      "  warnings.warn(\n"
     ]
    },
    {
     "name": "stdout",
     "output_type": "stream",
     "text": [
      " 1/13 [=>............................] - ETA: 6s - loss: 0.9399WARNING:tensorflow:Early stopping conditioned on metric `val_loss` which is not available. Available metrics are: loss\n",
      "13/13 [==============================] - 1s 3ms/step - loss: 0.9102\n",
      "Epoch 2/4\n",
      " 1/13 [=>............................] - ETA: 0s - loss: 0.9375WARNING:tensorflow:Early stopping conditioned on metric `val_loss` which is not available. Available metrics are: loss\n",
      "13/13 [==============================] - 0s 3ms/step - loss: 0.7142\n",
      "Epoch 3/4\n",
      " 1/13 [=>............................] - ETA: 0s - loss: 0.7287WARNING:tensorflow:Early stopping conditioned on metric `val_loss` which is not available. Available metrics are: loss\n",
      "13/13 [==============================] - 0s 3ms/step - loss: 0.7346\n",
      "Epoch 4/4\n",
      " 1/13 [=>............................] - ETA: 0s - loss: 0.8496WARNING:tensorflow:Early stopping conditioned on metric `val_loss` which is not available. Available metrics are: loss\n",
      "13/13 [==============================] - 0s 3ms/step - loss: 0.7255\n",
      "7/7 [==============================] - 0s 1ms/step\n",
      "Epoch 1/4\n"
     ]
    },
    {
     "name": "stderr",
     "output_type": "stream",
     "text": [
      "/home/beaujb/github/faker-classifier/.venv/lib/python3.8/site-packages/tensorflow/python/framework/indexed_slices.py:444: UserWarning: Converting sparse IndexedSlices(IndexedSlices(indices=Tensor(\"gradient_tape/sequential_5/dense_15/embedding_lookup_sparse/Reshape_1:0\", shape=(None,), dtype=int32), values=Tensor(\"gradient_tape/sequential_5/dense_15/embedding_lookup_sparse/Reshape:0\", shape=(None, 127), dtype=float32), dense_shape=Tensor(\"gradient_tape/sequential_5/dense_15/embedding_lookup_sparse/Cast:0\", shape=(2,), dtype=int32))) to a dense Tensor of unknown shape. This may consume a large amount of memory.\n",
      "  warnings.warn(\n"
     ]
    },
    {
     "name": "stdout",
     "output_type": "stream",
     "text": [
      " 1/13 [=>............................] - ETA: 8s - loss: 0.8148WARNING:tensorflow:Early stopping conditioned on metric `val_loss` which is not available. Available metrics are: loss\n",
      "13/13 [==============================] - 1s 4ms/step - loss: 0.8262\n",
      "Epoch 2/4\n",
      " 1/13 [=>............................] - ETA: 0s - loss: 0.7553WARNING:tensorflow:Early stopping conditioned on metric `val_loss` which is not available. Available metrics are: loss\n",
      "13/13 [==============================] - 0s 4ms/step - loss: 0.7888\n",
      "Epoch 3/4\n",
      " 1/13 [=>............................] - ETA: 0s - loss: 0.6730WARNING:tensorflow:Early stopping conditioned on metric `val_loss` which is not available. Available metrics are: loss\n",
      "13/13 [==============================] - 0s 4ms/step - loss: 0.6947\n",
      "Epoch 4/4\n",
      " 1/13 [=>............................] - ETA: 0s - loss: 0.6984WARNING:tensorflow:Early stopping conditioned on metric `val_loss` which is not available. Available metrics are: loss\n",
      "13/13 [==============================] - 0s 4ms/step - loss: 0.6508\n",
      "7/7 [==============================] - 0s 1ms/step\n",
      "Epoch 1/4\n"
     ]
    },
    {
     "name": "stderr",
     "output_type": "stream",
     "text": [
      "/home/beaujb/github/faker-classifier/.venv/lib/python3.8/site-packages/tensorflow/python/framework/indexed_slices.py:444: UserWarning: Converting sparse IndexedSlices(IndexedSlices(indices=Tensor(\"gradient_tape/sequential_6/dense_18/embedding_lookup_sparse/Reshape_1:0\", shape=(None,), dtype=int32), values=Tensor(\"gradient_tape/sequential_6/dense_18/embedding_lookup_sparse/Reshape:0\", shape=(None, 129), dtype=float32), dense_shape=Tensor(\"gradient_tape/sequential_6/dense_18/embedding_lookup_sparse/Cast:0\", shape=(2,), dtype=int32))) to a dense Tensor of unknown shape. This may consume a large amount of memory.\n",
      "  warnings.warn(\n"
     ]
    },
    {
     "name": "stdout",
     "output_type": "stream",
     "text": [
      " 1/13 [=>............................] - ETA: 6s - loss: 0.9577WARNING:tensorflow:Early stopping conditioned on metric `val_loss` which is not available. Available metrics are: loss\n",
      "13/13 [==============================] - 1s 4ms/step - loss: 0.9297\n",
      "Epoch 2/4\n",
      " 1/13 [=>............................] - ETA: 0s - loss: 0.8607WARNING:tensorflow:Early stopping conditioned on metric `val_loss` which is not available. Available metrics are: loss\n",
      "13/13 [==============================] - 0s 4ms/step - loss: 0.7612\n",
      "Epoch 3/4\n",
      " 1/13 [=>............................] - ETA: 0s - loss: 0.6638WARNING:tensorflow:Early stopping conditioned on metric `val_loss` which is not available. Available metrics are: loss\n",
      "13/13 [==============================] - 0s 4ms/step - loss: 0.6972\n",
      "Epoch 4/4\n",
      " 1/13 [=>............................] - ETA: 0s - loss: 0.7298WARNING:tensorflow:Early stopping conditioned on metric `val_loss` which is not available. Available metrics are: loss\n",
      "13/13 [==============================] - 0s 4ms/step - loss: 0.6867\n",
      "7/7 [==============================] - 0s 2ms/step\n",
      "Epoch 1/4\n"
     ]
    },
    {
     "name": "stderr",
     "output_type": "stream",
     "text": [
      "/home/beaujb/github/faker-classifier/.venv/lib/python3.8/site-packages/tensorflow/python/framework/indexed_slices.py:444: UserWarning: Converting sparse IndexedSlices(IndexedSlices(indices=Tensor(\"gradient_tape/sequential_7/dense_21/embedding_lookup_sparse/Reshape_1:0\", shape=(None,), dtype=int32), values=Tensor(\"gradient_tape/sequential_7/dense_21/embedding_lookup_sparse/Reshape:0\", shape=(None, 125), dtype=float32), dense_shape=Tensor(\"gradient_tape/sequential_7/dense_21/embedding_lookup_sparse/Cast:0\", shape=(2,), dtype=int32))) to a dense Tensor of unknown shape. This may consume a large amount of memory.\n",
      "  warnings.warn(\n"
     ]
    },
    {
     "name": "stdout",
     "output_type": "stream",
     "text": [
      " 1/13 [=>............................] - ETA: 6s - loss: 0.8884WARNING:tensorflow:Early stopping conditioned on metric `val_loss` which is not available. Available metrics are: loss\n",
      "13/13 [==============================] - 1s 3ms/step - loss: 0.9658\n",
      "Epoch 2/4\n",
      " 1/13 [=>............................] - ETA: 0s - loss: 0.8110WARNING:tensorflow:Early stopping conditioned on metric `val_loss` which is not available. Available metrics are: loss\n",
      "13/13 [==============================] - 0s 3ms/step - loss: 0.8960\n",
      "Epoch 3/4\n",
      " 1/13 [=>............................] - ETA: 0s - loss: 0.8333WARNING:tensorflow:Early stopping conditioned on metric `val_loss` which is not available. Available metrics are: loss\n",
      "13/13 [==============================] - 0s 3ms/step - loss: 0.9400\n",
      "Epoch 4/4\n",
      " 1/13 [=>............................] - ETA: 0s - loss: 0.7910WARNING:tensorflow:Early stopping conditioned on metric `val_loss` which is not available. Available metrics are: loss\n",
      "13/13 [==============================] - 0s 3ms/step - loss: 0.8559\n",
      "7/7 [==============================] - 0s 2ms/step\n",
      "Epoch 1/4\n"
     ]
    },
    {
     "name": "stderr",
     "output_type": "stream",
     "text": [
      "/home/beaujb/github/faker-classifier/.venv/lib/python3.8/site-packages/tensorflow/python/framework/indexed_slices.py:444: UserWarning: Converting sparse IndexedSlices(IndexedSlices(indices=Tensor(\"gradient_tape/sequential_8/dense_24/embedding_lookup_sparse/Reshape_1:0\", shape=(None,), dtype=int32), values=Tensor(\"gradient_tape/sequential_8/dense_24/embedding_lookup_sparse/Reshape:0\", shape=(None, 127), dtype=float32), dense_shape=Tensor(\"gradient_tape/sequential_8/dense_24/embedding_lookup_sparse/Cast:0\", shape=(2,), dtype=int32))) to a dense Tensor of unknown shape. This may consume a large amount of memory.\n",
      "  warnings.warn(\n"
     ]
    },
    {
     "name": "stdout",
     "output_type": "stream",
     "text": [
      " 1/13 [=>............................] - ETA: 6s - loss: 0.8829WARNING:tensorflow:Early stopping conditioned on metric `val_loss` which is not available. Available metrics are: loss\n",
      "13/13 [==============================] - 1s 3ms/step - loss: 0.8744\n",
      "Epoch 2/4\n",
      " 1/13 [=>............................] - ETA: 0s - loss: 0.7546WARNING:tensorflow:Early stopping conditioned on metric `val_loss` which is not available. Available metrics are: loss\n",
      "13/13 [==============================] - 0s 3ms/step - loss: 0.8051\n",
      "Epoch 3/4\n",
      " 1/13 [=>............................] - ETA: 0s - loss: 0.7973WARNING:tensorflow:Early stopping conditioned on metric `val_loss` which is not available. Available metrics are: loss\n",
      "13/13 [==============================] - 0s 3ms/step - loss: 0.8521\n",
      "Epoch 4/4\n",
      " 1/13 [=>............................] - ETA: 0s - loss: 0.7217WARNING:tensorflow:Early stopping conditioned on metric `val_loss` which is not available. Available metrics are: loss\n",
      "13/13 [==============================] - 0s 3ms/step - loss: 0.8777\n",
      "7/7 [==============================] - 0s 2ms/step\n",
      "Epoch 1/4\n"
     ]
    },
    {
     "name": "stderr",
     "output_type": "stream",
     "text": [
      "/home/beaujb/github/faker-classifier/.venv/lib/python3.8/site-packages/tensorflow/python/framework/indexed_slices.py:444: UserWarning: Converting sparse IndexedSlices(IndexedSlices(indices=Tensor(\"gradient_tape/sequential_9/dense_27/embedding_lookup_sparse/Reshape_1:0\", shape=(None,), dtype=int32), values=Tensor(\"gradient_tape/sequential_9/dense_27/embedding_lookup_sparse/Reshape:0\", shape=(None, 129), dtype=float32), dense_shape=Tensor(\"gradient_tape/sequential_9/dense_27/embedding_lookup_sparse/Cast:0\", shape=(2,), dtype=int32))) to a dense Tensor of unknown shape. This may consume a large amount of memory.\n",
      "  warnings.warn(\n"
     ]
    },
    {
     "name": "stdout",
     "output_type": "stream",
     "text": [
      " 1/13 [=>............................] - ETA: 6s - loss: 0.9790WARNING:tensorflow:Early stopping conditioned on metric `val_loss` which is not available. Available metrics are: loss\n",
      "13/13 [==============================] - 1s 3ms/step - loss: 0.9039\n",
      "Epoch 2/4\n",
      " 1/13 [=>............................] - ETA: 0s - loss: 0.9344WARNING:tensorflow:Early stopping conditioned on metric `val_loss` which is not available. Available metrics are: loss\n",
      "13/13 [==============================] - 0s 3ms/step - loss: 0.9127\n",
      "Epoch 3/4\n",
      " 1/13 [=>............................] - ETA: 0s - loss: 0.8621WARNING:tensorflow:Early stopping conditioned on metric `val_loss` which is not available. Available metrics are: loss\n",
      "13/13 [==============================] - 0s 3ms/step - loss: 0.8353\n",
      "Epoch 4/4\n",
      " 1/13 [=>............................] - ETA: 0s - loss: 0.9269WARNING:tensorflow:Early stopping conditioned on metric `val_loss` which is not available. Available metrics are: loss\n",
      "13/13 [==============================] - 0s 4ms/step - loss: 0.8362\n",
      "7/7 [==============================] - 0s 1ms/step\n",
      "Epoch 1/8\n"
     ]
    },
    {
     "name": "stderr",
     "output_type": "stream",
     "text": [
      "/home/beaujb/github/faker-classifier/.venv/lib/python3.8/site-packages/tensorflow/python/framework/indexed_slices.py:444: UserWarning: Converting sparse IndexedSlices(IndexedSlices(indices=Tensor(\"gradient_tape/sequential_10/dense_30/embedding_lookup_sparse/Reshape_1:0\", shape=(None,), dtype=int32), values=Tensor(\"gradient_tape/sequential_10/dense_30/embedding_lookup_sparse/Reshape:0\", shape=(None, 125), dtype=float32), dense_shape=Tensor(\"gradient_tape/sequential_10/dense_30/embedding_lookup_sparse/Cast:0\", shape=(2,), dtype=int32))) to a dense Tensor of unknown shape. This may consume a large amount of memory.\n",
      "  warnings.warn(\n"
     ]
    },
    {
     "name": "stdout",
     "output_type": "stream",
     "text": [
      " 1/13 [=>............................] - ETA: 8s - loss: 0.9583WARNING:tensorflow:Early stopping conditioned on metric `val_loss` which is not available. Available metrics are: loss\n",
      "13/13 [==============================] - 1s 4ms/step - loss: 0.8461\n",
      "Epoch 2/8\n",
      " 1/13 [=>............................] - ETA: 0s - loss: 0.9932WARNING:tensorflow:Early stopping conditioned on metric `val_loss` which is not available. Available metrics are: loss\n",
      "13/13 [==============================] - 0s 4ms/step - loss: 0.8026\n",
      "Epoch 3/8\n",
      " 1/13 [=>............................] - ETA: 0s - loss: 0.7676WARNING:tensorflow:Early stopping conditioned on metric `val_loss` which is not available. Available metrics are: loss\n",
      "13/13 [==============================] - 0s 4ms/step - loss: 0.7455\n",
      "Epoch 4/8\n",
      " 1/13 [=>............................] - ETA: 0s - loss: 0.5732WARNING:tensorflow:Early stopping conditioned on metric `val_loss` which is not available. Available metrics are: loss\n",
      "13/13 [==============================] - 0s 4ms/step - loss: 0.7363\n",
      "Epoch 5/8\n",
      " 1/13 [=>............................] - ETA: 0s - loss: 0.7110WARNING:tensorflow:Early stopping conditioned on metric `val_loss` which is not available. Available metrics are: loss\n",
      "13/13 [==============================] - 0s 4ms/step - loss: 0.7394\n",
      "Epoch 6/8\n",
      " 1/13 [=>............................] - ETA: 0s - loss: 0.7255WARNING:tensorflow:Early stopping conditioned on metric `val_loss` which is not available. Available metrics are: loss\n",
      "13/13 [==============================] - 0s 4ms/step - loss: 0.7217\n",
      "Epoch 7/8\n",
      " 1/13 [=>............................] - ETA: 0s - loss: 0.6338WARNING:tensorflow:Early stopping conditioned on metric `val_loss` which is not available. Available metrics are: loss\n",
      "13/13 [==============================] - 0s 4ms/step - loss: 0.6790\n",
      "Epoch 8/8\n",
      " 1/13 [=>............................] - ETA: 0s - loss: 0.5931WARNING:tensorflow:Early stopping conditioned on metric `val_loss` which is not available. Available metrics are: loss\n",
      "13/13 [==============================] - 0s 4ms/step - loss: 0.6959\n",
      "7/7 [==============================] - 0s 1ms/step\n",
      "Epoch 1/8\n"
     ]
    },
    {
     "name": "stderr",
     "output_type": "stream",
     "text": [
      "/home/beaujb/github/faker-classifier/.venv/lib/python3.8/site-packages/tensorflow/python/framework/indexed_slices.py:444: UserWarning: Converting sparse IndexedSlices(IndexedSlices(indices=Tensor(\"gradient_tape/sequential_11/dense_33/embedding_lookup_sparse/Reshape_1:0\", shape=(None,), dtype=int32), values=Tensor(\"gradient_tape/sequential_11/dense_33/embedding_lookup_sparse/Reshape:0\", shape=(None, 127), dtype=float32), dense_shape=Tensor(\"gradient_tape/sequential_11/dense_33/embedding_lookup_sparse/Cast:0\", shape=(2,), dtype=int32))) to a dense Tensor of unknown shape. This may consume a large amount of memory.\n",
      "  warnings.warn(\n"
     ]
    },
    {
     "name": "stdout",
     "output_type": "stream",
     "text": [
      "13/13 [==============================] - ETA: 0s - loss: 0.8469WARNING:tensorflow:Early stopping conditioned on metric `val_loss` which is not available. Available metrics are: loss\n",
      "13/13 [==============================] - 1s 4ms/step - loss: 0.8469\n",
      "Epoch 2/8\n",
      " 1/13 [=>............................] - ETA: 0s - loss: 0.8747WARNING:tensorflow:Early stopping conditioned on metric `val_loss` which is not available. Available metrics are: loss\n",
      "13/13 [==============================] - 0s 4ms/step - loss: 0.7683\n",
      "Epoch 3/8\n",
      " 1/13 [=>............................] - ETA: 0s - loss: 0.7269WARNING:tensorflow:Early stopping conditioned on metric `val_loss` which is not available. Available metrics are: loss\n",
      "13/13 [==============================] - 0s 4ms/step - loss: 0.7926\n",
      "Epoch 4/8\n",
      " 1/13 [=>............................] - ETA: 0s - loss: 0.6102WARNING:tensorflow:Early stopping conditioned on metric `val_loss` which is not available. Available metrics are: loss\n",
      "13/13 [==============================] - 0s 4ms/step - loss: 0.7242\n",
      "Epoch 5/8\n",
      " 1/13 [=>............................] - ETA: 0s - loss: 0.7047WARNING:tensorflow:Early stopping conditioned on metric `val_loss` which is not available. Available metrics are: loss\n",
      "13/13 [==============================] - 0s 4ms/step - loss: 0.6784\n",
      "Epoch 6/8\n",
      " 1/13 [=>............................] - ETA: 0s - loss: 0.6355WARNING:tensorflow:Early stopping conditioned on metric `val_loss` which is not available. Available metrics are: loss\n",
      "13/13 [==============================] - 0s 4ms/step - loss: 0.6497\n",
      "Epoch 7/8\n",
      " 1/13 [=>............................] - ETA: 0s - loss: 0.6541WARNING:tensorflow:Early stopping conditioned on metric `val_loss` which is not available. Available metrics are: loss\n",
      "13/13 [==============================] - 0s 4ms/step - loss: 0.6589\n",
      "Epoch 8/8\n",
      " 1/13 [=>............................] - ETA: 0s - loss: 0.5946WARNING:tensorflow:Early stopping conditioned on metric `val_loss` which is not available. Available metrics are: loss\n",
      "13/13 [==============================] - 0s 4ms/step - loss: 0.6876\n",
      "7/7 [==============================] - 0s 1ms/step\n",
      "Epoch 1/8\n"
     ]
    },
    {
     "name": "stderr",
     "output_type": "stream",
     "text": [
      "/home/beaujb/github/faker-classifier/.venv/lib/python3.8/site-packages/tensorflow/python/framework/indexed_slices.py:444: UserWarning: Converting sparse IndexedSlices(IndexedSlices(indices=Tensor(\"gradient_tape/sequential_12/dense_36/embedding_lookup_sparse/Reshape_1:0\", shape=(None,), dtype=int32), values=Tensor(\"gradient_tape/sequential_12/dense_36/embedding_lookup_sparse/Reshape:0\", shape=(None, 129), dtype=float32), dense_shape=Tensor(\"gradient_tape/sequential_12/dense_36/embedding_lookup_sparse/Cast:0\", shape=(2,), dtype=int32))) to a dense Tensor of unknown shape. This may consume a large amount of memory.\n",
      "  warnings.warn(\n"
     ]
    },
    {
     "name": "stdout",
     "output_type": "stream",
     "text": [
      " 1/13 [=>............................] - ETA: 10s - loss: 0.8859WARNING:tensorflow:Early stopping conditioned on metric `val_loss` which is not available. Available metrics are: loss\n",
      "13/13 [==============================] - 1s 4ms/step - loss: 0.8877\n",
      "Epoch 2/8\n",
      " 1/13 [=>............................] - ETA: 0s - loss: 0.7535WARNING:tensorflow:Early stopping conditioned on metric `val_loss` which is not available. Available metrics are: loss\n",
      "13/13 [==============================] - 0s 4ms/step - loss: 0.7258\n",
      "Epoch 3/8\n",
      " 1/13 [=>............................] - ETA: 0s - loss: 0.8418WARNING:tensorflow:Early stopping conditioned on metric `val_loss` which is not available. Available metrics are: loss\n",
      "13/13 [==============================] - 0s 4ms/step - loss: 0.7220\n",
      "Epoch 4/8\n",
      " 1/13 [=>............................] - ETA: 0s - loss: 0.8701WARNING:tensorflow:Early stopping conditioned on metric `val_loss` which is not available. Available metrics are: loss\n",
      "13/13 [==============================] - 0s 4ms/step - loss: 0.7412\n",
      "Epoch 5/8\n",
      " 1/13 [=>............................] - ETA: 0s - loss: 0.5102WARNING:tensorflow:Early stopping conditioned on metric `val_loss` which is not available. Available metrics are: loss\n",
      "13/13 [==============================] - 0s 4ms/step - loss: 0.6780\n",
      "Epoch 6/8\n",
      " 1/13 [=>............................] - ETA: 0s - loss: 0.7528WARNING:tensorflow:Early stopping conditioned on metric `val_loss` which is not available. Available metrics are: loss\n",
      "13/13 [==============================] - 0s 4ms/step - loss: 0.6997\n",
      "Epoch 7/8\n",
      " 1/13 [=>............................] - ETA: 0s - loss: 0.5037WARNING:tensorflow:Early stopping conditioned on metric `val_loss` which is not available. Available metrics are: loss\n",
      "13/13 [==============================] - 0s 4ms/step - loss: 0.6770\n",
      "Epoch 8/8\n",
      " 1/13 [=>............................] - ETA: 0s - loss: 0.5647WARNING:tensorflow:Early stopping conditioned on metric `val_loss` which is not available. Available metrics are: loss\n",
      "13/13 [==============================] - 0s 4ms/step - loss: 0.6391\n",
      "7/7 [==============================] - 0s 1ms/step\n",
      "Epoch 1/8\n"
     ]
    },
    {
     "name": "stderr",
     "output_type": "stream",
     "text": [
      "/home/beaujb/github/faker-classifier/.venv/lib/python3.8/site-packages/tensorflow/python/framework/indexed_slices.py:444: UserWarning: Converting sparse IndexedSlices(IndexedSlices(indices=Tensor(\"gradient_tape/sequential_13/dense_39/embedding_lookup_sparse/Reshape_1:0\", shape=(None,), dtype=int32), values=Tensor(\"gradient_tape/sequential_13/dense_39/embedding_lookup_sparse/Reshape:0\", shape=(None, 125), dtype=float32), dense_shape=Tensor(\"gradient_tape/sequential_13/dense_39/embedding_lookup_sparse/Cast:0\", shape=(2,), dtype=int32))) to a dense Tensor of unknown shape. This may consume a large amount of memory.\n",
      "  warnings.warn(\n"
     ]
    },
    {
     "name": "stdout",
     "output_type": "stream",
     "text": [
      " 1/13 [=>............................] - ETA: 6s - loss: 1.0019WARNING:tensorflow:Early stopping conditioned on metric `val_loss` which is not available. Available metrics are: loss\n",
      "13/13 [==============================] - 1s 3ms/step - loss: 0.8735\n",
      "Epoch 2/8\n",
      " 1/13 [=>............................] - ETA: 0s - loss: 1.0152WARNING:tensorflow:Early stopping conditioned on metric `val_loss` which is not available. Available metrics are: loss\n",
      "13/13 [==============================] - 0s 3ms/step - loss: 0.7990\n",
      "Epoch 3/8\n",
      " 1/13 [=>............................] - ETA: 0s - loss: 0.7388WARNING:tensorflow:Early stopping conditioned on metric `val_loss` which is not available. Available metrics are: loss\n",
      "13/13 [==============================] - 0s 4ms/step - loss: 0.7389\n",
      "Epoch 4/8\n",
      " 1/13 [=>............................] - ETA: 0s - loss: 0.7855WARNING:tensorflow:Early stopping conditioned on metric `val_loss` which is not available. Available metrics are: loss\n",
      "13/13 [==============================] - 0s 4ms/step - loss: 0.6922\n",
      "Epoch 5/8\n",
      " 1/13 [=>............................] - ETA: 0s - loss: 0.6918WARNING:tensorflow:Early stopping conditioned on metric `val_loss` which is not available. Available metrics are: loss\n",
      "13/13 [==============================] - 0s 4ms/step - loss: 0.6755\n",
      "Epoch 6/8\n",
      "13/13 [==============================] - ETA: 0s - loss: 0.6761WARNING:tensorflow:Early stopping conditioned on metric `val_loss` which is not available. Available metrics are: loss\n",
      "13/13 [==============================] - 0s 4ms/step - loss: 0.6761\n",
      "Epoch 7/8\n",
      " 1/13 [=>............................] - ETA: 0s - loss: 0.7298WARNING:tensorflow:Early stopping conditioned on metric `val_loss` which is not available. Available metrics are: loss\n",
      "13/13 [==============================] - 0s 4ms/step - loss: 0.7456\n",
      "Epoch 8/8\n",
      " 1/13 [=>............................] - ETA: 0s - loss: 0.6376WARNING:tensorflow:Early stopping conditioned on metric `val_loss` which is not available. Available metrics are: loss\n",
      "13/13 [==============================] - 0s 4ms/step - loss: 0.6656\n",
      "7/7 [==============================] - 0s 2ms/step\n",
      "Epoch 1/8\n"
     ]
    },
    {
     "name": "stderr",
     "output_type": "stream",
     "text": [
      "/home/beaujb/github/faker-classifier/.venv/lib/python3.8/site-packages/tensorflow/python/framework/indexed_slices.py:444: UserWarning: Converting sparse IndexedSlices(IndexedSlices(indices=Tensor(\"gradient_tape/sequential_14/dense_42/embedding_lookup_sparse/Reshape_1:0\", shape=(None,), dtype=int32), values=Tensor(\"gradient_tape/sequential_14/dense_42/embedding_lookup_sparse/Reshape:0\", shape=(None, 127), dtype=float32), dense_shape=Tensor(\"gradient_tape/sequential_14/dense_42/embedding_lookup_sparse/Cast:0\", shape=(2,), dtype=int32))) to a dense Tensor of unknown shape. This may consume a large amount of memory.\n",
      "  warnings.warn(\n"
     ]
    },
    {
     "name": "stdout",
     "output_type": "stream",
     "text": [
      " 1/13 [=>............................] - ETA: 6s - loss: 0.8826WARNING:tensorflow:Early stopping conditioned on metric `val_loss` which is not available. Available metrics are: loss\n",
      "13/13 [==============================] - 1s 4ms/step - loss: 0.8393\n",
      "Epoch 2/8\n",
      " 1/13 [=>............................] - ETA: 0s - loss: 0.9316WARNING:tensorflow:Early stopping conditioned on metric `val_loss` which is not available. Available metrics are: loss\n",
      "13/13 [==============================] - 0s 4ms/step - loss: 0.7742\n",
      "Epoch 3/8\n",
      " 1/13 [=>............................] - ETA: 0s - loss: 0.7252WARNING:tensorflow:Early stopping conditioned on metric `val_loss` which is not available. Available metrics are: loss\n",
      "13/13 [==============================] - 0s 4ms/step - loss: 0.7096\n",
      "Epoch 4/8\n",
      " 1/13 [=>............................] - ETA: 0s - loss: 0.9101WARNING:tensorflow:Early stopping conditioned on metric `val_loss` which is not available. Available metrics are: loss\n",
      "13/13 [==============================] - 0s 4ms/step - loss: 0.7134\n",
      "Epoch 5/8\n",
      " 1/13 [=>............................] - ETA: 0s - loss: 0.7326WARNING:tensorflow:Early stopping conditioned on metric `val_loss` which is not available. Available metrics are: loss\n",
      "13/13 [==============================] - 0s 4ms/step - loss: 0.6844\n",
      "Epoch 6/8\n",
      " 1/13 [=>............................] - ETA: 0s - loss: 0.6283WARNING:tensorflow:Early stopping conditioned on metric `val_loss` which is not available. Available metrics are: loss\n",
      "13/13 [==============================] - 0s 4ms/step - loss: 0.6240\n",
      "Epoch 7/8\n",
      " 1/13 [=>............................] - ETA: 0s - loss: 0.5240WARNING:tensorflow:Early stopping conditioned on metric `val_loss` which is not available. Available metrics are: loss\n",
      "13/13 [==============================] - 0s 4ms/step - loss: 0.6369\n",
      "Epoch 8/8\n",
      " 1/13 [=>............................] - ETA: 0s - loss: 0.7623WARNING:tensorflow:Early stopping conditioned on metric `val_loss` which is not available. Available metrics are: loss\n",
      "13/13 [==============================] - 0s 4ms/step - loss: 0.6621\n",
      "7/7 [==============================] - 0s 1ms/step\n",
      "Epoch 1/8\n"
     ]
    },
    {
     "name": "stderr",
     "output_type": "stream",
     "text": [
      "/home/beaujb/github/faker-classifier/.venv/lib/python3.8/site-packages/tensorflow/python/framework/indexed_slices.py:444: UserWarning: Converting sparse IndexedSlices(IndexedSlices(indices=Tensor(\"gradient_tape/sequential_15/dense_45/embedding_lookup_sparse/Reshape_1:0\", shape=(None,), dtype=int32), values=Tensor(\"gradient_tape/sequential_15/dense_45/embedding_lookup_sparse/Reshape:0\", shape=(None, 129), dtype=float32), dense_shape=Tensor(\"gradient_tape/sequential_15/dense_45/embedding_lookup_sparse/Cast:0\", shape=(2,), dtype=int32))) to a dense Tensor of unknown shape. This may consume a large amount of memory.\n",
      "  warnings.warn(\n"
     ]
    },
    {
     "name": "stdout",
     "output_type": "stream",
     "text": [
      " 1/13 [=>............................] - ETA: 6s - loss: 0.9828WARNING:tensorflow:Early stopping conditioned on metric `val_loss` which is not available. Available metrics are: loss\n",
      "13/13 [==============================] - 1s 4ms/step - loss: 0.8933\n",
      "Epoch 2/8\n",
      " 1/13 [=>............................] - ETA: 0s - loss: 0.8781WARNING:tensorflow:Early stopping conditioned on metric `val_loss` which is not available. Available metrics are: loss\n",
      "13/13 [==============================] - 0s 4ms/step - loss: 0.7405\n",
      "Epoch 3/8\n",
      " 1/13 [=>............................] - ETA: 0s - loss: 0.7807WARNING:tensorflow:Early stopping conditioned on metric `val_loss` which is not available. Available metrics are: loss\n",
      "13/13 [==============================] - 0s 4ms/step - loss: 0.6851\n",
      "Epoch 4/8\n",
      " 1/13 [=>............................] - ETA: 0s - loss: 0.9581WARNING:tensorflow:Early stopping conditioned on metric `val_loss` which is not available. Available metrics are: loss\n",
      "13/13 [==============================] - 0s 4ms/step - loss: 0.6944\n",
      "Epoch 5/8\n",
      " 1/13 [=>............................] - ETA: 0s - loss: 0.6910WARNING:tensorflow:Early stopping conditioned on metric `val_loss` which is not available. Available metrics are: loss\n",
      "13/13 [==============================] - 0s 4ms/step - loss: 0.7449\n",
      "Epoch 6/8\n",
      " 1/13 [=>............................] - ETA: 0s - loss: 0.7686WARNING:tensorflow:Early stopping conditioned on metric `val_loss` which is not available. Available metrics are: loss\n",
      "13/13 [==============================] - 0s 4ms/step - loss: 0.6896\n",
      "Epoch 7/8\n",
      " 1/13 [=>............................] - ETA: 0s - loss: 0.6895WARNING:tensorflow:Early stopping conditioned on metric `val_loss` which is not available. Available metrics are: loss\n",
      "13/13 [==============================] - 0s 4ms/step - loss: 0.6683\n",
      "Epoch 8/8\n",
      " 1/13 [=>............................] - ETA: 0s - loss: 0.7714WARNING:tensorflow:Early stopping conditioned on metric `val_loss` which is not available. Available metrics are: loss\n",
      "13/13 [==============================] - 0s 4ms/step - loss: 0.6111\n",
      "7/7 [==============================] - 0s 2ms/step\n",
      "Epoch 1/8\n"
     ]
    },
    {
     "name": "stderr",
     "output_type": "stream",
     "text": [
      "/home/beaujb/github/faker-classifier/.venv/lib/python3.8/site-packages/tensorflow/python/framework/indexed_slices.py:444: UserWarning: Converting sparse IndexedSlices(IndexedSlices(indices=Tensor(\"gradient_tape/sequential_16/dense_48/embedding_lookup_sparse/Reshape_1:0\", shape=(None,), dtype=int32), values=Tensor(\"gradient_tape/sequential_16/dense_48/embedding_lookup_sparse/Reshape:0\", shape=(None, 125), dtype=float32), dense_shape=Tensor(\"gradient_tape/sequential_16/dense_48/embedding_lookup_sparse/Cast:0\", shape=(2,), dtype=int32))) to a dense Tensor of unknown shape. This may consume a large amount of memory.\n",
      "  warnings.warn(\n"
     ]
    },
    {
     "name": "stdout",
     "output_type": "stream",
     "text": [
      " 1/13 [=>............................] - ETA: 6s - loss: 0.9955WARNING:tensorflow:Early stopping conditioned on metric `val_loss` which is not available. Available metrics are: loss\n",
      "13/13 [==============================] - 1s 3ms/step - loss: 0.8903\n",
      "Epoch 2/8\n",
      "11/13 [========================>.....] - ETA: 0s - loss: 0.9458WARNING:tensorflow:Early stopping conditioned on metric `val_loss` which is not available. Available metrics are: loss\n",
      "13/13 [==============================] - 0s 5ms/step - loss: 0.9396\n",
      "Epoch 3/8\n",
      " 1/13 [=>............................] - ETA: 0s - loss: 0.9063WARNING:tensorflow:Early stopping conditioned on metric `val_loss` which is not available. Available metrics are: loss\n",
      "13/13 [==============================] - 0s 4ms/step - loss: 0.8759\n",
      "Epoch 4/8\n",
      " 1/13 [=>............................] - ETA: 0s - loss: 0.9675WARNING:tensorflow:Early stopping conditioned on metric `val_loss` which is not available. Available metrics are: loss\n",
      "13/13 [==============================] - 0s 3ms/step - loss: 0.9011\n",
      "Epoch 5/8\n",
      " 1/13 [=>............................] - ETA: 0s - loss: 0.9696WARNING:tensorflow:Early stopping conditioned on metric `val_loss` which is not available. Available metrics are: loss\n",
      "13/13 [==============================] - 0s 3ms/step - loss: 0.8848\n",
      "Epoch 6/8\n",
      " 1/13 [=>............................] - ETA: 0s - loss: 0.9708WARNING:tensorflow:Early stopping conditioned on metric `val_loss` which is not available. Available metrics are: loss\n",
      "13/13 [==============================] - 0s 3ms/step - loss: 0.8692\n",
      "Epoch 7/8\n",
      " 1/13 [=>............................] - ETA: 0s - loss: 0.6836WARNING:tensorflow:Early stopping conditioned on metric `val_loss` which is not available. Available metrics are: loss\n",
      "13/13 [==============================] - 0s 3ms/step - loss: 0.8021\n",
      "Epoch 8/8\n",
      " 1/13 [=>............................] - ETA: 0s - loss: 0.9449WARNING:tensorflow:Early stopping conditioned on metric `val_loss` which is not available. Available metrics are: loss\n",
      "13/13 [==============================] - 0s 3ms/step - loss: 0.8878\n",
      "7/7 [==============================] - 0s 1ms/step\n",
      "Epoch 1/8\n"
     ]
    },
    {
     "name": "stderr",
     "output_type": "stream",
     "text": [
      "/home/beaujb/github/faker-classifier/.venv/lib/python3.8/site-packages/tensorflow/python/framework/indexed_slices.py:444: UserWarning: Converting sparse IndexedSlices(IndexedSlices(indices=Tensor(\"gradient_tape/sequential_17/dense_51/embedding_lookup_sparse/Reshape_1:0\", shape=(None,), dtype=int32), values=Tensor(\"gradient_tape/sequential_17/dense_51/embedding_lookup_sparse/Reshape:0\", shape=(None, 127), dtype=float32), dense_shape=Tensor(\"gradient_tape/sequential_17/dense_51/embedding_lookup_sparse/Cast:0\", shape=(2,), dtype=int32))) to a dense Tensor of unknown shape. This may consume a large amount of memory.\n",
      "  warnings.warn(\n"
     ]
    },
    {
     "name": "stdout",
     "output_type": "stream",
     "text": [
      " 1/13 [=>............................] - ETA: 6s - loss: 0.7024WARNING:tensorflow:Early stopping conditioned on metric `val_loss` which is not available. Available metrics are: loss\n",
      "13/13 [==============================] - 1s 4ms/step - loss: 0.8719\n",
      "Epoch 2/8\n",
      " 1/13 [=>............................] - ETA: 0s - loss: 0.9544WARNING:tensorflow:Early stopping conditioned on metric `val_loss` which is not available. Available metrics are: loss\n",
      "13/13 [==============================] - 0s 4ms/step - loss: 0.9059\n",
      "Epoch 3/8\n",
      " 1/13 [=>............................] - ETA: 0s - loss: 1.0801WARNING:tensorflow:Early stopping conditioned on metric `val_loss` which is not available. Available metrics are: loss\n",
      "13/13 [==============================] - 0s 4ms/step - loss: 0.8966\n",
      "Epoch 4/8\n",
      " 1/13 [=>............................] - ETA: 0s - loss: 0.9025WARNING:tensorflow:Early stopping conditioned on metric `val_loss` which is not available. Available metrics are: loss\n",
      "13/13 [==============================] - 0s 4ms/step - loss: 0.7747\n",
      "Epoch 5/8\n",
      " 1/13 [=>............................] - ETA: 0s - loss: 0.7990WARNING:tensorflow:Early stopping conditioned on metric `val_loss` which is not available. Available metrics are: loss\n",
      "13/13 [==============================] - 0s 4ms/step - loss: 0.8576\n",
      "Epoch 6/8\n",
      " 1/13 [=>............................] - ETA: 0s - loss: 0.8003WARNING:tensorflow:Early stopping conditioned on metric `val_loss` which is not available. Available metrics are: loss\n",
      "13/13 [==============================] - 0s 3ms/step - loss: 0.9134\n",
      "Epoch 7/8\n",
      " 1/13 [=>............................] - ETA: 0s - loss: 0.9249WARNING:tensorflow:Early stopping conditioned on metric `val_loss` which is not available. Available metrics are: loss\n",
      "13/13 [==============================] - 0s 3ms/step - loss: 0.7834\n",
      "Epoch 8/8\n",
      " 1/13 [=>............................] - ETA: 0s - loss: 0.9354WARNING:tensorflow:Early stopping conditioned on metric `val_loss` which is not available. Available metrics are: loss\n",
      "13/13 [==============================] - 0s 3ms/step - loss: 0.8326\n",
      "7/7 [==============================] - 0s 1ms/step\n",
      "Epoch 1/8\n"
     ]
    },
    {
     "name": "stderr",
     "output_type": "stream",
     "text": [
      "/home/beaujb/github/faker-classifier/.venv/lib/python3.8/site-packages/tensorflow/python/framework/indexed_slices.py:444: UserWarning: Converting sparse IndexedSlices(IndexedSlices(indices=Tensor(\"gradient_tape/sequential_18/dense_54/embedding_lookup_sparse/Reshape_1:0\", shape=(None,), dtype=int32), values=Tensor(\"gradient_tape/sequential_18/dense_54/embedding_lookup_sparse/Reshape:0\", shape=(None, 129), dtype=float32), dense_shape=Tensor(\"gradient_tape/sequential_18/dense_54/embedding_lookup_sparse/Cast:0\", shape=(2,), dtype=int32))) to a dense Tensor of unknown shape. This may consume a large amount of memory.\n",
      "  warnings.warn(\n"
     ]
    },
    {
     "name": "stdout",
     "output_type": "stream",
     "text": [
      " 1/13 [=>............................] - ETA: 6s - loss: 1.1951WARNING:tensorflow:Early stopping conditioned on metric `val_loss` which is not available. Available metrics are: loss\n",
      "13/13 [==============================] - 1s 4ms/step - loss: 0.9431\n",
      "Epoch 2/8\n",
      " 1/13 [=>............................] - ETA: 0s - loss: 0.9619WARNING:tensorflow:Early stopping conditioned on metric `val_loss` which is not available. Available metrics are: loss\n",
      "13/13 [==============================] - 0s 3ms/step - loss: 0.9225\n",
      "Epoch 3/8\n",
      " 1/13 [=>............................] - ETA: 0s - loss: 0.7532WARNING:tensorflow:Early stopping conditioned on metric `val_loss` which is not available. Available metrics are: loss\n",
      "13/13 [==============================] - 0s 4ms/step - loss: 0.8169\n",
      "Epoch 4/8\n",
      " 1/13 [=>............................] - ETA: 0s - loss: 0.7330WARNING:tensorflow:Early stopping conditioned on metric `val_loss` which is not available. Available metrics are: loss\n",
      "13/13 [==============================] - 0s 3ms/step - loss: 0.8672\n",
      "Epoch 5/8\n",
      " 1/13 [=>............................] - ETA: 0s - loss: 0.6661WARNING:tensorflow:Early stopping conditioned on metric `val_loss` which is not available. Available metrics are: loss\n",
      "13/13 [==============================] - 0s 4ms/step - loss: 0.8934\n",
      "Epoch 6/8\n",
      " 1/13 [=>............................] - ETA: 0s - loss: 0.9790WARNING:tensorflow:Early stopping conditioned on metric `val_loss` which is not available. Available metrics are: loss\n",
      "13/13 [==============================] - 0s 4ms/step - loss: 0.8042\n",
      "Epoch 7/8\n",
      " 1/13 [=>............................] - ETA: 0s - loss: 0.7987WARNING:tensorflow:Early stopping conditioned on metric `val_loss` which is not available. Available metrics are: loss\n",
      "13/13 [==============================] - 0s 4ms/step - loss: 0.8679\n",
      "Epoch 8/8\n",
      " 1/13 [=>............................] - ETA: 0s - loss: 0.7442WARNING:tensorflow:Early stopping conditioned on metric `val_loss` which is not available. Available metrics are: loss\n",
      "13/13 [==============================] - 0s 3ms/step - loss: 0.8419\n",
      "7/7 [==============================] - 0s 1ms/step\n",
      "Epoch 1/4\n"
     ]
    },
    {
     "name": "stderr",
     "output_type": "stream",
     "text": [
      "/home/beaujb/github/faker-classifier/.venv/lib/python3.8/site-packages/tensorflow/python/framework/indexed_slices.py:444: UserWarning: Converting sparse IndexedSlices(IndexedSlices(indices=Tensor(\"gradient_tape/sequential_19/dense_57/embedding_lookup_sparse/Reshape_1:0\", shape=(None,), dtype=int32), values=Tensor(\"gradient_tape/sequential_19/dense_57/embedding_lookup_sparse/Reshape:0\", shape=(None, 131), dtype=float32), dense_shape=Tensor(\"gradient_tape/sequential_19/dense_57/embedding_lookup_sparse/Cast:0\", shape=(2,), dtype=int32))) to a dense Tensor of unknown shape. This may consume a large amount of memory.\n",
      "  warnings.warn(\n"
     ]
    },
    {
     "name": "stdout",
     "output_type": "stream",
     "text": [
      "15/19 [======================>.......] - ETA: 0s - loss: 0.8722 WARNING:tensorflow:Early stopping conditioned on metric `val_loss` which is not available. Available metrics are: loss\n",
      "19/19 [==============================] - 1s 4ms/step - loss: 0.8416\n",
      "Epoch 2/4\n",
      "15/19 [======================>.......] - ETA: 0s - loss: 0.7630WARNING:tensorflow:Early stopping conditioned on metric `val_loss` which is not available. Available metrics are: loss\n",
      "19/19 [==============================] - 0s 4ms/step - loss: 0.7526\n",
      "Epoch 3/4\n",
      "15/19 [======================>.......] - ETA: 0s - loss: 0.7662WARNING:tensorflow:Early stopping conditioned on metric `val_loss` which is not available. Available metrics are: loss\n",
      "19/19 [==============================] - 0s 4ms/step - loss: 0.7626\n",
      "Epoch 4/4\n",
      "15/19 [======================>.......] - ETA: 0s - loss: 0.7214WARNING:tensorflow:Early stopping conditioned on metric `val_loss` which is not available. Available metrics are: loss\n",
      "19/19 [==============================] - 0s 4ms/step - loss: 0.7308\n"
     ]
    },
    {
     "data": {
      "text/html": [
       "<style>#sk-container-id-2 {color: black;background-color: white;}#sk-container-id-2 pre{padding: 0;}#sk-container-id-2 div.sk-toggleable {background-color: white;}#sk-container-id-2 label.sk-toggleable__label {cursor: pointer;display: block;width: 100%;margin-bottom: 0;padding: 0.3em;box-sizing: border-box;text-align: center;}#sk-container-id-2 label.sk-toggleable__label-arrow:before {content: \"▸\";float: left;margin-right: 0.25em;color: #696969;}#sk-container-id-2 label.sk-toggleable__label-arrow:hover:before {color: black;}#sk-container-id-2 div.sk-estimator:hover label.sk-toggleable__label-arrow:before {color: black;}#sk-container-id-2 div.sk-toggleable__content {max-height: 0;max-width: 0;overflow: hidden;text-align: left;background-color: #f0f8ff;}#sk-container-id-2 div.sk-toggleable__content pre {margin: 0.2em;color: black;border-radius: 0.25em;background-color: #f0f8ff;}#sk-container-id-2 input.sk-toggleable__control:checked~div.sk-toggleable__content {max-height: 200px;max-width: 100%;overflow: auto;}#sk-container-id-2 input.sk-toggleable__control:checked~label.sk-toggleable__label-arrow:before {content: \"▾\";}#sk-container-id-2 div.sk-estimator input.sk-toggleable__control:checked~label.sk-toggleable__label {background-color: #d4ebff;}#sk-container-id-2 div.sk-label input.sk-toggleable__control:checked~label.sk-toggleable__label {background-color: #d4ebff;}#sk-container-id-2 input.sk-hidden--visually {border: 0;clip: rect(1px 1px 1px 1px);clip: rect(1px, 1px, 1px, 1px);height: 1px;margin: -1px;overflow: hidden;padding: 0;position: absolute;width: 1px;}#sk-container-id-2 div.sk-estimator {font-family: monospace;background-color: #f0f8ff;border: 1px dotted black;border-radius: 0.25em;box-sizing: border-box;margin-bottom: 0.5em;}#sk-container-id-2 div.sk-estimator:hover {background-color: #d4ebff;}#sk-container-id-2 div.sk-parallel-item::after {content: \"\";width: 100%;border-bottom: 1px solid gray;flex-grow: 1;}#sk-container-id-2 div.sk-label:hover label.sk-toggleable__label {background-color: #d4ebff;}#sk-container-id-2 div.sk-serial::before {content: \"\";position: absolute;border-left: 1px solid gray;box-sizing: border-box;top: 0;bottom: 0;left: 50%;z-index: 0;}#sk-container-id-2 div.sk-serial {display: flex;flex-direction: column;align-items: center;background-color: white;padding-right: 0.2em;padding-left: 0.2em;position: relative;}#sk-container-id-2 div.sk-item {position: relative;z-index: 1;}#sk-container-id-2 div.sk-parallel {display: flex;align-items: stretch;justify-content: center;background-color: white;position: relative;}#sk-container-id-2 div.sk-item::before, #sk-container-id-2 div.sk-parallel-item::before {content: \"\";position: absolute;border-left: 1px solid gray;box-sizing: border-box;top: 0;bottom: 0;left: 50%;z-index: -1;}#sk-container-id-2 div.sk-parallel-item {display: flex;flex-direction: column;z-index: 1;position: relative;background-color: white;}#sk-container-id-2 div.sk-parallel-item:first-child::after {align-self: flex-end;width: 50%;}#sk-container-id-2 div.sk-parallel-item:last-child::after {align-self: flex-start;width: 50%;}#sk-container-id-2 div.sk-parallel-item:only-child::after {width: 0;}#sk-container-id-2 div.sk-dashed-wrapped {border: 1px dashed gray;margin: 0 0.4em 0.5em 0.4em;box-sizing: border-box;padding-bottom: 0.4em;background-color: white;}#sk-container-id-2 div.sk-label label {font-family: monospace;font-weight: bold;display: inline-block;line-height: 1.2em;}#sk-container-id-2 div.sk-label-container {text-align: center;}#sk-container-id-2 div.sk-container {/* jupyter's `normalize.less` sets `[hidden] { display: none; }` but bootstrap.min.css set `[hidden] { display: none !important; }` so we also need the `!important` here to be able to override the default hidden behavior on the sphinx rendered scikit-learn.org. See: https://github.com/scikit-learn/scikit-learn/issues/21755 */display: inline-block !important;position: relative;}#sk-container-id-2 div.sk-text-repr-fallback {display: none;}</style><div id=\"sk-container-id-2\" class=\"sk-top-container\"><div class=\"sk-text-repr-fallback\"><pre>GridSearchCV(cv=3,\n",
       "             estimator=Pipeline(steps=[(&#x27;preprocessor&#x27;,\n",
       "                                        ColumnTransformer(transformers=[(&#x27;cat&#x27;,\n",
       "                                                                         Pipeline(steps=[(&#x27;onehot&#x27;,\n",
       "                                                                                          OneHotEncoder(handle_unknown=&#x27;ignore&#x27;))]),\n",
       "                                                                         [&#x27;Side&#x27;,\n",
       "                                                                          &#x27;teams_region&#x27;,\n",
       "                                                                          &#x27;teammate_role_top&#x27;,\n",
       "                                                                          &#x27;teammate_role_jungle&#x27;,\n",
       "                                                                          &#x27;teammate_role_mid&#x27;,\n",
       "                                                                          &#x27;teammate_role_adc&#x27;,\n",
       "                                                                          &#x27;teammate_role_support&#x27;,\n",
       "                                                                          &#x27;enemy_role_top&#x27;,\n",
       "                                                                          &#x27;enemy_role_jungle&#x27;,\n",
       "                                                                          &#x27;enemy_role_mid&#x27;,\n",
       "                                                                          &#x27;enemy_role_adc&#x27;,\n",
       "                                                                          &#x27;enemy_role_support&#x27;,\n",
       "                                                                          &#x27;tournament_type&#x27;])])),\n",
       "                                       (&#x27;nn&#x27;,\n",
       "                                        KerasClassifier(hidden_layer_dim=100, loss=&#x27;binary_crossentropy&#x27;, model=&lt;function get_model at 0x7f3c745a2790&gt;))]),\n",
       "             param_grid={&#x27;nn__callbacks&#x27;: [&lt;keras.callbacks.EarlyStopping object at 0x7f3c745c11f0&gt;],\n",
       "                         &#x27;nn__epochs&#x27;: [4, 8],\n",
       "                         &#x27;nn__optimizer&#x27;: [&#x27;rmsprop&#x27;, &#x27;adam&#x27;, &#x27;adagrad&#x27;]})</pre><b>In a Jupyter environment, please rerun this cell to show the HTML representation or trust the notebook. <br />On GitHub, the HTML representation is unable to render, please try loading this page with nbviewer.org.</b></div><div class=\"sk-container\" hidden><div class=\"sk-item sk-dashed-wrapped\"><div class=\"sk-label-container\"><div class=\"sk-label sk-toggleable\"><input class=\"sk-toggleable__control sk-hidden--visually\" id=\"sk-estimator-id-6\" type=\"checkbox\" ><label for=\"sk-estimator-id-6\" class=\"sk-toggleable__label sk-toggleable__label-arrow\">GridSearchCV</label><div class=\"sk-toggleable__content\"><pre>GridSearchCV(cv=3,\n",
       "             estimator=Pipeline(steps=[(&#x27;preprocessor&#x27;,\n",
       "                                        ColumnTransformer(transformers=[(&#x27;cat&#x27;,\n",
       "                                                                         Pipeline(steps=[(&#x27;onehot&#x27;,\n",
       "                                                                                          OneHotEncoder(handle_unknown=&#x27;ignore&#x27;))]),\n",
       "                                                                         [&#x27;Side&#x27;,\n",
       "                                                                          &#x27;teams_region&#x27;,\n",
       "                                                                          &#x27;teammate_role_top&#x27;,\n",
       "                                                                          &#x27;teammate_role_jungle&#x27;,\n",
       "                                                                          &#x27;teammate_role_mid&#x27;,\n",
       "                                                                          &#x27;teammate_role_adc&#x27;,\n",
       "                                                                          &#x27;teammate_role_support&#x27;,\n",
       "                                                                          &#x27;enemy_role_top&#x27;,\n",
       "                                                                          &#x27;enemy_role_jungle&#x27;,\n",
       "                                                                          &#x27;enemy_role_mid&#x27;,\n",
       "                                                                          &#x27;enemy_role_adc&#x27;,\n",
       "                                                                          &#x27;enemy_role_support&#x27;,\n",
       "                                                                          &#x27;tournament_type&#x27;])])),\n",
       "                                       (&#x27;nn&#x27;,\n",
       "                                        KerasClassifier(hidden_layer_dim=100, loss=&#x27;binary_crossentropy&#x27;, model=&lt;function get_model at 0x7f3c745a2790&gt;))]),\n",
       "             param_grid={&#x27;nn__callbacks&#x27;: [&lt;keras.callbacks.EarlyStopping object at 0x7f3c745c11f0&gt;],\n",
       "                         &#x27;nn__epochs&#x27;: [4, 8],\n",
       "                         &#x27;nn__optimizer&#x27;: [&#x27;rmsprop&#x27;, &#x27;adam&#x27;, &#x27;adagrad&#x27;]})</pre></div></div></div><div class=\"sk-parallel\"><div class=\"sk-parallel-item\"><div class=\"sk-item\"><div class=\"sk-label-container\"><div class=\"sk-label sk-toggleable\"><input class=\"sk-toggleable__control sk-hidden--visually\" id=\"sk-estimator-id-7\" type=\"checkbox\" ><label for=\"sk-estimator-id-7\" class=\"sk-toggleable__label sk-toggleable__label-arrow\">estimator: Pipeline</label><div class=\"sk-toggleable__content\"><pre>Pipeline(steps=[(&#x27;preprocessor&#x27;,\n",
       "                 ColumnTransformer(transformers=[(&#x27;cat&#x27;,\n",
       "                                                  Pipeline(steps=[(&#x27;onehot&#x27;,\n",
       "                                                                   OneHotEncoder(handle_unknown=&#x27;ignore&#x27;))]),\n",
       "                                                  [&#x27;Side&#x27;, &#x27;teams_region&#x27;,\n",
       "                                                   &#x27;teammate_role_top&#x27;,\n",
       "                                                   &#x27;teammate_role_jungle&#x27;,\n",
       "                                                   &#x27;teammate_role_mid&#x27;,\n",
       "                                                   &#x27;teammate_role_adc&#x27;,\n",
       "                                                   &#x27;teammate_role_support&#x27;,\n",
       "                                                   &#x27;enemy_role_top&#x27;,\n",
       "                                                   &#x27;enemy_role_jungle&#x27;,\n",
       "                                                   &#x27;enemy_role_mid&#x27;,\n",
       "                                                   &#x27;enemy_role_adc&#x27;,\n",
       "                                                   &#x27;enemy_role_support&#x27;,\n",
       "                                                   &#x27;tournament_type&#x27;])])),\n",
       "                (&#x27;nn&#x27;,\n",
       "                 KerasClassifier(hidden_layer_dim=100, loss=&#x27;binary_crossentropy&#x27;, model=&lt;function get_model at 0x7f3c745a2790&gt;))])</pre></div></div></div><div class=\"sk-serial\"><div class=\"sk-item\"><div class=\"sk-serial\"><div class=\"sk-item sk-dashed-wrapped\"><div class=\"sk-label-container\"><div class=\"sk-label sk-toggleable\"><input class=\"sk-toggleable__control sk-hidden--visually\" id=\"sk-estimator-id-8\" type=\"checkbox\" ><label for=\"sk-estimator-id-8\" class=\"sk-toggleable__label sk-toggleable__label-arrow\">preprocessor: ColumnTransformer</label><div class=\"sk-toggleable__content\"><pre>ColumnTransformer(transformers=[(&#x27;cat&#x27;,\n",
       "                                 Pipeline(steps=[(&#x27;onehot&#x27;,\n",
       "                                                  OneHotEncoder(handle_unknown=&#x27;ignore&#x27;))]),\n",
       "                                 [&#x27;Side&#x27;, &#x27;teams_region&#x27;, &#x27;teammate_role_top&#x27;,\n",
       "                                  &#x27;teammate_role_jungle&#x27;, &#x27;teammate_role_mid&#x27;,\n",
       "                                  &#x27;teammate_role_adc&#x27;, &#x27;teammate_role_support&#x27;,\n",
       "                                  &#x27;enemy_role_top&#x27;, &#x27;enemy_role_jungle&#x27;,\n",
       "                                  &#x27;enemy_role_mid&#x27;, &#x27;enemy_role_adc&#x27;,\n",
       "                                  &#x27;enemy_role_support&#x27;, &#x27;tournament_type&#x27;])])</pre></div></div></div><div class=\"sk-parallel\"><div class=\"sk-parallel-item\"><div class=\"sk-item\"><div class=\"sk-label-container\"><div class=\"sk-label sk-toggleable\"><input class=\"sk-toggleable__control sk-hidden--visually\" id=\"sk-estimator-id-9\" type=\"checkbox\" ><label for=\"sk-estimator-id-9\" class=\"sk-toggleable__label sk-toggleable__label-arrow\">cat</label><div class=\"sk-toggleable__content\"><pre>[&#x27;Side&#x27;, &#x27;teams_region&#x27;, &#x27;teammate_role_top&#x27;, &#x27;teammate_role_jungle&#x27;, &#x27;teammate_role_mid&#x27;, &#x27;teammate_role_adc&#x27;, &#x27;teammate_role_support&#x27;, &#x27;enemy_role_top&#x27;, &#x27;enemy_role_jungle&#x27;, &#x27;enemy_role_mid&#x27;, &#x27;enemy_role_adc&#x27;, &#x27;enemy_role_support&#x27;, &#x27;tournament_type&#x27;]</pre></div></div></div><div class=\"sk-serial\"><div class=\"sk-item\"><div class=\"sk-serial\"><div class=\"sk-item\"><div class=\"sk-estimator sk-toggleable\"><input class=\"sk-toggleable__control sk-hidden--visually\" id=\"sk-estimator-id-10\" type=\"checkbox\" ><label for=\"sk-estimator-id-10\" class=\"sk-toggleable__label sk-toggleable__label-arrow\">OneHotEncoder</label><div class=\"sk-toggleable__content\"><pre>OneHotEncoder(handle_unknown=&#x27;ignore&#x27;)</pre></div></div></div></div></div></div></div></div></div></div><div class=\"sk-item\"><div class=\"sk-estimator sk-toggleable\"><input class=\"sk-toggleable__control sk-hidden--visually\" id=\"sk-estimator-id-11\" type=\"checkbox\" ><label for=\"sk-estimator-id-11\" class=\"sk-toggleable__label sk-toggleable__label-arrow\">KerasClassifier</label><div class=\"sk-toggleable__content\"><pre>KerasClassifier(\n",
       "\tmodel=&lt;function get_model at 0x7f3c745a2790&gt;\n",
       "\tbuild_fn=None\n",
       "\twarm_start=False\n",
       "\trandom_state=None\n",
       "\toptimizer=rmsprop\n",
       "\tloss=binary_crossentropy\n",
       "\tmetrics=None\n",
       "\tbatch_size=None\n",
       "\tvalidation_batch_size=None\n",
       "\tverbose=1\n",
       "\tcallbacks=None\n",
       "\tvalidation_split=0.0\n",
       "\tshuffle=True\n",
       "\trun_eagerly=False\n",
       "\tepochs=1\n",
       "\thidden_layer_dim=100\n",
       "\tclass_weight=None\n",
       ")</pre></div></div></div></div></div></div></div></div></div></div></div></div>"
      ],
      "text/plain": [
       "GridSearchCV(cv=3,\n",
       "             estimator=Pipeline(steps=[('preprocessor',\n",
       "                                        ColumnTransformer(transformers=[('cat',\n",
       "                                                                         Pipeline(steps=[('onehot',\n",
       "                                                                                          OneHotEncoder(handle_unknown='ignore'))]),\n",
       "                                                                         ['Side',\n",
       "                                                                          'teams_region',\n",
       "                                                                          'teammate_role_top',\n",
       "                                                                          'teammate_role_jungle',\n",
       "                                                                          'teammate_role_mid',\n",
       "                                                                          'teammate_role_adc',\n",
       "                                                                          'teammate_role_support',\n",
       "                                                                          'enemy_role_top',\n",
       "                                                                          'enemy_role_jungle',\n",
       "                                                                          'enemy_role_mid',\n",
       "                                                                          'enemy_role_adc',\n",
       "                                                                          'enemy_role_support',\n",
       "                                                                          'tournament_type'])])),\n",
       "                                       ('nn',\n",
       "                                        KerasClassifier(hidden_layer_dim=100, loss='binary_crossentropy', model=<function get_model at 0x7f3c745a2790>))]),\n",
       "             param_grid={'nn__callbacks': [<keras.callbacks.EarlyStopping object at 0x7f3c745c11f0>],\n",
       "                         'nn__epochs': [4, 8],\n",
       "                         'nn__optimizer': ['rmsprop', 'adam', 'adagrad']})"
      ]
     },
     "execution_count": 20,
     "metadata": {},
     "output_type": "execute_result"
    }
   ],
   "source": [
    "grid.fit(X_train, y_train)"
   ]
  },
  {
   "cell_type": "code",
   "execution_count": 21,
   "metadata": {},
   "outputs": [
    {
     "name": "stdout",
     "output_type": "stream",
     "text": [
      "Best: 0.681895 using {'nn__callbacks': <keras.callbacks.EarlyStopping object at 0x7f3c745c11f0>, 'nn__epochs': 4, 'nn__optimizer': 'rmsprop'}\n",
      "0.681895 (0.002393) with: {'nn__callbacks': <keras.callbacks.EarlyStopping object at 0x7f3c745c11f0>, 'nn__epochs': 4, 'nn__optimizer': 'rmsprop'}\n",
      "0.681895 (0.002393) with: {'nn__callbacks': <keras.callbacks.EarlyStopping object at 0x7f3c745c11f0>, 'nn__epochs': 4, 'nn__optimizer': 'adam'}\n",
      "0.573604 (0.036838) with: {'nn__callbacks': <keras.callbacks.EarlyStopping object at 0x7f3c745c11f0>, 'nn__epochs': 4, 'nn__optimizer': 'adagrad'}\n",
      "0.680203 (0.000000) with: {'nn__callbacks': <keras.callbacks.EarlyStopping object at 0x7f3c745c11f0>, 'nn__epochs': 8, 'nn__optimizer': 'rmsprop'}\n",
      "0.680203 (0.004145) with: {'nn__callbacks': <keras.callbacks.EarlyStopping object at 0x7f3c745c11f0>, 'nn__epochs': 8, 'nn__optimizer': 'adam'}\n",
      "0.554992 (0.046585) with: {'nn__callbacks': <keras.callbacks.EarlyStopping object at 0x7f3c745c11f0>, 'nn__epochs': 8, 'nn__optimizer': 'adagrad'}\n"
     ]
    }
   ],
   "source": [
    "# summarize results\n",
    "print(\"Best: %f using %s\" % (grid.best_score_, grid.best_params_))\n",
    "means = grid.cv_results_['mean_test_score']\n",
    "stds = grid.cv_results_['std_test_score']\n",
    "params = grid.cv_results_['params']\n",
    "for mean, stdev, param in zip(means, stds, params):\n",
    "    print(\"%f (%f) with: %r\" % (mean, stdev, param))"
   ]
  }
 ],
 "metadata": {
  "kernelspec": {
   "display_name": "Python 3.8.10 ('.venv': venv)",
   "language": "python",
   "name": "python3"
  },
  "language_info": {
   "codemirror_mode": {
    "name": "ipython",
    "version": 3
   },
   "file_extension": ".py",
   "mimetype": "text/x-python",
   "name": "python",
   "nbconvert_exporter": "python",
   "pygments_lexer": "ipython3",
   "version": "3.8.10"
  },
  "orig_nbformat": 4,
  "vscode": {
   "interpreter": {
    "hash": "e82112af01882ea095af638c39e4eacecb57b5e6d4e5075da91472a56e93d09a"
   }
  }
 },
 "nbformat": 4,
 "nbformat_minor": 2
}
