{
 "cells": [
  {
   "cell_type": "code",
   "execution_count": 118,
   "metadata": {},
   "outputs": [
    {
     "data": {
      "text/plain": [
       "'TODO\\n- EDA\\n- error analysis\\n    - look at the type1 vs type2 errors\\n    - manually try to interpret what is it failing to see\\n- find ways to reduce dimensionality\\n    - unsupervised learning\\n    - feature engineering\\n        - PCA\\n        - umap\\n- mine more data\\n- utilize weights and try first iteration of model\\n'"
      ]
     },
     "execution_count": 118,
     "metadata": {},
     "output_type": "execute_result"
    }
   ],
   "source": [
    "\"\"\"TODO\n",
    "- EDA\n",
    "- error analysis\n",
    "    - look at the type1 vs type2 errors\n",
    "    - manually try to interpret what is it failing to see\n",
    "- find ways to reduce dimensionality\n",
    "    - unsupervised learning\n",
    "    - feature engineering\n",
    "        - PCA\n",
    "        - umap\n",
    "- mine more data\n",
    "- utilize weights and try first iteration of model\n",
    "\"\"\""
   ]
  },
  {
   "cell_type": "code",
   "execution_count": 4,
   "metadata": {},
   "outputs": [
    {
     "name": "stdout",
     "output_type": "stream",
     "text": [
      "/home/beaujb/github/faker-classifier/.venv/bin/python\n"
     ]
    },
    {
     "name": "stderr",
     "output_type": "stream",
     "text": [
      "2022-08-29 08:18:41.043895: W tensorflow/stream_executor/platform/default/dso_loader.cc:64] Could not load dynamic library 'libcudart.so.11.0'; dlerror: libcudart.so.11.0: cannot open shared object file: No such file or directory\n",
      "2022-08-29 08:18:41.043930: I tensorflow/stream_executor/cuda/cudart_stub.cc:29] Ignore above cudart dlerror if you do not have a GPU set up on your machine.\n"
     ]
    }
   ],
   "source": [
    "%reload_ext autoreload\n",
    "%autoreload 2\n",
    "import sys  \n",
    "print(sys.executable)\n",
    "# Data Handling\n",
    "import numpy\n",
    "import pandas\n",
    "\n",
    "# Data Plotting\n",
    "import seaborn\n",
    "import matplotlib.pyplot as plt\n",
    "\n",
    "# System\n",
    "from platform import system\n",
    "\n",
    "# Algorithms\n",
    "from imblearn.ensemble import BalancedBaggingClassifier, BalancedRandomForestClassifier\n",
    "from lightgbm import LGBMClassifier\n",
    "from sklearn.ensemble import ExtraTreesClassifier\n",
    "from sklearn.ensemble import GradientBoostingClassifier\n",
    "from sklearn.ensemble import RandomForestClassifier\n",
    "from sklearn.tree import DecisionTreeClassifier\n",
    "from sklearn.tree import ExtraTreeClassifier\n",
    "from sklearn.linear_model import LogisticRegression\n",
    "from sklearn.linear_model import RidgeClassifier\n",
    "from xgboost import XGBClassifier\n",
    "\n",
    "# Imbalance\n",
    "from imblearn.under_sampling import RandomUnderSampler\n",
    "\n",
    "# Build\n",
    "from imblearn.pipeline import make_pipeline\n",
    "from sklearn.compose import ColumnTransformer\n",
    "from sklearn.pipeline import Pipeline\n",
    "\n",
    "# Error Analysis\n",
    "from sklearn.metrics import balanced_accuracy_score, confusion_matrix, f1_score, ConfusionMatrixDisplay\n",
    "\n",
    "# Hyperparameter\n",
    "from sklearn.model_selection import GridSearchCV, train_test_split\n",
    "\n",
    "# Preprocessing\n",
    "from sklearn.preprocessing import OneHotEncoder\n",
    "\n",
    "# NN\n",
    "from tensorflow import keras\n",
    "from tensorflow.keras import layers\n",
    "from tensorflow.keras.wrappers.scikit_learn import KerasClassifier\n",
    "\n",
    "# etc\n",
    "import importlib  # reload modules for updates\n",
    "import time"
   ]
  },
  {
   "cell_type": "code",
   "execution_count": 5,
   "metadata": {},
   "outputs": [],
   "source": [
    "# intra-package\n",
    "import champions_dmg_profile\n",
    "importlib.reload(champions_dmg_profile)\n",
    "from champions_dmg_profile import champions as gol_champions"
   ]
  },
  {
   "cell_type": "code",
   "execution_count": 121,
   "metadata": {},
   "outputs": [],
   "source": [
    "RANDOM_STATE = 30  # night night"
   ]
  },
  {
   "cell_type": "code",
   "execution_count": 122,
   "metadata": {},
   "outputs": [
    {
     "name": "stdout",
     "output_type": "stream",
     "text": [
      "Loading \"C:\\Users\\Beau\\Desktop\\ML\\faker\\merged9.csv\"\n",
      "Finish loading.\n",
      "(987, 65)\n"
     ]
    }
   ],
   "source": [
    "# Load Dataset\n",
    "# Get file path\n",
    "if system() == \"Windows\":\n",
    "    filepath = \"C:\\\\Users\\\\Beau\\\\Desktop\\\\ML\\\\faker\\\\merged9.csv\"\n",
    "# elif system() == \"Linux\":\n",
    "# filepath = \"\"\n",
    "else:\n",
    "    print(f\"Unfamiliar OS. Cannot set file path to csv file.\")\n",
    "    exit(1)\n",
    "\n",
    "# Load csv\n",
    "print(f'Loading \"{filepath}\"')\n",
    "dataframe = pandas.read_csv(filepath)\n",
    "print(f\"Finish loading.\")\n",
    "print(dataframe.shape)"
   ]
  },
  {
   "cell_type": "code",
   "execution_count": 123,
   "metadata": {},
   "outputs": [],
   "source": [
    "# # IF YOU WANT TO BALANCE THE TARGET\n",
    "# num_wins = dataframe['W/L'].value_counts()[0]\n",
    "# num_losses = dataframe['W/L'].value_counts()[1]\n",
    "# print(dataframe['W/L'].value_counts())\n",
    "\n",
    "# X = dataframe[dataframe['W/L'] == \"Win\"].sample(num_losses, random_state=RANDOM_STATE)\n",
    "# dataframe = pandas.concat([X, dataframe[dataframe['W/L'] == \"Loss\"]])\n",
    "# print(dataframe.shape)"
   ]
  },
  {
   "cell_type": "code",
   "execution_count": 124,
   "metadata": {},
   "outputs": [
    {
     "data": {
      "text/plain": [
       "Index(['Date', 'Tournament', 'W/L', 'Side', 'Vs_Team', 'Game_Length',\n",
       "       'Champion', 'Vs_Champion', 'Kills', 'Deaths', 'Assists', 'KDA',\n",
       "       'Spells', 'CS', 'Delta_CS', 'Items', 'Date_parsed',\n",
       "       'tournaments_played', 'date', 'blue_side_team', 'red_side_team',\n",
       "       'winner', 'blue_side_bans', 'red_side_bans', 'blue_side_picks',\n",
       "       'red_side_picks', 'blue_side_roster', 'red_side_roster',\n",
       "       'tournament_curr_total_games', 'tournament_curr_wins',\n",
       "       'tournament_curr_losses', 'tournament_curr_win_percentage',\n",
       "       'tournament_type', 'teams_region', 'teammate_role_top',\n",
       "       'teammate_role_jungle', 'teammate_role_mid', 'teammate_role_adc',\n",
       "       'teammate_role_support', 'enemy_role_top', 'enemy_role_jungle',\n",
       "       'enemy_role_mid', 'enemy_role_adc', 'enemy_role_support', 'bans',\n",
       "       'teammate_top_champion', 'teammate_jungle_champion',\n",
       "       'teammate_mid_champion', 'teammate_adc_champion',\n",
       "       'teammate_support_champion', 'opponent_top_champion',\n",
       "       'opponent_jungle_champion', 'opponent_mid_champion',\n",
       "       'opponent_adc_champion', 'opponent_support_champion',\n",
       "       'teammate_top_ign', 'teammate_jungle_ign', 'teammate_mid_ign',\n",
       "       'teammate_adc_ign', 'teammate_support_ign', 'opponent_top_ign',\n",
       "       'opponent_jungle_ign', 'opponent_mid_ign', 'opponent_adc_ign',\n",
       "       'opponent_support_ign'],\n",
       "      dtype='object')"
      ]
     },
     "execution_count": 124,
     "metadata": {},
     "output_type": "execute_result"
    }
   ],
   "source": [
    "dataframe.columns"
   ]
  },
  {
   "cell_type": "code",
   "execution_count": 125,
   "metadata": {},
   "outputs": [
    {
     "name": "stdout",
     "output_type": "stream",
     "text": [
      "4\n",
      "4\n",
      "4\n",
      "   A  B  test1  test2\n",
      "0  4  9      1      2\n",
      "1  4  9      1      2\n",
      "2  4  9      1      2\n"
     ]
    }
   ],
   "source": [
    "dummy = pandas.DataFrame([[4, 9]] * 3, columns=['A', 'B'])\n",
    "dummy[[\"test1\", \"test2\"]] = 1, 2\n",
    "def dummy_func(e):\n",
    "    print(e.A)\n",
    "    return 1, 2\n",
    "dummy[[\"test1\", \"test2\"]] = dummy.apply(dummy_func, axis=1, result_type=\"expand\")\n",
    "print(dummy)"
   ]
  },
  {
   "cell_type": "code",
   "execution_count": 126,
   "metadata": {},
   "outputs": [],
   "source": [
    "def get_damage_profile_composition(match):\n",
    "    # get blue side picks\n",
    "    blue_side_picks = match[\"blue_side_picks\"].split(',')\n",
    "    # get red side picks\n",
    "    red_side_picks = match[\"red_side_picks\"].split(',')\n",
    "\n",
    "    # get blue picks info with comprehension\n",
    "    blue_team_info = {champ: gol_champions[champ] for champ in blue_side_picks}\n",
    "    # get red picks info with comprehension\n",
    "    red_team_info = {champ: gol_champions[champ] for champ in red_side_picks}\n",
    "\n",
    "    # calculate weights\n",
    "    # sum DPM\n",
    "    sum_blue_dpm = sum((info[\"DPM\"] for info in blue_team_info.values()))\n",
    "    for info in blue_team_info.values():\n",
    "        curr_champ_dpm = info[\"DPM\"]\n",
    "        info[\"weight\"] = curr_champ_dpm / sum_blue_dpm\n",
    "    sum_red_dpm = sum((info[\"DPM\"] for info in red_team_info.values()))\n",
    "    for info in red_team_info.values():\n",
    "        curr_champ_dpm = info[\"DPM\"]\n",
    "        info[\"weight\"] = curr_champ_dpm / sum_red_dpm\n",
    "\n",
    "    blue_physical_damage_perc = sum(info[\"weight\"] * info[\"physical_damage\"] for info in blue_team_info.values())\n",
    "    blue_magic_damage_perc = sum(info[\"weight\"] * info[\"magic_damage\"] for info in blue_team_info.values())\n",
    "    blue_true_damage_perc = sum(info[\"weight\"] * info[\"true_damage\"] for info in blue_team_info.values())\n",
    "    red_physical_damage_perc = sum(info[\"weight\"] * info[\"physical_damage\"] for info in red_team_info.values())\n",
    "    red_magic_damage_perc = sum(info[\"weight\"] * info[\"magic_damage\"] for info in red_team_info.values())\n",
    "    red_true_damage_perc = sum(info[\"weight\"] * info[\"true_damage\"] for info in red_team_info.values())\n",
    "\n",
    "    return (blue_physical_damage_perc, blue_magic_damage_perc, blue_true_damage_perc,\n",
    "            red_physical_damage_perc, red_magic_damage_perc, red_true_damage_perc)\n",
    "\n",
    "# dataframe[[\"blue_physical_damage_perc\",\n",
    "#            \"blue_magic_damage_perc\",\n",
    "#            \"blue_true_damage_perc\"]] = dataframe.apply(get_damage_profile_composition, axis=1, result_type=\"expand\")\n",
    "\n",
    "dataframe[[\"blue_physical_damage_perc\",\n",
    "           \"blue_magic_damage_perc\",\n",
    "           \"blue_true_damage_perc\",\n",
    "           \"red_physical_damage_perc\",\n",
    "           \"red_magic_damage_perc\",\n",
    "           \"red_true_damage_perc\"]] = dataframe.apply(get_damage_profile_composition, axis=1, result_type=\"expand\")\n"
   ]
  },
  {
   "cell_type": "code",
   "execution_count": 127,
   "metadata": {},
   "outputs": [
    {
     "name": "stdout",
     "output_type": "stream",
     "text": [
      "                       blue_side_picks  blue_physical_damage_perc\n",
      "46        Renekton,Vi,Zed,Caitlyn,Sona                  75.293968\n",
      "352     Jayce,Olaf,Varus,Caitlyn,Karma                  72.850969\n",
      "900      Jayce,Diana,Lucian,Senna,Sett                  71.926300\n",
      "673  Jayce,Elise,Aatrox,Lucian,Alistar                  71.042842\n",
      "588      Gnar,Kha'Zix,Lulu,Xayah,Rakan                  70.728223\n",
      "                           blue_side_picks  blue_physical_damage_perc\n",
      "172           Maokai,Nunu,Azir,Corki,Annie                  10.585571\n",
      "187   Maokai,Evelynn,Viktor,Corki,Nautilus                  12.585083\n",
      "193  Maokai,Evelynn,Cassiopeia,Corki,Janna                  13.080669\n",
      "192           Fizz,Gragas,Ryze,Corki,Janna                  14.542857\n",
      "189         Fizz,Ekko,Viktor,Corki,Alistar                  14.805527\n",
      "                                red_side_picks  red_physical_damage_perc\n",
      "402         Shen,Lee Sin,Jayce,Jhin,Tahm Kench                 74.323438\n",
      "310              Irelia,Graves,Varus,Ashe,Nami                 74.090604\n",
      "388  Maokai,Lee Sin,Jayce,Caitlyn,Miss Fortune                 73.367773\n",
      "755       Jayce,Sejuani,Aatrox,Kai'Sa,Volibear                 72.942203\n",
      "213            Gnar,Lee Sin,Lulu,Sivir,Alistar                 71.152082\n",
      "                              red_side_picks  red_physical_damage_perc\n",
      "45            Rumble,Elise,Gragas,Corki,Sona                 10.170451\n",
      "175  Rumble,Rek'Sai,Cassiopeia,Corki,Alistar                 14.233782\n",
      "147    Dr. Mundo,Rek'Sai,Xerath,Corki,Veigar                 14.422703\n",
      "134     Dr. Mundo,Elise,Xerath,Kog'Maw,Annie                 16.762713\n",
      "127        Maokai,Elise,Orianna,Kog'Maw,Nami                 18.759521\n"
     ]
    }
   ],
   "source": [
    "# EDA\n",
    "print(dataframe.sort_values([\"blue_physical_damage_perc\"], ascending=False).head()[[\"blue_side_picks\", \"blue_physical_damage_perc\"]])\n",
    "print(dataframe.sort_values([\"blue_physical_damage_perc\"]).head()[[\"blue_side_picks\", \"blue_physical_damage_perc\"]])\n",
    "print(dataframe.sort_values([\"red_physical_damage_perc\"], ascending=False).head()[[\"red_side_picks\", \"red_physical_damage_perc\"]])\n",
    "print(dataframe.sort_values([\"red_physical_damage_perc\"]).head()[[\"red_side_picks\", \"red_physical_damage_perc\"]])"
   ]
  },
  {
   "cell_type": "code",
   "execution_count": 128,
   "metadata": {},
   "outputs": [
    {
     "name": "stdout",
     "output_type": "stream",
     "text": [
      "                           blue_side_picks  blue_magic_damage_perc\n",
      "172           Maokai,Nunu,Azir,Corki,Annie               86.664192\n",
      "187   Maokai,Evelynn,Viktor,Corki,Nautilus               84.543800\n",
      "193  Maokai,Evelynn,Cassiopeia,Corki,Janna               84.133032\n",
      "192           Fizz,Gragas,Ryze,Corki,Janna               82.190458\n",
      "189         Fizz,Ekko,Viktor,Corki,Alistar               81.976647\n",
      "                        blue_side_picks  blue_magic_damage_perc\n",
      "586      Irelia,Camille,Yasuo,Ashe,Nami               20.062142\n",
      "352      Jayce,Olaf,Varus,Caitlyn,Karma               20.820044\n",
      "46         Renekton,Vi,Zed,Caitlyn,Sona               20.959126\n",
      "900       Jayce,Diana,Lucian,Senna,Sett               22.287181\n",
      "87   Renekton,Lee Sin,Lulu,Twitch,Leona               23.693652\n",
      "                              red_side_picks  red_magic_damage_perc\n",
      "45            Rumble,Elise,Gragas,Corki,Sona              87.127608\n",
      "147    Dr. Mundo,Rek'Sai,Xerath,Corki,Veigar              82.822056\n",
      "175  Rumble,Rek'Sai,Cassiopeia,Corki,Alistar              81.621026\n",
      "134     Dr. Mundo,Elise,Xerath,Kog'Maw,Annie              79.460881\n",
      "127        Maokai,Elise,Orianna,Kog'Maw,Nami              77.213007\n",
      "                           red_side_picks  red_magic_damage_perc\n",
      "310         Irelia,Graves,Varus,Ashe,Nami              21.051988\n",
      "755  Jayce,Sejuani,Aatrox,Kai'Sa,Volibear              23.060371\n",
      "402    Shen,Lee Sin,Jayce,Jhin,Tahm Kench              23.239599\n",
      "214       Riven,Lee Sin,Lulu,Jinx,Alistar              23.844248\n",
      "635         Fiora,Elise,Urgot,Xayah,Rakan              24.012946\n"
     ]
    }
   ],
   "source": [
    "# EDA\n",
    "print(dataframe.sort_values([\"blue_magic_damage_perc\"], ascending=False).head()[[\"blue_side_picks\", \"blue_magic_damage_perc\"]])\n",
    "print(dataframe.sort_values([\"blue_magic_damage_perc\"]).head()[[\"blue_side_picks\", \"blue_magic_damage_perc\"]])\n",
    "print(dataframe.sort_values([\"red_magic_damage_perc\"], ascending=False).head()[[\"red_side_picks\", \"red_magic_damage_perc\"]])\n",
    "print(dataframe.sort_values([\"red_magic_damage_perc\"]).head()[[\"red_side_picks\", \"red_magic_damage_perc\"]])"
   ]
  },
  {
   "cell_type": "code",
   "execution_count": 129,
   "metadata": {},
   "outputs": [
    {
     "name": "stdout",
     "output_type": "stream",
     "text": [
      "                     blue_side_picks  blue_true_damage_perc\n",
      "430      Galio,Olaf,Ahri,Twitch,Lulu              17.189016\n",
      "39   Elise,Jarvan IV,Ahri,Vayne,Nami              16.584649\n",
      "73   Shyvana,Olaf,Gragas,Vayne,Annie              16.310880\n",
      "175   Maokai,Sejuani,Ahri,Vayne,Nunu              15.384286\n",
      "71   Renekton,Olaf,Gragas,Vayne,Nami              15.238530\n",
      "                              blue_side_picks  blue_true_damage_perc\n",
      "4        Kennen,Nasus,Jayce,Miss Fortune,Sona               1.840656\n",
      "387        Maokai,Rengar,Ryze,Jhin,Tahm Kench               1.939546\n",
      "381  Maokai,Kha'Zix,Cassiopeia,Varus,Malzahar               2.028438\n",
      "393           Maokai,Rengar,Viktor,Jhin,Kayle               2.140816\n",
      "15             Elise,Nasus,Orianna,Varus,Lulu               2.156105\n",
      "                        red_side_picks  red_true_damage_perc\n",
      "222  Fiora,Elise,Lulu,Vayne,Tahm Kench             17.801733\n",
      "30             Shen,Vi,Ahri,Vayne,Sona             15.373918\n",
      "950   Gwen,Viego,LeBlanc,Vayne,Trundle             15.319142\n",
      "75        Shyvana,Olaf,Lulu,Vayne,Zyra             15.244544\n",
      "65      Rengar,Olaf,Nidalee,Vayne,Nami             15.167060\n",
      "                               red_side_picks  red_true_damage_perc\n",
      "351            Jayce,Lee Sin,Viktor,Jhin,Zyra              2.022279\n",
      "529           Jayce,Jarvan IV,Azir,Varus,Ornn              2.024571\n",
      "921             Jayce,Diana,Ryze,Varus,Gragas              2.094615\n",
      "378  Singed,Lee Sin,Lissandra,Jhin,Tahm Kench              2.102471\n",
      "112           Ryze,Elise,Orianna,Lucian,Braum              2.151235\n"
     ]
    }
   ],
   "source": [
    "# EDA\n",
    "print(dataframe.sort_values([\"blue_true_damage_perc\"], ascending=False).head()[[\"blue_side_picks\", \"blue_true_damage_perc\"]])\n",
    "print(dataframe[[\"blue_side_picks\", \"blue_true_damage_perc\"]].sort_values([\"blue_true_damage_perc\"]).head())\n",
    "print(dataframe.sort_values([\"red_true_damage_perc\"], ascending=False).head()[[\"red_side_picks\", \"red_true_damage_perc\"]])\n",
    "print(dataframe[[\"red_side_picks\", \"red_true_damage_perc\"]].sort_values([\"red_true_damage_perc\"]).head())"
   ]
  },
  {
   "cell_type": "code",
   "execution_count": 130,
   "metadata": {},
   "outputs": [],
   "source": [
    "# cols_to_use = ['Side', 'tournament_curr_win_percentage', 'teams_region', 'teammate_top_champion','teammate_jungle_champion','teammate_mid_champion','teammate_adc_champion','teammate_support_champion','opponent_top_champion','opponent_jungle_champion','opponent_mid_champion','opponent_adc_champion','opponent_support_champion']\n",
    "cols_to_use = ['Side', 'tournament_curr_win_percentage', 'teams_region', 'teammate_role_top','teammate_role_jungle','teammate_role_mid','teammate_role_adc','teammate_role_support','enemy_role_top','enemy_role_jungle','enemy_role_mid','enemy_role_adc','enemy_role_support', 'tournament_type', 'blue_physical_damage_perc', 'blue_magic_damage_perc', 'blue_true_damage_perc', 'red_physical_damage_perc', 'red_magic_damage_perc', 'red_true_damage_perc']\n",
    "\n",
    "X = dataframe[cols_to_use]\n",
    "\n",
    "y = dataframe[\"W/L\"]\n",
    "def transform_game_result(game_result):\n",
    "    if game_result.lower() == \"win\":\n",
    "        return 1\n",
    "    elif game_result.lower() == \"loss\":\n",
    "        return 0\n",
    "    else:\n",
    "        raise ValueError(\"\\\"W/L\\\" column has invalid values\")\n",
    "y = y.transform(transform_game_result)"
   ]
  },
  {
   "cell_type": "code",
   "execution_count": 131,
   "metadata": {},
   "outputs": [
    {
     "name": "stdout",
     "output_type": "stream",
     "text": [
      "categorical_cols = ['Side', 'teams_region', 'teammate_role_top', 'teammate_role_jungle', 'teammate_role_mid', 'teammate_role_adc', 'teammate_role_support', 'enemy_role_top', 'enemy_role_jungle', 'enemy_role_mid', 'enemy_role_adc', 'enemy_role_support', 'tournament_type']\n",
      "\n",
      "numerical_cols = ['tournament_curr_win_percentage', 'blue_physical_damage_perc', 'blue_magic_damage_perc', 'blue_true_damage_perc', 'red_physical_damage_perc', 'red_magic_damage_perc', 'red_true_damage_perc']\n"
     ]
    }
   ],
   "source": [
    "\n",
    "# Separate dataset in train, dev(cv), test\n",
    "X_train, X_test, y_train, y_test = train_test_split(X, y, train_size=0.8, test_size=0.2, random_state=RANDOM_STATE)\n",
    "\n",
    "X_train, X_dev, y_train, y_dev = train_test_split(X_train, y_train, train_size=0.75, test_size=0.25, random_state=RANDOM_STATE)\n",
    "\n",
    "# Get categorical cols\n",
    "categorical_cols = [col for col in X_train.columns\n",
    "                    if X_train[col].dtype == \"object\"]\n",
    "print(f\"categorical_cols = {categorical_cols}\\n\")\n",
    "# Get numerical cols\n",
    "numerical_cols = [col for col in X_train.columns\n",
    "                  if X_train[col].dtype in [\"int64\", \"float64\"]]\n",
    "print(f\"numerical_cols = {numerical_cols}\")"
   ]
  },
  {
   "cell_type": "code",
   "execution_count": 132,
   "metadata": {},
   "outputs": [
    {
     "name": "stdout",
     "output_type": "stream",
     "text": [
      "Before the pipeline, the shape of X_train is (591, 20)\n"
     ]
    }
   ],
   "source": [
    "print(f\"Before the pipeline, the shape of X_train is {X_train.shape}\")"
   ]
  },
  {
   "cell_type": "code",
   "execution_count": 133,
   "metadata": {},
   "outputs": [],
   "source": [
    "categorical_transformer = Pipeline(steps=[\n",
    "    ('onehot', OneHotEncoder(handle_unknown=\"ignore\"))\n",
    "])\n",
    "\n",
    "preprocessor = ColumnTransformer(\n",
    "    transformers = [\n",
    "        ('cat', categorical_transformer, categorical_cols)\n",
    "    ]\n",
    ")"
   ]
  },
  {
   "cell_type": "code",
   "execution_count": 134,
   "metadata": {},
   "outputs": [],
   "source": [
    "# Establish baseline performance\n",
    "BASELINE_PERFORMANCE = 0.65  # taken from baseline_performance.txt"
   ]
  },
  {
   "cell_type": "code",
   "execution_count": 135,
   "metadata": {},
   "outputs": [],
   "source": [
    "# Create list of classifiers to test\n",
    "\n",
    "\"\"\"\n",
    "In this example, we opted for mostly tree-based and straight forward linear algorithms\n",
    "This was mostly due to 2 things:\n",
    "1. A mix of categorical and numerical values with some degree of outliers, so looking for techniques that could handle both categorical and numerical data\n",
    "without being overly sensitive to outliers\n",
    "2. Speed. We did have to work through this rather quickly, so we needed algorithms we knew could run quickly-ish.\n",
    "\"\"\"\n",
    "\n",
    "classifiers = [\n",
    "    XGBClassifier(random_state=RANDOM_STATE, categorical_feature=True), \n",
    "    LGBMClassifier(is_unbalance=True, random_state=RANDOM_STATE), \n",
    "    RandomForestClassifier(random_state=RANDOM_STATE), ExtraTreesClassifier(random_state=RANDOM_STATE),\n",
    "    GradientBoostingClassifier(random_state=RANDOM_STATE), DecisionTreeClassifier(random_state=RANDOM_STATE), ExtraTreeClassifier(random_state=RANDOM_STATE),\n",
    "    LogisticRegression(random_state=RANDOM_STATE),\n",
    "    RidgeClassifier(random_state=RANDOM_STATE)\n",
    "]"
   ]
  },
  {
   "cell_type": "code",
   "execution_count": 136,
   "metadata": {},
   "outputs": [],
   "source": [
    "rf_model = RandomForestClassifier(random_state=RANDOM_STATE)\n",
    "brf_model = BalancedRandomForestClassifier(random_state=RANDOM_STATE)\n",
    "bb_model = BalancedBaggingClassifier(random_state=RANDOM_STATE)\n",
    "xgb_model = XGBClassifier(random_state=RANDOM_STATE)\n"
   ]
  },
  {
   "cell_type": "code",
   "execution_count": 137,
   "metadata": {},
   "outputs": [],
   "source": [
    "# Undersampling\n",
    "under_sampler = RandomUnderSampler(random_state=RANDOM_STATE)\n",
    "rf_model = make_pipeline(under_sampler, rf_model)\n",
    "brf_model = make_pipeline(under_sampler, brf_model)\n",
    "bb_model = make_pipeline(under_sampler, bb_model)\n",
    "xgb_model = make_pipeline(under_sampler, xgb_model)"
   ]
  },
  {
   "cell_type": "code",
   "execution_count": 138,
   "metadata": {},
   "outputs": [],
   "source": [
    "# def create_nn_model():\n",
    "#     nn_model = keras.Sequential([\n",
    "#         layers.Dense(512, activation='relu', input_shape=[559]),\n",
    "#         layers.Dropout(rate=0.5),\n",
    "#         layers.BatchNormalization(),\n",
    "#         layers.Dense(512, activation='relu'),\n",
    "#         layers.Dropout(rate=0.5),\n",
    "#         layers.BatchNormalization(),\n",
    "#         # layers.Dense(512, activation='relu'),\n",
    "#         # layers.Dropout(rate=0.1),\n",
    "#         # layers.BatchNormalization(),\n",
    "#         # layers.Dense(512, activation='relu'),\n",
    "#         # layers.Dropout(rate=0.1),\n",
    "#         # layers.BatchNormalization(),\n",
    "#         layers.Dense(1, activation='sigmoid'),\n",
    "#     ])\n",
    "#     nn_model.compile(optimizer='adam', loss='binary_crossentropy', metrics=['binary_accuracy'])\n",
    "#     return nn_model\n",
    "# early_stopping = keras.callbacks.EarlyStopping(\n",
    "#     patience=30,\n",
    "#     min_delta=0.001,\n",
    "#     restore_best_weights=True,\n",
    "# )"
   ]
  },
  {
   "cell_type": "code",
   "execution_count": 139,
   "metadata": {},
   "outputs": [],
   "source": [
    "rf_pipeline = Pipeline(steps=[\n",
    "    ('preprocessor', preprocessor),\n",
    "    ('model', rf_model)\n",
    "])\n",
    "\n",
    "brf_pipeline = Pipeline(steps=[\n",
    "    ('preprocessor', preprocessor),\n",
    "    ('model', brf_model)\n",
    "])\n",
    "\n",
    "bb_pipeline = Pipeline(steps=[\n",
    "    ('preprocessor', preprocessor),\n",
    "    ('model', bb_model)\n",
    "])\n",
    "\n",
    "xgb_pipeline = Pipeline(steps=[\n",
    "    ('preprocessor', preprocessor),\n",
    "    ('model', xgb_model)\n",
    "])"
   ]
  },
  {
   "cell_type": "code",
   "execution_count": 140,
   "metadata": {},
   "outputs": [],
   "source": [
    "# nn_model = KerasClassifier(build_fn=create_nn_model, verbose=0)\n",
    "# nn_pipeline = Pipeline(steps=[\n",
    "#     ('preprocessor', preprocessor),\n",
    "#     ('model', nn_model)\n",
    "# ])"
   ]
  },
  {
   "cell_type": "code",
   "execution_count": 141,
   "metadata": {},
   "outputs": [
    {
     "name": "stdout",
     "output_type": "stream",
     "text": [
      "RF - GridSearchCV has 5 permutations and will take 0.02 minutes (=0.00)\n",
      "XGB - GridSearchCV has 5 permutations and will take 0.02 minutes (=0.00 hours)\n"
     ]
    }
   ],
   "source": [
    "# vscode the window has crashed reason oom 536870904\n",
    "# rf_params = [{\n",
    "#     \"model__n_estimators\": [25, 50, 75],\n",
    "#     \"model__max_depth\": [5, 10, 15, 20, 25, 30],\n",
    "#     \"model__max_samples\": [0.2, 0.4, 0.6, 0.8],\n",
    "\n",
    "#     # \"max_leaf_nodes\": []\n",
    "# }]\n",
    "# IF RF_MODEL IS A PIPELINE, NEED TO ADD PREFIXES\n",
    "# rf_params = [{\n",
    "#     \"model__randomforestclassifier__n_estimators\": [15, 25, 35],\n",
    "#     \"model__randomforestclassifier__max_depth\": [3, 5, 8],\n",
    "#     \"model__randomforestclassifier__max_samples\": [0.5, 0.6, 0.7],\n",
    "#     \"model__randomforestclassifier__class_weight\": [\"balanced\"],\n",
    "\n",
    "#     # \"max_leaf_nodes\": []\n",
    "# }]\n",
    "rf_params = [{\n",
    "    \"model__randomforestclassifier__n_estimators\": [25],\n",
    "    \"model__randomforestclassifier__max_depth\": [8],\n",
    "    \"model__randomforestclassifier__max_samples\": [0.6],\n",
    "    \"model__randomforestclassifier__class_weight\": [\"balanced\"],\n",
    "\n",
    "    # \"max_leaf_nodes\": []\n",
    "}]\n",
    "\n",
    "brf_params = [{\n",
    "    \"model__balancedrandomforestclassifier__n_estimators\": [25],\n",
    "    \"model__balancedrandomforestclassifier__max_depth\": [8],\n",
    "    \"model__balancedrandomforestclassifier__max_samples\": [0.6],\n",
    "    \"model__balancedrandomforestclassifier__class_weight\": [\"balanced\"],\n",
    "\n",
    "    # \"max_leaf_nodes\": []\n",
    "}]\n",
    "bb_params = [{\n",
    "    \"model__balancedbaggingclassifier__n_estimators\": [15],\n",
    "    \"model__balancedbaggingclassifier__max_samples\": [0.6],\n",
    "\n",
    "    # \"max_leaf_nodes\": []\n",
    "}]\n",
    "\n",
    "# IF XGB_MODEL IS A PIPELINE, NEED TO ADD PREFIXES\n",
    "xgb_params = [{\n",
    "    'model__xgbclassifier__alpha': [1],\n",
    "    'model__xgbclassifier__lambda': [1],\n",
    "    'model__xgbclassifier__learning_rate': [0.5],\n",
    "    'model__xgbclassifier__max_delta_step': [3],\n",
    "    'model__xgbclassifier__max_depth': [5],\n",
    "    'model__xgbclassifier__min_child_weight': [10],\n",
    "    'model__xgbclassifier__min_split_loss': [1],\n",
    "    'model__xgbclassifier__subsample': [0.5],\n",
    "    'model__xgbclassifier__class_weight': [\"balanced\"],\n",
    "}]\n",
    "# xgb_params = [{\n",
    "#     'model__alpha': [1],\n",
    "#     'model__lambda': [1],\n",
    "#     'model__learning_rate': [0.5],\n",
    "#     'model__max_delta_step': [3],\n",
    "#     'model__max_depth': [5],\n",
    "#     'model__min_child_weight': [10],\n",
    "#     'model__min_split_loss': [1],\n",
    "#     'model__subsample': [0.5]\n",
    "# }]\n",
    "# ~10 mins\n",
    "# xgb_params = [{\n",
    "#     # Prevents overfitting\n",
    "#     \"model__learning_rate\": [0.5, 0.7],\n",
    "#     \"model__max_depth\": [5, 10,15],\n",
    "#     \"model__subsample\": [0.5, 0.6],\n",
    "#     # More conservative algorithm\n",
    "#     \"model__min_split_loss\": [1, 10],\n",
    "#     \"model__min_child_weight\": [1, 10],\n",
    "#     \"model__max_delta_step\": [3, 9],\n",
    "#     \"model__lambda\": [1, 10],\n",
    "#     \"model__alpha\": [1, 10],\n",
    "#     # Other\n",
    "#     # \"max_leaves\": [],\n",
    "# }]\n",
    "# # This crashes my laptop\n",
    "# xgb_params = [{\n",
    "#     # Prevents overfitting\n",
    "#     \"model__learning_rate\": [0.5, 0.7, 0.9],\n",
    "#     \"model__max_depth\": [5, 10,15],\n",
    "#     \"model__subsample\": [0.4, 0.6, 0.8],\n",
    "#     # More conservative algorithm\n",
    "#     \"model__min_split_loss\": [0.1, 1, 10],\n",
    "#     \"model__min_child_weight\": [0.1, 1, 10],\n",
    "#     \"model__max_delta_step\": [3, 6, 9],\n",
    "#     \"model__lambda\": [0.1, 1, 10],\n",
    "#     \"model__alpha\": [0.1, 1, 10],\n",
    "#     # Other\n",
    "#     # \"max_leaves\": [],\n",
    "# }]\n",
    "# # Overnight: ~6.25 hours\n",
    "# xgb_params = [{\n",
    "#     # Prevents overfitting\n",
    "#     \"model__learning_rate\": [0.3, 0.5, 0.7, 0.8, 0.9],\n",
    "#     \"model__max_depth\": [5, 10, 15, 20, 25, 30],\n",
    "#     \"model__subsample\": [0.2, 0.4, 0.6, 0.8],\n",
    "#     # More conservative algorithm\n",
    "#     \"model__min_split_loss\": [0.01, 0.1, 1, 10, 100],\n",
    "#     \"model__min_child_weight\": [0.01, 0.1, 1, 10, 100],\n",
    "#     \"model__max_delta_step\": [3, 6, 9],\n",
    "#     \"model__lambda\": [0.01, 0.1, 1, 10, 100],\n",
    "#     \"model__alpha\": [0.01, 0.1, 1, 10, 100],\n",
    "#     # Other\n",
    "#     # \"max_leaves\": [],\n",
    "# }]\n",
    "\n",
    "def calculate_runtime(params, seconds_per_model=0.25, cv_folds=5):\n",
    "    \"\"\"\n",
    "    For reference:\n",
    "    Every 36,000 permutations => 1 hour at 0.1 secs/model\n",
    "    5 hours at 0.1 secs/model is 180,000 total permutations\n",
    "    6 hours at 0.1 secs/model is 216,000 total permutations\n",
    "    7 hours at 0.1 secs/model is 252,000 total permutations\n",
    "    8 hours at 0.1 secs/model is 288,000 total permutations\n",
    "    \"\"\"\n",
    "    params = params[0]\n",
    "    total_permutations = 1\n",
    "    for param, lst in params.items():\n",
    "        total_permutations *= len(lst)\n",
    "    \n",
    "    total_permutations *= cv_folds\n",
    "    time = ((total_permutations * seconds_per_model) / 60)\n",
    "\n",
    "    return total_permutations, time\n",
    "\n",
    "rf_permutations, rf_runtime = calculate_runtime(rf_params)\n",
    "xgb_permutations, xgb_runtime = calculate_runtime(xgb_params)\n",
    "print(f\"RF - GridSearchCV has {rf_permutations} permutations and will take {rf_runtime:.2f} minutes (={rf_runtime/60:.2f})\")\n",
    "print(f\"XGB - GridSearchCV has {xgb_permutations} permutations and will take {xgb_runtime:.2f} minutes (={xgb_runtime/60:.2f} hours)\")\n"
   ]
  },
  {
   "cell_type": "code",
   "execution_count": 155,
   "metadata": {},
   "outputs": [],
   "source": [
    "# Function to test multiple classifiers\n",
    "under_sampler = RandomUnderSampler(random_state=RANDOM_STATE)\n",
    "\n",
    "params = {\n",
    "    \"BalancedBaggingClassifier\": [{\n",
    "        \"model__balancedbaggingclassifier__n_estimators\": [15],\n",
    "        \"model__balancedbaggingclassifier__max_samples\": [0.6],\n",
    "\n",
    "        # \"max_leaf_nodes\": []\n",
    "    }],\n",
    "    \"BalancedRandomForestClassifier\": [{\n",
    "        \"model__balancedrandomforestclassifier__n_estimators\": [25],\n",
    "        \"model__balancedrandomforestclassifier__max_depth\": [8],\n",
    "        \"model__balancedrandomforestclassifier__max_samples\": [0.6],\n",
    "        \"model__balancedrandomforestclassifier__class_weight\": [\"balanced\"],\n",
    "\n",
    "        # \"max_leaf_nodes\": []\n",
    "    }],\n",
    "    \"DecisionTreeClassifier\": [{\n",
    "        \"model__decisiontreeclassifier__max_depth\": [8],\n",
    "        \"model__decisiontreeclassifier__class_weight\": [\"balanced\"],\n",
    "    }],\n",
    "    \"ExtraTreeClassifier\": [{\n",
    "        \"model__extratreeclassifier__max_depth\": [8],\n",
    "        \"model__extratreeclassifier__class_weight\": [\"balanced\"],\n",
    "    }],\n",
    "    \"ExtraTreesClassifier\": [{\n",
    "        \"model__extratreesclassifier__n_estimators\": [25],\n",
    "        \"model__extratreesclassifier__max_depth\": [8],\n",
    "        \"model__extratreesclassifier__max_samples\": [0.6],\n",
    "        \"model__extratreesclassifier__bootstrap\": [True],  # this must be True if you want to use max_samples\n",
    "        \"model__extratreesclassifier__class_weight\": [\"balanced\"],\n",
    "    }],\n",
    "    \"GradientBoostingClassifier\": [{\n",
    "        \"model__gradientboostingclassifier__n_estimators\": [25],\n",
    "        \"model__gradientboostingclassifier__max_depth\": [8],\n",
    "    }],\n",
    "    \"LGBMClassifier\": [{\n",
    "        \"model__lgbmclassifier__n_estimators\": [25],\n",
    "        \"model__lgbmclassifier__max_depth\": [8],\n",
    "        \"model__lgbmclassifier__class_weight\": [\"balanced\"],\n",
    "    }],\n",
    "    \"LogisticRegression\": [{\n",
    "        \"model__logisticregression__class_weight\": [\"balanced\"],\n",
    "    }],\n",
    "    \"RandomForestClassifier\": \n",
    "        [{\n",
    "        \"model__randomforestclassifier__n_estimators\": [25],\n",
    "        \"model__randomforestclassifier__max_depth\": [8],\n",
    "        \"model__randomforestclassifier__max_samples\": [0.6],\n",
    "        \"model__randomforestclassifier__class_weight\": [\"balanced\"],\n",
    "\n",
    "        # \"max_leaf_nodes\": []\n",
    "    }],\n",
    "    \"RidgeClassifier\": [{\n",
    "        \"model__ridgeclassifier__class_weight\": [\"balanced\"],\n",
    "    }],\n",
    "    \"XGBClassifier\": [{\n",
    "        'model__xgbclassifier__alpha': [1],\n",
    "        'model__xgbclassifier__lambda': [1],\n",
    "        'model__xgbclassifier__learning_rate': [0.5],\n",
    "        'model__xgbclassifier__max_delta_step': [3],\n",
    "        'model__xgbclassifier__max_depth': [5],\n",
    "        'model__xgbclassifier__min_child_weight': [10],\n",
    "        'model__xgbclassifier__min_split_loss': [1],\n",
    "        'model__xgbclassifier__subsample': [0.5],\n",
    "        'model__xgbclassifier__class_weight': [\"balanced\"],\n",
    "    }],\n",
    "}\n",
    "def test_classifiers(train_data, train_classes, test_data, test_classes, classifiers):\n",
    "    \n",
    "    res = {}\n",
    "\n",
    "    for clf in classifiers:\n",
    "        name = clf.__class__.__name__\n",
    "\n",
    "        print(\"Now training {}...\".format(name))\n",
    "\n",
    "        start_time = time.time()\n",
    "\n",
    "        us_pipeline = make_pipeline(under_sampler, clf)\n",
    "        pipeline = Pipeline(steps=[\n",
    "            ('preprocessor', preprocessor),\n",
    "            ('model', us_pipeline)\n",
    "        ])\n",
    "\n",
    "        model = GridSearchCV(pipeline,\n",
    "                             param_grid=params[name],\n",
    "                             scoring='f1',\n",
    "                             cv=5)\n",
    "                            #  verbose=2)\n",
    "\n",
    "        model.fit(train_data, train_classes)\n",
    "        \n",
    "        acc = round(balanced_accuracy_score(test_classes, model.predict(test_data)), 3)\n",
    "        f1 = round(f1_score(y_true=test_classes, y_pred = model.predict(test_data), average='weighted'), 3)\n",
    "\n",
    "        stop_time = time.time()\n",
    "\n",
    "        time_to_run = round(stop_time - start_time,3)\n",
    "\n",
    "        print(\"{} trained in {} with an F1 of : {} and an accuracy of: {}\".format(name, time_to_run, f1, acc))\n",
    "\n",
    "        res[name] = (acc, f1, time_to_run)\n",
    "\n",
    "    return res\n",
    "# # Function to test multiple classifiers\n",
    "# def test_classifiers(train_data, train_classes, test_data, test_classes, classifiers):\n",
    "    \n",
    "#     res = {}\n",
    "\n",
    "#     for clf in classifiers:\n",
    "#         name = clf.__class__.__name__\n",
    "\n",
    "#         print(\"Now training {}...\".format(name))\n",
    "\n",
    "#         start_time = time.time()\n",
    "#         clf.fit(train_data, train_classes)\n",
    "        \n",
    "#         acc = round(balanced_accuracy_score(test_classes, clf.predict(test_data)), 3)\n",
    "#         f1 = round(f1_score(y_true=test_classes, y_pred = clf.predict(test_data), average='weighted'), 3)\n",
    "\n",
    "#         stop_time = time.time()\n",
    "\n",
    "#         time_to_run = round(stop_time - start_time,3)\n",
    "\n",
    "#         print(\"{} trained in {} with an F1 of : {} and an accuracy of: {}\".format(name, time_to_run, f1, acc))\n",
    "\n",
    "#         res[name] = (acc, f1, time_to_run)\n",
    "\n",
    "#     return res"
   ]
  },
  {
   "cell_type": "code",
   "execution_count": 156,
   "metadata": {},
   "outputs": [
    {
     "name": "stdout",
     "output_type": "stream",
     "text": [
      "Now training XGBClassifier...\n",
      "[22:45:03] WARNING: C:/Users/Administrator/workspace/xgboost-win64_release_1.6.0/src/learner.cc:627: \n",
      "Parameters: { \"categorical_feature\", \"class_weight\" } might not be used.\n",
      "\n",
      "  This could be a false alarm, with some parameters getting used by language bindings but\n",
      "  then being mistakenly passed down to XGBoost core, or some parameter actually being used\n",
      "  but getting flagged wrongly here. Please open an issue if you find any such cases.\n",
      "\n",
      "\n",
      "[22:45:04] WARNING: C:/Users/Administrator/workspace/xgboost-win64_release_1.6.0/src/learner.cc:627: \n",
      "Parameters: { \"categorical_feature\", \"class_weight\" } might not be used.\n",
      "\n",
      "  This could be a false alarm, with some parameters getting used by language bindings but\n",
      "  then being mistakenly passed down to XGBoost core, or some parameter actually being used\n",
      "  but getting flagged wrongly here. Please open an issue if you find any such cases.\n",
      "\n",
      "\n",
      "[22:45:04] WARNING: C:/Users/Administrator/workspace/xgboost-win64_release_1.6.0/src/learner.cc:627: \n",
      "Parameters: { \"categorical_feature\", \"class_weight\" } might not be used.\n",
      "\n",
      "  This could be a false alarm, with some parameters getting used by language bindings but\n",
      "  then being mistakenly passed down to XGBoost core, or some parameter actually being used\n",
      "  but getting flagged wrongly here. Please open an issue if you find any such cases.\n",
      "\n",
      "\n",
      "[22:45:04] WARNING: C:/Users/Administrator/workspace/xgboost-win64_release_1.6.0/src/learner.cc:627: \n",
      "Parameters: { \"categorical_feature\", \"class_weight\" } might not be used.\n",
      "\n",
      "  This could be a false alarm, with some parameters getting used by language bindings but\n",
      "  then being mistakenly passed down to XGBoost core, or some parameter actually being used\n",
      "  but getting flagged wrongly here. Please open an issue if you find any such cases.\n",
      "\n",
      "\n",
      "[22:45:04] WARNING: C:/Users/Administrator/workspace/xgboost-win64_release_1.6.0/src/learner.cc:627: \n",
      "Parameters: { \"categorical_feature\", \"class_weight\" } might not be used.\n",
      "\n",
      "  This could be a false alarm, with some parameters getting used by language bindings but\n",
      "  then being mistakenly passed down to XGBoost core, or some parameter actually being used\n",
      "  but getting flagged wrongly here. Please open an issue if you find any such cases.\n",
      "\n",
      "\n",
      "[22:45:04] WARNING: C:/Users/Administrator/workspace/xgboost-win64_release_1.6.0/src/learner.cc:627: \n",
      "Parameters: { \"categorical_feature\", \"class_weight\" } might not be used.\n",
      "\n",
      "  This could be a false alarm, with some parameters getting used by language bindings but\n",
      "  then being mistakenly passed down to XGBoost core, or some parameter actually being used\n",
      "  but getting flagged wrongly here. Please open an issue if you find any such cases.\n",
      "\n",
      "\n",
      "XGBClassifier trained in 0.659 with an F1 of : 0.469 and an accuracy of: 0.495\n",
      "Now training LGBMClassifier...\n",
      "LGBMClassifier trained in 0.399 with an F1 of : 0.561 and an accuracy of: 0.558\n",
      "Now training RandomForestClassifier...\n",
      "RandomForestClassifier trained in 0.895 with an F1 of : 0.516 and an accuracy of: 0.505\n",
      "Now training ExtraTreesClassifier...\n",
      "ExtraTreesClassifier trained in 0.64 with an F1 of : 0.526 and an accuracy of: 0.52\n",
      "Now training GradientBoostingClassifier...\n",
      "GradientBoostingClassifier trained in 1.175 with an F1 of : 0.526 and an accuracy of: 0.522\n",
      "Now training DecisionTreeClassifier...\n",
      "DecisionTreeClassifier trained in 0.277 with an F1 of : 0.474 and an accuracy of: 0.502\n",
      "Now training ExtraTreeClassifier...\n",
      "ExtraTreeClassifier trained in 0.277 with an F1 of : 0.508 and an accuracy of: 0.477\n",
      "Now training LogisticRegression...\n"
     ]
    },
    {
     "ename": "KeyError",
     "evalue": "'LogisticRegression'",
     "output_type": "error",
     "traceback": [
      "\u001b[1;31m---------------------------------------------------------------------------\u001b[0m",
      "\u001b[1;31mKeyError\u001b[0m                                  Traceback (most recent call last)",
      "\u001b[1;32m~\\AppData\\Local\\Temp\\ipykernel_17308\\2960492228.py\u001b[0m in \u001b[0;36m<module>\u001b[1;34m\u001b[0m\n\u001b[1;32m----> 1\u001b[1;33m \u001b[0mclassifier_results\u001b[0m \u001b[1;33m=\u001b[0m \u001b[0mtest_classifiers\u001b[0m\u001b[1;33m(\u001b[0m\u001b[0mX_train\u001b[0m\u001b[1;33m,\u001b[0m \u001b[0my_train\u001b[0m\u001b[1;33m,\u001b[0m \u001b[0mX_dev\u001b[0m\u001b[1;33m,\u001b[0m \u001b[0my_dev\u001b[0m\u001b[1;33m,\u001b[0m \u001b[0mclassifiers\u001b[0m\u001b[1;33m)\u001b[0m\u001b[1;33m\u001b[0m\u001b[1;33m\u001b[0m\u001b[0m\n\u001b[0m",
      "\u001b[1;32m~\\AppData\\Local\\Temp\\ipykernel_17308\\2288328746.py\u001b[0m in \u001b[0;36mtest_classifiers\u001b[1;34m(train_data, train_classes, test_data, test_classes, classifiers)\u001b[0m\n\u001b[0;32m     83\u001b[0m \u001b[1;33m\u001b[0m\u001b[0m\n\u001b[0;32m     84\u001b[0m         model = GridSearchCV(pipeline,\n\u001b[1;32m---> 85\u001b[1;33m                              \u001b[0mparam_grid\u001b[0m\u001b[1;33m=\u001b[0m\u001b[0mparams\u001b[0m\u001b[1;33m[\u001b[0m\u001b[0mname\u001b[0m\u001b[1;33m]\u001b[0m\u001b[1;33m,\u001b[0m\u001b[1;33m\u001b[0m\u001b[1;33m\u001b[0m\u001b[0m\n\u001b[0m\u001b[0;32m     86\u001b[0m                              \u001b[0mscoring\u001b[0m\u001b[1;33m=\u001b[0m\u001b[1;34m'f1'\u001b[0m\u001b[1;33m,\u001b[0m\u001b[1;33m\u001b[0m\u001b[1;33m\u001b[0m\u001b[0m\n\u001b[0;32m     87\u001b[0m                              cv=5)\n",
      "\u001b[1;31mKeyError\u001b[0m: 'LogisticRegression'"
     ]
    }
   ],
   "source": [
    "classifier_results = test_classifiers(X_train, y_train, X_dev, y_dev, classifiers)"
   ]
  },
  {
   "cell_type": "code",
   "execution_count": 92,
   "metadata": {},
   "outputs": [],
   "source": [
    "rf = GridSearchCV(rf_pipeline,\n",
    "                      param_grid=rf_params,\n",
    "                      scoring='f1',\n",
    "                      cv=5,\n",
    "                      verbose=2)\n",
    "brf = GridSearchCV(brf_pipeline,\n",
    "                      param_grid=brf_params,\n",
    "                      scoring='f1',\n",
    "                      cv=5,\n",
    "                      verbose=2)\n",
    "bb = GridSearchCV(bb_pipeline,\n",
    "                      param_grid=bb_params,\n",
    "                      scoring='f1',\n",
    "                      cv=5,\n",
    "                      verbose=2)\n",
    "xgb = GridSearchCV(xgb_pipeline,\n",
    "                      param_grid=xgb_params,\n",
    "                      scoring='f1',\n",
    "                      cv=5,\n",
    "                      verbose=2)"
   ]
  },
  {
   "cell_type": "code",
   "execution_count": 93,
   "metadata": {},
   "outputs": [
    {
     "name": "stdout",
     "output_type": "stream",
     "text": [
      "Fitting 5 folds for each of 1 candidates, totalling 5 fits\n",
      "[CV] END model__randomforestclassifier__class_weight=balanced, model__randomforestclassifier__max_depth=8, model__randomforestclassifier__max_samples=0.6, model__randomforestclassifier__n_estimators=25; total time=   0.5s\n",
      "[CV] END model__randomforestclassifier__class_weight=balanced, model__randomforestclassifier__max_depth=8, model__randomforestclassifier__max_samples=0.6, model__randomforestclassifier__n_estimators=25; total time=   0.3s\n",
      "[CV] END model__randomforestclassifier__class_weight=balanced, model__randomforestclassifier__max_depth=8, model__randomforestclassifier__max_samples=0.6, model__randomforestclassifier__n_estimators=25; total time=   0.3s\n",
      "[CV] END model__randomforestclassifier__class_weight=balanced, model__randomforestclassifier__max_depth=8, model__randomforestclassifier__max_samples=0.6, model__randomforestclassifier__n_estimators=25; total time=   0.3s\n",
      "[CV] END model__randomforestclassifier__class_weight=balanced, model__randomforestclassifier__max_depth=8, model__randomforestclassifier__max_samples=0.6, model__randomforestclassifier__n_estimators=25; total time=   0.1s\n"
     ]
    },
    {
     "data": {
      "text/plain": [
       "GridSearchCV(cv=5,\n",
       "             estimator=Pipeline(steps=[('preprocessor',\n",
       "                                        ColumnTransformer(transformers=[('cat',\n",
       "                                                                         Pipeline(steps=[('onehot',\n",
       "                                                                                          OneHotEncoder(handle_unknown='ignore'))]),\n",
       "                                                                         ['Side',\n",
       "                                                                          'teams_region',\n",
       "                                                                          'teammate_role_top',\n",
       "                                                                          'teammate_role_jungle',\n",
       "                                                                          'teammate_role_mid',\n",
       "                                                                          'teammate_role_adc',\n",
       "                                                                          'teammate_role_support',\n",
       "                                                                          'enemy_role_top',\n",
       "                                                                          'enemy_role_jungle',\n",
       "                                                                          'enemy_role_mid'...\n",
       "                                                         RandomUnderSampler(random_state=30)),\n",
       "                                                        ('randomforestclassifier',\n",
       "                                                         RandomForestClassifier(random_state=30))]))]),\n",
       "             param_grid=[{'model__randomforestclassifier__class_weight': ['balanced'],\n",
       "                          'model__randomforestclassifier__max_depth': [8],\n",
       "                          'model__randomforestclassifier__max_samples': [0.6],\n",
       "                          'model__randomforestclassifier__n_estimators': [25]}],\n",
       "             scoring='f1', verbose=2)"
      ]
     },
     "execution_count": 93,
     "metadata": {},
     "output_type": "execute_result"
    }
   ],
   "source": [
    "# rf_pipeline.fit(X_train, y_train)\n",
    "rf.fit(X_train, y_train)"
   ]
  },
  {
   "cell_type": "code",
   "execution_count": 94,
   "metadata": {},
   "outputs": [
    {
     "name": "stdout",
     "output_type": "stream",
     "text": [
      "0.5787500292005598\n",
      "{'model__randomforestclassifier__class_weight': 'balanced', 'model__randomforestclassifier__max_depth': 8, 'model__randomforestclassifier__max_samples': 0.6, 'model__randomforestclassifier__n_estimators': 25}\n"
     ]
    }
   ],
   "source": [
    "print(rf.best_score_)\n",
    "print(rf.best_params_)"
   ]
  },
  {
   "cell_type": "code",
   "execution_count": 95,
   "metadata": {},
   "outputs": [
    {
     "name": "stdout",
     "output_type": "stream",
     "text": [
      "Fitting 5 folds for each of 1 candidates, totalling 5 fits\n",
      "[CV] END model__balancedrandomforestclassifier__class_weight=balanced, model__balancedrandomforestclassifier__max_depth=8, model__balancedrandomforestclassifier__max_samples=0.6, model__balancedrandomforestclassifier__n_estimators=25; total time=   0.5s\n",
      "[CV] END model__balancedrandomforestclassifier__class_weight=balanced, model__balancedrandomforestclassifier__max_depth=8, model__balancedrandomforestclassifier__max_samples=0.6, model__balancedrandomforestclassifier__n_estimators=25; total time=   0.5s\n",
      "[CV] END model__balancedrandomforestclassifier__class_weight=balanced, model__balancedrandomforestclassifier__max_depth=8, model__balancedrandomforestclassifier__max_samples=0.6, model__balancedrandomforestclassifier__n_estimators=25; total time=   0.6s\n",
      "[CV] END model__balancedrandomforestclassifier__class_weight=balanced, model__balancedrandomforestclassifier__max_depth=8, model__balancedrandomforestclassifier__max_samples=0.6, model__balancedrandomforestclassifier__n_estimators=25; total time=   0.5s\n",
      "[CV] END model__balancedrandomforestclassifier__class_weight=balanced, model__balancedrandomforestclassifier__max_depth=8, model__balancedrandomforestclassifier__max_samples=0.6, model__balancedrandomforestclassifier__n_estimators=25; total time=   0.6s\n"
     ]
    },
    {
     "data": {
      "text/plain": [
       "GridSearchCV(cv=5,\n",
       "             estimator=Pipeline(steps=[('preprocessor',\n",
       "                                        ColumnTransformer(transformers=[('cat',\n",
       "                                                                         Pipeline(steps=[('onehot',\n",
       "                                                                                          OneHotEncoder(handle_unknown='ignore'))]),\n",
       "                                                                         ['Side',\n",
       "                                                                          'teams_region',\n",
       "                                                                          'teammate_role_top',\n",
       "                                                                          'teammate_role_jungle',\n",
       "                                                                          'teammate_role_mid',\n",
       "                                                                          'teammate_role_adc',\n",
       "                                                                          'teammate_role_support',\n",
       "                                                                          'enemy_role_top',\n",
       "                                                                          'enemy_role_jungle',\n",
       "                                                                          'enemy_role_mid'...\n",
       "                                                        ('balancedrandomforestclassifier',\n",
       "                                                         BalancedRandomForestClassifier(random_state=30))]))]),\n",
       "             param_grid=[{'model__balancedrandomforestclassifier__class_weight': ['balanced'],\n",
       "                          'model__balancedrandomforestclassifier__max_depth': [8],\n",
       "                          'model__balancedrandomforestclassifier__max_samples': [0.6],\n",
       "                          'model__balancedrandomforestclassifier__n_estimators': [25]}],\n",
       "             scoring='f1', verbose=2)"
      ]
     },
     "execution_count": 95,
     "metadata": {},
     "output_type": "execute_result"
    }
   ],
   "source": [
    "brf.fit(X_train, y_train)"
   ]
  },
  {
   "cell_type": "code",
   "execution_count": 96,
   "metadata": {},
   "outputs": [
    {
     "name": "stdout",
     "output_type": "stream",
     "text": [
      "Fitting 5 folds for each of 9 candidates, totalling 45 fits\n",
      "[CV] END model__balancedbaggingclassifier__max_samples=0.5, model__balancedbaggingclassifier__n_estimators=15; total time=   0.2s\n",
      "[CV] END model__balancedbaggingclassifier__max_samples=0.5, model__balancedbaggingclassifier__n_estimators=15; total time=   0.2s\n",
      "[CV] END model__balancedbaggingclassifier__max_samples=0.5, model__balancedbaggingclassifier__n_estimators=15; total time=   0.2s\n",
      "[CV] END model__balancedbaggingclassifier__max_samples=0.5, model__balancedbaggingclassifier__n_estimators=15; total time=   0.3s\n",
      "[CV] END model__balancedbaggingclassifier__max_samples=0.5, model__balancedbaggingclassifier__n_estimators=15; total time=   0.5s\n",
      "[CV] END model__balancedbaggingclassifier__max_samples=0.5, model__balancedbaggingclassifier__n_estimators=25; total time=   0.8s\n",
      "[CV] END model__balancedbaggingclassifier__max_samples=0.5, model__balancedbaggingclassifier__n_estimators=25; total time=   0.7s\n",
      "[CV] END model__balancedbaggingclassifier__max_samples=0.5, model__balancedbaggingclassifier__n_estimators=25; total time=   0.7s\n",
      "[CV] END model__balancedbaggingclassifier__max_samples=0.5, model__balancedbaggingclassifier__n_estimators=25; total time=   0.8s\n",
      "[CV] END model__balancedbaggingclassifier__max_samples=0.5, model__balancedbaggingclassifier__n_estimators=25; total time=   0.8s\n",
      "[CV] END model__balancedbaggingclassifier__max_samples=0.5, model__balancedbaggingclassifier__n_estimators=35; total time=   1.1s\n",
      "[CV] END model__balancedbaggingclassifier__max_samples=0.5, model__balancedbaggingclassifier__n_estimators=35; total time=   1.1s\n",
      "[CV] END model__balancedbaggingclassifier__max_samples=0.5, model__balancedbaggingclassifier__n_estimators=35; total time=   1.0s\n",
      "[CV] END model__balancedbaggingclassifier__max_samples=0.5, model__balancedbaggingclassifier__n_estimators=35; total time=   1.1s\n",
      "[CV] END model__balancedbaggingclassifier__max_samples=0.5, model__balancedbaggingclassifier__n_estimators=35; total time=   1.2s\n",
      "[CV] END model__balancedbaggingclassifier__max_samples=0.6, model__balancedbaggingclassifier__n_estimators=15; total time=   0.4s\n",
      "[CV] END model__balancedbaggingclassifier__max_samples=0.6, model__balancedbaggingclassifier__n_estimators=15; total time=   0.5s\n",
      "[CV] END model__balancedbaggingclassifier__max_samples=0.6, model__balancedbaggingclassifier__n_estimators=15; total time=   0.4s\n",
      "[CV] END model__balancedbaggingclassifier__max_samples=0.6, model__balancedbaggingclassifier__n_estimators=15; total time=   0.5s\n",
      "[CV] END model__balancedbaggingclassifier__max_samples=0.6, model__balancedbaggingclassifier__n_estimators=15; total time=   0.6s\n",
      "[CV] END model__balancedbaggingclassifier__max_samples=0.6, model__balancedbaggingclassifier__n_estimators=25; total time=   0.8s\n",
      "[CV] END model__balancedbaggingclassifier__max_samples=0.6, model__balancedbaggingclassifier__n_estimators=25; total time=   0.8s\n",
      "[CV] END model__balancedbaggingclassifier__max_samples=0.6, model__balancedbaggingclassifier__n_estimators=25; total time=   0.7s\n",
      "[CV] END model__balancedbaggingclassifier__max_samples=0.6, model__balancedbaggingclassifier__n_estimators=25; total time=   0.8s\n",
      "[CV] END model__balancedbaggingclassifier__max_samples=0.6, model__balancedbaggingclassifier__n_estimators=25; total time=   0.9s\n",
      "[CV] END model__balancedbaggingclassifier__max_samples=0.6, model__balancedbaggingclassifier__n_estimators=35; total time=   1.2s\n",
      "[CV] END model__balancedbaggingclassifier__max_samples=0.6, model__balancedbaggingclassifier__n_estimators=35; total time=   1.2s\n",
      "[CV] END model__balancedbaggingclassifier__max_samples=0.6, model__balancedbaggingclassifier__n_estimators=35; total time=   1.2s\n",
      "[CV] END model__balancedbaggingclassifier__max_samples=0.6, model__balancedbaggingclassifier__n_estimators=35; total time=   1.0s\n",
      "[CV] END model__balancedbaggingclassifier__max_samples=0.6, model__balancedbaggingclassifier__n_estimators=35; total time=   1.1s\n",
      "[CV] END model__balancedbaggingclassifier__max_samples=0.7, model__balancedbaggingclassifier__n_estimators=15; total time=   0.5s\n",
      "[CV] END model__balancedbaggingclassifier__max_samples=0.7, model__balancedbaggingclassifier__n_estimators=15; total time=   0.4s\n",
      "[CV] END model__balancedbaggingclassifier__max_samples=0.7, model__balancedbaggingclassifier__n_estimators=15; total time=   0.5s\n",
      "[CV] END model__balancedbaggingclassifier__max_samples=0.7, model__balancedbaggingclassifier__n_estimators=15; total time=   0.5s\n",
      "[CV] END model__balancedbaggingclassifier__max_samples=0.7, model__balancedbaggingclassifier__n_estimators=15; total time=   0.5s\n",
      "[CV] END model__balancedbaggingclassifier__max_samples=0.7, model__balancedbaggingclassifier__n_estimators=25; total time=   0.9s\n",
      "[CV] END model__balancedbaggingclassifier__max_samples=0.7, model__balancedbaggingclassifier__n_estimators=25; total time=   0.8s\n",
      "[CV] END model__balancedbaggingclassifier__max_samples=0.7, model__balancedbaggingclassifier__n_estimators=25; total time=   1.0s\n",
      "[CV] END model__balancedbaggingclassifier__max_samples=0.7, model__balancedbaggingclassifier__n_estimators=25; total time=   0.9s\n",
      "[CV] END model__balancedbaggingclassifier__max_samples=0.7, model__balancedbaggingclassifier__n_estimators=25; total time=   0.8s\n",
      "[CV] END model__balancedbaggingclassifier__max_samples=0.7, model__balancedbaggingclassifier__n_estimators=35; total time=   1.2s\n",
      "[CV] END model__balancedbaggingclassifier__max_samples=0.7, model__balancedbaggingclassifier__n_estimators=35; total time=   1.3s\n",
      "[CV] END model__balancedbaggingclassifier__max_samples=0.7, model__balancedbaggingclassifier__n_estimators=35; total time=   1.2s\n",
      "[CV] END model__balancedbaggingclassifier__max_samples=0.7, model__balancedbaggingclassifier__n_estimators=35; total time=   1.2s\n",
      "[CV] END model__balancedbaggingclassifier__max_samples=0.7, model__balancedbaggingclassifier__n_estimators=35; total time=   1.2s\n"
     ]
    },
    {
     "data": {
      "text/plain": [
       "GridSearchCV(cv=5,\n",
       "             estimator=Pipeline(steps=[('preprocessor',\n",
       "                                        ColumnTransformer(transformers=[('cat',\n",
       "                                                                         Pipeline(steps=[('onehot',\n",
       "                                                                                          OneHotEncoder(handle_unknown='ignore'))]),\n",
       "                                                                         ['Side',\n",
       "                                                                          'teams_region',\n",
       "                                                                          'teammate_role_top',\n",
       "                                                                          'teammate_role_jungle',\n",
       "                                                                          'teammate_role_mid',\n",
       "                                                                          'teammate_role_adc',\n",
       "                                                                          'teammate_role_support',\n",
       "                                                                          'enemy_role_top',\n",
       "                                                                          'enemy_role_jungle',\n",
       "                                                                          'enemy_role_mid'...\n",
       "                                                                          'enemy_role_support',\n",
       "                                                                          'tournament_type'])])),\n",
       "                                       ('model',\n",
       "                                        Pipeline(steps=[('randomundersampler',\n",
       "                                                         RandomUnderSampler(random_state=30)),\n",
       "                                                        ('balancedbaggingclassifier',\n",
       "                                                         BalancedBaggingClassifier(random_state=30))]))]),\n",
       "             param_grid=[{'model__balancedbaggingclassifier__max_samples': [0.5,\n",
       "                                                                            0.6,\n",
       "                                                                            0.7],\n",
       "                          'model__balancedbaggingclassifier__n_estimators': [15,\n",
       "                                                                             25,\n",
       "                                                                             35]}],\n",
       "             scoring='f1', verbose=2)"
      ]
     },
     "execution_count": 96,
     "metadata": {},
     "output_type": "execute_result"
    }
   ],
   "source": [
    "bb.fit(X_train, y_train)"
   ]
  },
  {
   "cell_type": "code",
   "execution_count": 97,
   "metadata": {},
   "outputs": [
    {
     "name": "stdout",
     "output_type": "stream",
     "text": [
      "Fitting 5 folds for each of 1 candidates, totalling 5 fits\n",
      "[21:43:54] WARNING: C:/Users/Administrator/workspace/xgboost-win64_release_1.6.0/src/learner.cc:627: \n",
      "Parameters: { \"class_weight\" } might not be used.\n",
      "\n",
      "  This could be a false alarm, with some parameters getting used by language bindings but\n",
      "  then being mistakenly passed down to XGBoost core, or some parameter actually being used\n",
      "  but getting flagged wrongly here. Please open an issue if you find any such cases.\n",
      "\n",
      "\n",
      "[CV] END model__xgbclassifier__alpha=1, model__xgbclassifier__class_weight=balanced, model__xgbclassifier__lambda=1, model__xgbclassifier__learning_rate=0.5, model__xgbclassifier__max_delta_step=3, model__xgbclassifier__max_depth=5, model__xgbclassifier__min_child_weight=10, model__xgbclassifier__min_split_loss=1, model__xgbclassifier__subsample=0.5; total time=   2.2s\n",
      "[21:43:54] WARNING: C:/Users/Administrator/workspace/xgboost-win64_release_1.6.0/src/learner.cc:627: \n",
      "Parameters: { \"class_weight\" } might not be used.\n",
      "\n",
      "  This could be a false alarm, with some parameters getting used by language bindings but\n",
      "  then being mistakenly passed down to XGBoost core, or some parameter actually being used\n",
      "  but getting flagged wrongly here. Please open an issue if you find any such cases.\n",
      "\n",
      "\n",
      "[CV] END model__xgbclassifier__alpha=1, model__xgbclassifier__class_weight=balanced, model__xgbclassifier__lambda=1, model__xgbclassifier__learning_rate=0.5, model__xgbclassifier__max_delta_step=3, model__xgbclassifier__max_depth=5, model__xgbclassifier__min_child_weight=10, model__xgbclassifier__min_split_loss=1, model__xgbclassifier__subsample=0.5; total time=   0.1s\n",
      "[21:43:55] WARNING: C:/Users/Administrator/workspace/xgboost-win64_release_1.6.0/src/learner.cc:627: \n",
      "Parameters: { \"class_weight\" } might not be used.\n",
      "\n",
      "  This could be a false alarm, with some parameters getting used by language bindings but\n",
      "  then being mistakenly passed down to XGBoost core, or some parameter actually being used\n",
      "  but getting flagged wrongly here. Please open an issue if you find any such cases.\n",
      "\n",
      "\n",
      "[CV] END model__xgbclassifier__alpha=1, model__xgbclassifier__class_weight=balanced, model__xgbclassifier__lambda=1, model__xgbclassifier__learning_rate=0.5, model__xgbclassifier__max_delta_step=3, model__xgbclassifier__max_depth=5, model__xgbclassifier__min_child_weight=10, model__xgbclassifier__min_split_loss=1, model__xgbclassifier__subsample=0.5; total time=   0.1s\n",
      "[21:43:55] WARNING: C:/Users/Administrator/workspace/xgboost-win64_release_1.6.0/src/learner.cc:627: \n",
      "Parameters: { \"class_weight\" } might not be used.\n",
      "\n",
      "  This could be a false alarm, with some parameters getting used by language bindings but\n",
      "  then being mistakenly passed down to XGBoost core, or some parameter actually being used\n",
      "  but getting flagged wrongly here. Please open an issue if you find any such cases.\n",
      "\n",
      "\n",
      "[CV] END model__xgbclassifier__alpha=1, model__xgbclassifier__class_weight=balanced, model__xgbclassifier__lambda=1, model__xgbclassifier__learning_rate=0.5, model__xgbclassifier__max_delta_step=3, model__xgbclassifier__max_depth=5, model__xgbclassifier__min_child_weight=10, model__xgbclassifier__min_split_loss=1, model__xgbclassifier__subsample=0.5; total time=   0.1s\n",
      "[21:43:55] WARNING: C:/Users/Administrator/workspace/xgboost-win64_release_1.6.0/src/learner.cc:627: \n",
      "Parameters: { \"class_weight\" } might not be used.\n",
      "\n",
      "  This could be a false alarm, with some parameters getting used by language bindings but\n",
      "  then being mistakenly passed down to XGBoost core, or some parameter actually being used\n",
      "  but getting flagged wrongly here. Please open an issue if you find any such cases.\n",
      "\n",
      "\n",
      "[CV] END model__xgbclassifier__alpha=1, model__xgbclassifier__class_weight=balanced, model__xgbclassifier__lambda=1, model__xgbclassifier__learning_rate=0.5, model__xgbclassifier__max_delta_step=3, model__xgbclassifier__max_depth=5, model__xgbclassifier__min_child_weight=10, model__xgbclassifier__min_split_loss=1, model__xgbclassifier__subsample=0.5; total time=   0.1s\n",
      "[21:43:55] WARNING: C:/Users/Administrator/workspace/xgboost-win64_release_1.6.0/src/learner.cc:627: \n",
      "Parameters: { \"class_weight\" } might not be used.\n",
      "\n",
      "  This could be a false alarm, with some parameters getting used by language bindings but\n",
      "  then being mistakenly passed down to XGBoost core, or some parameter actually being used\n",
      "  but getting flagged wrongly here. Please open an issue if you find any such cases.\n",
      "\n",
      "\n"
     ]
    },
    {
     "data": {
      "text/plain": [
       "GridSearchCV(cv=5,\n",
       "             estimator=Pipeline(steps=[('preprocessor',\n",
       "                                        ColumnTransformer(transformers=[('cat',\n",
       "                                                                         Pipeline(steps=[('onehot',\n",
       "                                                                                          OneHotEncoder(handle_unknown='ignore'))]),\n",
       "                                                                         ['Side',\n",
       "                                                                          'teams_region',\n",
       "                                                                          'teammate_role_top',\n",
       "                                                                          'teammate_role_jungle',\n",
       "                                                                          'teammate_role_mid',\n",
       "                                                                          'teammate_role_adc',\n",
       "                                                                          'teammate_role_support',\n",
       "                                                                          'enemy_role_top',\n",
       "                                                                          'enemy_role_jungle',\n",
       "                                                                          'enemy_role_mid'...\n",
       "                          'model__xgbclassifier__class_weight': ['balanced'],\n",
       "                          'model__xgbclassifier__lambda': [1],\n",
       "                          'model__xgbclassifier__learning_rate': [0.5],\n",
       "                          'model__xgbclassifier__max_delta_step': [3],\n",
       "                          'model__xgbclassifier__max_depth': [5],\n",
       "                          'model__xgbclassifier__min_child_weight': [10],\n",
       "                          'model__xgbclassifier__min_split_loss': [1],\n",
       "                          'model__xgbclassifier__subsample': [0.5]}],\n",
       "             scoring='f1', verbose=2)"
      ]
     },
     "execution_count": 97,
     "metadata": {},
     "output_type": "execute_result"
    }
   ],
   "source": [
    "# xgb_pipeline.fit(X_train, y_train)\n",
    "xgb.fit(X_train, y_train)"
   ]
  },
  {
   "cell_type": "code",
   "execution_count": 98,
   "metadata": {},
   "outputs": [],
   "source": [
    "# X_temp = numpy.asarray(X_train).astype(numpy.float32)\n",
    "# nn_pipeline.fit(\n",
    "#     X_temp, y_train,\n",
    "#     model__validation_data=(X_test, y_test),\n",
    "#     model__batch_size=64,\n",
    "#     model__epochs=1000,\n",
    "#     model__callbacks=[early_stopping],\n",
    "#     # model__verbose=0, # hide the output because we have so many epochs\n",
    "# )"
   ]
  },
  {
   "cell_type": "code",
   "execution_count": 99,
   "metadata": {},
   "outputs": [],
   "source": [
    "# rf_predict_train = rf_pipeline.predict(X_train)\n",
    "# rf_predict_test = rf_pipeline.predict(X_test)\n",
    "rf_predict_train = rf.predict(X_train)\n",
    "rf_predict_test = rf.predict(X_test)"
   ]
  },
  {
   "cell_type": "code",
   "execution_count": 100,
   "metadata": {},
   "outputs": [
    {
     "name": "stdout",
     "output_type": "stream",
     "text": [
      "The F1 Score for the RF model on the training set is: 75.63%\n",
      "The F1 Score for the RF model on the test set  is: 60.43%\n"
     ]
    }
   ],
   "source": [
    "rf_train_f1_score = f1_score(y_train, rf_predict_train, average=\"binary\")\n",
    "print(f\"The F1 Score for the RF model on the training set is: {rf_train_f1_score * 100:.2f}%\")\n",
    "rf_test_f1_score = f1_score(y_test, rf_predict_test, average=\"binary\")\n",
    "print(f\"The F1 Score for the RF model on the test set  is: {rf_test_f1_score * 100:.2f}%\")"
   ]
  },
  {
   "cell_type": "code",
   "execution_count": 101,
   "metadata": {},
   "outputs": [],
   "source": [
    "brf_predict_train = brf.predict(X_train)\n",
    "brf_predict_test = brf.predict(X_test)"
   ]
  },
  {
   "cell_type": "code",
   "execution_count": 102,
   "metadata": {},
   "outputs": [
    {
     "name": "stdout",
     "output_type": "stream",
     "text": [
      "The F1 Score for the BRF model on the training set is: 75.16%\n",
      "The F1 Score for the BRF model on the test set  is: 59.66%\n"
     ]
    }
   ],
   "source": [
    "brf_train_f1_score = f1_score(y_train, brf_predict_train, average=\"binary\")\n",
    "print(f\"The F1 Score for the BRF model on the training set is: {brf_train_f1_score * 100:.2f}%\")\n",
    "brf_test_f1_score = f1_score(y_test, brf_predict_test, average=\"binary\")\n",
    "print(f\"The F1 Score for the BRF model on the test set  is: {brf_test_f1_score * 100:.2f}%\")"
   ]
  },
  {
   "cell_type": "code",
   "execution_count": 103,
   "metadata": {},
   "outputs": [],
   "source": [
    "bb_predict_train = bb.predict(X_train)\n",
    "bb_predict_test = bb.predict(X_test)"
   ]
  },
  {
   "cell_type": "code",
   "execution_count": 104,
   "metadata": {},
   "outputs": [
    {
     "name": "stdout",
     "output_type": "stream",
     "text": [
      "The F1 Score for the bb model on the training set is: 86.79%\n",
      "The F1 Score for the bb model on the test set  is: 67.95%\n"
     ]
    }
   ],
   "source": [
    "bb_train_f1_score = f1_score(y_train, bb_predict_train, average=\"binary\")\n",
    "print(f\"The F1 Score for the bb model on the training set is: {bb_train_f1_score * 100:.2f}%\")\n",
    "bb_test_f1_score = f1_score(y_test, bb_predict_test, average=\"binary\")\n",
    "print(f\"The F1 Score for the bb model on the test set  is: {bb_test_f1_score * 100:.2f}%\")"
   ]
  },
  {
   "cell_type": "code",
   "execution_count": 105,
   "metadata": {},
   "outputs": [
    {
     "name": "stdout",
     "output_type": "stream",
     "text": [
      "0.5843877151549786\n",
      "{'model__xgbclassifier__alpha': 1, 'model__xgbclassifier__class_weight': 'balanced', 'model__xgbclassifier__lambda': 1, 'model__xgbclassifier__learning_rate': 0.5, 'model__xgbclassifier__max_delta_step': 3, 'model__xgbclassifier__max_depth': 5, 'model__xgbclassifier__min_child_weight': 10, 'model__xgbclassifier__min_split_loss': 1, 'model__xgbclassifier__subsample': 0.5}\n"
     ]
    }
   ],
   "source": [
    "# xgb_predict_train = xgb_pipeline.predict(X_train)\n",
    "# xgb_predict_test = xgb_pipeline.predict(X_test)\n",
    "xgb_predict_train = xgb.predict(X_train)\n",
    "xgb_predict_test = xgb.predict(X_test)"
   ]
  },
  {
   "cell_type": "code",
   "execution_count": 106,
   "metadata": {},
   "outputs": [
    {
     "name": "stdout",
     "output_type": "stream",
     "text": [
      "The F1 Score for the XGB model on the training set is: 65.70%\n",
      "The F1 Score for the XGB model on the test set  is: 63.37%\n"
     ]
    }
   ],
   "source": [
    "xgb_train_f1_score = f1_score(y_train, xgb_predict_train, average=\"binary\")\n",
    "print(f\"The F1 Score for the XGB model on the training set is: {xgb_train_f1_score * 100:.2f}%\")\n",
    "xgb_test_f1_score = f1_score(y_test, xgb_predict_test, average=\"binary\")\n",
    "print(f\"The F1 Score for the XGB model on the test set  is: {xgb_test_f1_score * 100:.2f}%\")"
   ]
  },
  {
   "cell_type": "code",
   "execution_count": 109,
   "metadata": {},
   "outputs": [
    {
     "name": "stdout",
     "output_type": "stream",
     "text": [
      "0.5787500292005598\n",
      "0.6168303808578155\n",
      "0.5985062395231887\n",
      "0.5843877151549786\n"
     ]
    }
   ],
   "source": [
    "print(rf.best_score_)\n",
    "print(brf.best_score_)\n",
    "print(bb.best_score_)\n",
    "print(xgb.best_score_)"
   ]
  },
  {
   "cell_type": "code",
   "execution_count": 116,
   "metadata": {},
   "outputs": [
    {
     "data": {
      "text/plain": [
       "array(['Side', 'tournament_curr_win_percentage', 'teams_region',\n",
       "       'teammate_role_top', 'teammate_role_jungle', 'teammate_role_mid',\n",
       "       'teammate_role_adc', 'teammate_role_support', 'enemy_role_top',\n",
       "       'enemy_role_jungle', 'enemy_role_mid', 'enemy_role_adc',\n",
       "       'enemy_role_support', 'tournament_type',\n",
       "       'blue_physical_damage_perc', 'blue_magic_damage_perc',\n",
       "       'blue_true_damage_perc', 'red_physical_damage_perc',\n",
       "       'red_magic_damage_perc', 'red_true_damage_perc'], dtype=object)"
      ]
     },
     "execution_count": 116,
     "metadata": {},
     "output_type": "execute_result"
    }
   ],
   "source": [
    "xgb.feature_names_in_"
   ]
  },
  {
   "cell_type": "code",
   "execution_count": 117,
   "metadata": {},
   "outputs": [
    {
     "name": "stdout",
     "output_type": "stream",
     "text": [
      "{'model__randomforestclassifier__class_weight': 'balanced', 'model__randomforestclassifier__max_depth': 8, 'model__randomforestclassifier__max_samples': 0.6, 'model__randomforestclassifier__n_estimators': 25}\n",
      "{'model__balancedrandomforestclassifier__class_weight': 'balanced', 'model__balancedrandomforestclassifier__max_depth': 8, 'model__balancedrandomforestclassifier__max_samples': 0.6, 'model__balancedrandomforestclassifier__n_estimators': 25}\n",
      "{'model__balancedbaggingclassifier__max_samples': 0.6, 'model__balancedbaggingclassifier__n_estimators': 15}\n",
      "{'model__xgbclassifier__alpha': 1, 'model__xgbclassifier__class_weight': 'balanced', 'model__xgbclassifier__lambda': 1, 'model__xgbclassifier__learning_rate': 0.5, 'model__xgbclassifier__max_delta_step': 3, 'model__xgbclassifier__max_depth': 5, 'model__xgbclassifier__min_child_weight': 10, 'model__xgbclassifier__min_split_loss': 1, 'model__xgbclassifier__subsample': 0.5}\n"
     ]
    }
   ],
   "source": [
    "print(rf.best_params_)\n",
    "print(brf.best_params_)\n",
    "print(bb.best_params_)\n",
    "print(xgb.best_params_)"
   ]
  },
  {
   "cell_type": "code",
   "execution_count": 226,
   "metadata": {},
   "outputs": [],
   "source": [
    "feature_importance_scores = xgb.best_estimator_[1][1].feature_importances_"
   ]
  },
  {
   "cell_type": "code",
   "execution_count": 247,
   "metadata": {},
   "outputs": [
    {
     "data": {
      "text/plain": [
       "{'f134': 23.0,\n",
       " 'f31': 22.0,\n",
       " 'f115': 22.0,\n",
       " 'f57': 21.0,\n",
       " 'f87': 19.0,\n",
       " 'f0': 16.0,\n",
       " 'f96': 11.0,\n",
       " 'f121': 11.0,\n",
       " 'f39': 10.0,\n",
       " 'f97': 10.0,\n",
       " 'f127': 10.0,\n",
       " 'f128': 10.0,\n",
       " 'f69': 9.0,\n",
       " 'f40': 8.0,\n",
       " 'f70': 8.0,\n",
       " 'f75': 7.0,\n",
       " 'f64': 6.0,\n",
       " 'f112': 6.0,\n",
       " 'f117': 5.0,\n",
       " 'f19': 4.0,\n",
       " 'f35': 4.0,\n",
       " 'f54': 3.0,\n",
       " 'f66': 3.0,\n",
       " 'f59': 2.0,\n",
       " 'f81': 2.0,\n",
       " 'f92': 2.0,\n",
       " 'f7': 1.0,\n",
       " 'f25': 1.0,\n",
       " 'f133': 1.0}"
      ]
     },
     "execution_count": 247,
     "metadata": {},
     "output_type": "execute_result"
    }
   ],
   "source": [
    "bar = xgb.best_estimator_[1][1].get_booster().get_score(importance_type=\"weight\")\n",
    "bar = {k: v for k, v in sorted(bar.items(), key=lambda item: item[1], reverse=True)}\n",
    "bar"
   ]
  },
  {
   "cell_type": "code",
   "execution_count": 194,
   "metadata": {},
   "outputs": [
    {
     "data": {
      "image/png": "[encoded data removed]",
      "text/plain": [
       "<Figure size 432x288 with 1 Axes>"
      ]
     },
     "metadata": {
      "needs_background": "light"
     },
     "output_type": "display_data"
    }
   ],
   "source": [
    "from matplotlib import pyplot\n",
    "# plot\n",
    "pyplot.bar(range(len(foo)), foo)\n",
    "pyplot.show()"
   ]
  },
  {
   "cell_type": "code",
   "execution_count": 241,
   "metadata": {},
   "outputs": [
    {
     "data": {
      "image/png": "[encoded data removed]",
      "text/plain": [
       "<Figure size 1080x1080 with 1 Axes>"
      ]
     },
     "metadata": {
      "needs_background": "light"
     },
     "output_type": "display_data"
    }
   ],
   "source": [
    "from xgboost import plot_importance\n",
    "fig, ax = plt.subplots(1,1,figsize=(15,15))\n",
    "# plot_importance(xgb.best_estimator_[1][1])\n",
    "plot_importance(xgb.best_estimator_[1][1], height=0.5, ax=ax)\n",
    "# plt.rcParams[\"figure.figsize\"] = (15,15)\n",
    "plt.show()"
   ]
  },
  {
   "cell_type": "code",
   "execution_count": 240,
   "metadata": {},
   "outputs": [
    {
     "data": {
      "text/plain": [
       "{'59_teammate_role_adc_Sniper': 0.07533526,\n",
       " '54_teammate_role_adc_Glasscannon': 0.05071324,\n",
       " '127_enemy_role_support_Vanguard': 0.046767734,\n",
       " '70_teammate_role_support_Warden': 0.042123064,\n",
       " '133_tournament_type_Playoffs': 0.03988716,\n",
       " '92_enemy_role_jungle_Vanguard': 0.038308017,\n",
       " '112_enemy_role_adc_Glasscannon': 0.037984964,\n",
       " '75_enemy_role_top_Diver': 0.037219133,\n",
       " '81_enemy_role_top_Vanguard': 0.03493415,\n",
       " '96_enemy_role_mid_Battlemage': 0.033676397,\n",
       " '64_teammate_role_support_Catcher': 0.033360593,\n",
       " '128_enemy_role_support_Warden': 0.03306278,\n",
       " '121_enemy_role_support_Catcher': 0.033015564,\n",
       " '40_teammate_role_mid_Burst': 0.031845707,\n",
       " '69_teammate_role_support_Vanguard': 0.031557817,\n",
       " '7_teams_region_Korea': 0.031493984,\n",
       " '19_teammate_role_top_Diver': 0.03055621,\n",
       " '39_teammate_role_mid_Battlemage': 0.030321889,\n",
       " '57_teammate_role_adc_Nimble': 0.02969369,\n",
       " '66_teammate_role_support_Enchanter': 0.02949796,\n",
       " '97_enemy_role_mid_Burst': 0.02937269,\n",
       " '87_enemy_role_jungle_Diver': 0.029324487,\n",
       " '25_teammate_role_top_Vanguard': 0.028966531,\n",
       " '31_teammate_role_jungle_Diver': 0.02893522,\n",
       " '0_Side_Blue': 0.028883224,\n",
       " '134_tournament_type_Regular Season': 0.028715895,\n",
       " '117_enemy_role_adc_Sniper': 0.027307872,\n",
       " '115_enemy_role_adc_Nimble': 0.023582805,\n",
       " '35_teammate_role_jungle_Vanguard': 0.023555966,\n",
       " '1_Side_Red': 0.0,\n",
       " '2_teams_region_CIS': 0.0,\n",
       " '3_teams_region_China': 0.0,\n",
       " '4_teams_region_Europe': 0.0,\n",
       " '5_teams_region_International': 0.0,\n",
       " '6_teams_region_Japan': 0.0,\n",
       " '8_teams_region_LMS': 0.0,\n",
       " '9_teams_region_North America': 0.0,\n",
       " '10_teams_region_PCS': 0.0,\n",
       " '11_teams_region_SEA': 0.0,\n",
       " '12_teams_region_Turkey': 0.0,\n",
       " '13_teams_region_Vietnam': 0.0,\n",
       " '14_teammate_role_top_Artillery': 0.0,\n",
       " '15_teammate_role_top_Assassin': 0.0,\n",
       " '16_teammate_role_top_Battlemage': 0.0,\n",
       " '17_teammate_role_top_Burst': 0.0,\n",
       " '18_teammate_role_top_Catcher': 0.0,\n",
       " '20_teammate_role_top_Enchanter': 0.0,\n",
       " '21_teammate_role_top_Glasscannon': 0.0,\n",
       " '22_teammate_role_top_Juggernaut': 0.0,\n",
       " '23_teammate_role_top_Nimble': 0.0,\n",
       " '24_teammate_role_top_Skirmisher': 0.0,\n",
       " '26_teammate_role_top_Warden': 0.0,\n",
       " '27_teammate_role_jungle_Artillery': 0.0,\n",
       " '28_teammate_role_jungle_Assassin': 0.0,\n",
       " '29_teammate_role_jungle_Battlemage': 0.0,\n",
       " '30_teammate_role_jungle_Catcher': 0.0,\n",
       " '32_teammate_role_jungle_Juggernaut': 0.0,\n",
       " '33_teammate_role_jungle_Nimble': 0.0,\n",
       " '34_teammate_role_jungle_Skirmisher': 0.0,\n",
       " '36_teammate_role_jungle_Warden': 0.0,\n",
       " '37_teammate_role_mid_Artillery': 0.0,\n",
       " '38_teammate_role_mid_Assassin': 0.0,\n",
       " '41_teammate_role_mid_Diver': 0.0,\n",
       " '42_teammate_role_mid_Enchanter': 0.0,\n",
       " '43_teammate_role_mid_Glasscannon': 0.0,\n",
       " '44_teammate_role_mid_Juggernaut': 0.0,\n",
       " '45_teammate_role_mid_Nimble': 0.0,\n",
       " '46_teammate_role_mid_Skirmisher': 0.0,\n",
       " '47_teammate_role_mid_Vanguard': 0.0,\n",
       " '48_teammate_role_mid_Warden': 0.0,\n",
       " '49_teammate_role_adc_Artillery': 0.0,\n",
       " '50_teammate_role_adc_Battlemage': 0.0,\n",
       " '51_teammate_role_adc_Catcher': 0.0,\n",
       " '52_teammate_role_adc_Diver': 0.0,\n",
       " '53_teammate_role_adc_Enchanter': 0.0,\n",
       " '55_teammate_role_adc_Juggernaut': 0.0,\n",
       " '56_teammate_role_adc_Marksman': 0.0,\n",
       " '58_teammate_role_adc_Skirmisher': 0.0,\n",
       " '60_teammate_role_support_Artillery': 0.0,\n",
       " '61_teammate_role_support_Assassin': 0.0,\n",
       " '62_teammate_role_support_Battlemage': 0.0,\n",
       " '63_teammate_role_support_Burst': 0.0,\n",
       " '65_teammate_role_support_Diver': 0.0,\n",
       " '67_teammate_role_support_Juggernaut': 0.0,\n",
       " '68_teammate_role_support_Nimble': 0.0,\n",
       " '71_enemy_role_top_Artillery': 0.0,\n",
       " '72_enemy_role_top_Assassin': 0.0,\n",
       " '73_enemy_role_top_Battlemage': 0.0,\n",
       " '74_enemy_role_top_Burst': 0.0,\n",
       " '76_enemy_role_top_Enchanter': 0.0,\n",
       " '77_enemy_role_top_Glasscannon': 0.0,\n",
       " '78_enemy_role_top_Juggernaut': 0.0,\n",
       " '79_enemy_role_top_Nimble': 0.0,\n",
       " '80_enemy_role_top_Skirmisher': 0.0,\n",
       " '82_enemy_role_top_Warden': 0.0,\n",
       " '83_enemy_role_jungle_Artillery': 0.0,\n",
       " '84_enemy_role_jungle_Assassin': 0.0,\n",
       " '85_enemy_role_jungle_Battlemage': 0.0,\n",
       " '86_enemy_role_jungle_Catcher': 0.0,\n",
       " '88_enemy_role_jungle_Enchanter': 0.0,\n",
       " '89_enemy_role_jungle_Juggernaut': 0.0,\n",
       " '90_enemy_role_jungle_Nimble': 0.0,\n",
       " '91_enemy_role_jungle_Skirmisher': 0.0,\n",
       " '93_enemy_role_jungle_Warden': 0.0,\n",
       " '94_enemy_role_mid_Artillery': 0.0,\n",
       " '95_enemy_role_mid_Assassin': 0.0,\n",
       " '98_enemy_role_mid_Catcher': 0.0,\n",
       " '99_enemy_role_mid_Diver': 0.0,\n",
       " '100_enemy_role_mid_Enchanter': 0.0,\n",
       " '101_enemy_role_mid_Glasscannon': 0.0,\n",
       " '102_enemy_role_mid_Juggernaut': 0.0,\n",
       " '103_enemy_role_mid_Nimble': 0.0,\n",
       " '104_enemy_role_mid_Skirmisher': 0.0,\n",
       " '105_enemy_role_mid_Vanguard': 0.0,\n",
       " '106_enemy_role_mid_Warden': 0.0,\n",
       " '107_enemy_role_adc_Artillery': 0.0,\n",
       " '108_enemy_role_adc_Battlemage': 0.0,\n",
       " '109_enemy_role_adc_Burst': 0.0,\n",
       " '110_enemy_role_adc_Diver': 0.0,\n",
       " '111_enemy_role_adc_Enchanter': 0.0,\n",
       " '113_enemy_role_adc_Juggernaut': 0.0,\n",
       " '114_enemy_role_adc_Marksman': 0.0,\n",
       " '116_enemy_role_adc_Skirmisher': 0.0,\n",
       " '118_enemy_role_support_Assassin': 0.0,\n",
       " '119_enemy_role_support_Battlemage': 0.0,\n",
       " '120_enemy_role_support_Burst': 0.0,\n",
       " '122_enemy_role_support_Diver': 0.0,\n",
       " '123_enemy_role_support_Enchanter': 0.0,\n",
       " '124_enemy_role_support_Glasscannon': 0.0,\n",
       " '125_enemy_role_support_Juggernaut': 0.0,\n",
       " '126_enemy_role_support_Nimble': 0.0,\n",
       " '129_tournament_type_Gauntlet': 0.0,\n",
       " '130_tournament_type_International': 0.0,\n",
       " '131_tournament_type_Low Stakes': 0.0,\n",
       " '132_tournament_type_No Stakes': 0.0}"
      ]
     },
     "execution_count": 240,
     "metadata": {},
     "output_type": "execute_result"
    }
   ],
   "source": [
    "# rf_pipeline[0] is the preprocessor object, which has the function get_feature_names_out\n",
    "# encoded_features = rf_pipeline[0].get_feature_names_out()\n",
    "# xgb.best_estimator_[0].get_feature_names()\n",
    "encoded_features = xgb.best_estimator_[0].get_feature_names_out()\n",
    "foo = {}\n",
    "for i, f in enumerate(encoded_features):\n",
    "    # print(f\"{i}:{f} has a feature importance score={feature_importance_scores[i]}\")\n",
    "    # foo[{str(f).split(\"cat__\")[1]}] = feature_importance_scores[i]\n",
    "    foo_name = f'{i}_{str(f).split(\"cat__\")[1]}'\n",
    "    foo[foo_name] = feature_importance_scores[i]\n",
    "foo = {k: v for k, v in sorted(foo.items(), key=lambda item: item[1], reverse=True)}\n",
    "foo"
   ]
  },
  {
   "cell_type": "code",
   "execution_count": 3,
   "metadata": {},
   "outputs": [],
   "source": [
    "# import joblib\n",
    "# rf_file = \"rf.pkl\"\n",
    "# rf.estimator[0].transformers[0][1]\n",
    "# rf = joblib.load(rf_file)\n",
    "# rf_predict_train = rf.predict(X_train)\n",
    "# rf_predict_test = rf.predict(X_test)\n",
    "# rf_train_f1_score = f1_score(y_train, rf_predict_train, average=\"binary\")\n",
    "# rf_test_f1_score = f1_score(y_test, rf_predict_test, average=\"binary\")"
   ]
  },
  {
   "cell_type": "code",
   "execution_count": null,
   "metadata": {},
   "outputs": [],
   "source": [
    "# from sklearn.utils.class_weight import compute_class_weight\n",
    "# foo = compute_class_weight('balanced', classes=[1,0], y=y)"
   ]
  },
  {
   "cell_type": "markdown",
   "metadata": {},
   "source": [
    "Save Model"
   ]
  },
  {
   "cell_type": "code",
   "execution_count": 176,
   "metadata": {},
   "outputs": [
    {
     "data": {
      "text/plain": [
       "<module 'save_model' from 'c:\\\\Users\\\\Beau\\\\Desktop\\\\ML\\\\faker\\\\save_model.py'>"
      ]
     },
     "execution_count": 176,
     "metadata": {},
     "output_type": "execute_result"
    }
   ],
   "source": [
    "import save_model\n",
    "importlib.reload(save_model)"
   ]
  },
  {
   "cell_type": "code",
   "execution_count": null,
   "metadata": {},
   "outputs": [],
   "source": [
    "# To prove that undersampling is helping\n",
    "# the std should be very small (comparing with and without undersampling)\n",
    "\n",
    "# cv_results = rf.cv_results_[\"split0_test_score\"].mean()\n",
    "cv_results = rf.cv_results_\n",
    "num_folds = 5\n",
    "for x in range(num_folds):\n",
    "    curr = f\"split{x}_test_score\"\n",
    "    print(\n",
    "        f\"F1 mean +/- std. dev.: for split={curr}: \"\n",
    "        f\"{cv_results[curr].mean():.3f} +/- \"\n",
    "        f\"{cv_results[curr].std():.3f}\"\n",
    "    )"
   ]
  },
  {
   "cell_type": "code",
   "execution_count": null,
   "metadata": {},
   "outputs": [],
   "source": [
    "save_model.save_model(rf, \"rf_5.pkl\", X_train, rf_params[0], rf_test_f1_score, description=\"added damage profile composition columns\")"
   ]
  },
  {
   "cell_type": "code",
   "execution_count": 178,
   "metadata": {},
   "outputs": [
    {
     "name": "stdout",
     "output_type": "stream",
     "text": [
      "data after append={'models': [{'scores': {'train_score': 0.8069628706898238, 'test_score': 0.7889908256880734}, 'params': {'model__max_depth': 10, 'model__max_samples': 0.6, 'model__n_estimators': 75}, 'columns': ['Side', 'tournament_curr_win_percentage', 'teams_region', 'teammate_top_champion', 'teammate_jungle_champion', 'teammate_mid_champion', 'teammate_adc_champion', 'teammate_support_champion', 'opponent_top_champion', 'opponent_jungle_champion', 'opponent_mid_champion', 'opponent_adc_champion', 'opponent_support_champion'], 'dataset_meta_data': {'shape': [789, 13]}, 'hyperparam_tuning': {'model__n_estimators': [25, 50, 75], 'model__max_depth': [5, 10, 15, 20, 25, 30], 'model__max_samples': [0.2, 0.4, 0.6, 0.8]}, 'file_name': 'rf_0.pkl', 'type': 'RandomForestClassifier', 'versions': {'pandas': '1.3.5', 'numpy': '1.21.6', 'scikit-learn': '1.0.2', 'seaborn': '0.11.2', 'sklearn': '0.0', 'tensorflow': '2.9.1', 'xgboost': '1.6.1'}, 'description': 'first time'}, {'scores': {'train_score': 0.8070038207307739, 'test_score': 0.7889908256880734}, 'params': {'model__alpha': 1, 'model__lambda': 1, 'model__learning_rate': 0.5, 'model__max_delta_step': 3, 'model__max_depth': 5, 'model__min_child_weight': 10, 'model__min_split_loss': 1, 'model__subsample': 0.5}, 'columns': ['Side', 'tournament_curr_win_percentage', 'teams_region', 'teammate_top_champion', 'teammate_jungle_champion', 'teammate_mid_champion', 'teammate_adc_champion', 'teammate_support_champion', 'opponent_top_champion', 'opponent_jungle_champion', 'opponent_mid_champion', 'opponent_adc_champion', 'opponent_support_champion'], 'dataset_meta_data': {'shape': [789, 13]}, 'hyperparam_tuning': {'model__alpha': [1], 'model__lambda': [1], 'model__learning_rate': [0.5], 'model__max_delta_step': [3], 'model__max_depth': [5], 'model__min_child_weight': [10], 'model__min_split_loss': [1], 'model__subsample': [0.5]}, 'file_name': 'xgb_0.pkl', 'type': 'XGBClassifier', 'versions': {'pandas': '1.3.5', 'numpy': '1.21.6', 'scikit-learn': '1.0.2', 'seaborn': '0.11.2', 'sklearn': '0.0', 'tensorflow': '2.9.1', 'xgboost': '1.6.1'}, 'description': 'first time'}, {'scores': {'train_score': 0.6207571447920899, 'test_score': 0.5166666666666667}, 'params': {'model__max_depth': 30, 'model__max_samples': 0.4, 'model__n_estimators': 50}, 'columns': ['Side', 'tournament_curr_win_percentage', 'teams_region', 'teammate_top_champion', 'teammate_jungle_champion', 'teammate_mid_champion', 'teammate_adc_champion', 'teammate_support_champion', 'opponent_top_champion', 'opponent_jungle_champion', 'opponent_mid_champion', 'opponent_adc_champion', 'opponent_support_champion'], 'dataset_meta_data': {'shape': [520, 13]}, 'hyperparam_tuning': {'model__n_estimators': [25, 50, 75], 'model__max_depth': [5, 10, 15, 20, 25, 30], 'model__max_samples': [0.2, 0.4, 0.6, 0.8]}, 'file_name': 'rf_1.pkl', 'type': 'RandomForestClassifier', 'versions': {'pandas': '1.3.5', 'numpy': '1.21.6', 'scikit-learn': '1.0.2', 'seaborn': '0.11.2', 'sklearn': '0.0', 'tensorflow': '2.9.1', 'xgboost': '1.6.1'}, 'description': 'balanced dataset. will actually predict 0/lose'}, {'scores': {'train_score': 0.574799935602475, 'test_score': 0.5128205128205129}, 'params': {'model__alpha': 1, 'model__lambda': 1, 'model__learning_rate': 0.5, 'model__max_delta_step': 3, 'model__max_depth': 5, 'model__min_child_weight': 10, 'model__min_split_loss': 1, 'model__subsample': 0.5}, 'columns': ['Side', 'tournament_curr_win_percentage', 'teams_region', 'teammate_top_champion', 'teammate_jungle_champion', 'teammate_mid_champion', 'teammate_adc_champion', 'teammate_support_champion', 'opponent_top_champion', 'opponent_jungle_champion', 'opponent_mid_champion', 'opponent_adc_champion', 'opponent_support_champion'], 'dataset_meta_data': {'shape': [520, 13]}, 'hyperparam_tuning': {'model__alpha': [1], 'model__lambda': [1], 'model__learning_rate': [0.5], 'model__max_delta_step': [3], 'model__max_depth': [5], 'model__min_child_weight': [10], 'model__min_split_loss': [1], 'model__subsample': [0.5]}, 'file_name': 'xgb_1.pkl', 'type': 'XGBClassifier', 'versions': {'pandas': '1.3.5', 'numpy': '1.21.6', 'scikit-learn': '1.0.2', 'seaborn': '0.11.2', 'sklearn': '0.0', 'tensorflow': '2.9.1', 'xgboost': '1.6.1'}, 'description': 'balanced dataset. will actually predict 0/lose'}, {'scores': {'train_score': 0.5912640475946709, 'test_score': 0.5669291338582677}, 'params': {'model__max_depth': 5, 'model__max_samples': 0.4, 'model__n_estimators': 50}, 'columns': ['Side', 'tournament_curr_win_percentage', 'teams_region', 'teammate_role_top', 'teammate_role_jungle', 'teammate_role_mid', 'teammate_role_adc', 'teammate_role_support', 'enemy_role_top', 'enemy_role_jungle', 'enemy_role_mid', 'enemy_role_adc', 'enemy_role_support'], 'dataset_meta_data': {'shape': [520, 13]}, 'hyperparam_tuning': {'model__n_estimators': [25, 50, 75], 'model__max_depth': [5, 10, 15, 20, 25, 30], 'model__max_samples': [0.2, 0.4, 0.6, 0.8]}, 'file_name': 'rf_2.pkl', 'type': 'RandomForestClassifier', 'versions': {'pandas': '1.3.5', 'numpy': '1.21.6', 'scikit-learn': '1.0.2', 'seaborn': '0.11.2', 'sklearn': '0.0', 'tensorflow': '2.9.1', 'xgboost': '1.6.1'}, 'description': \"balanced dataset with 'roles' instead of 'champions'\"}, {'scores': {'train_score': 0.4804613453773118, 'test_score': 0.5714285714285714}, 'params': {'model__alpha': 1, 'model__lambda': 1, 'model__learning_rate': 0.5, 'model__max_delta_step': 3, 'model__max_depth': 5, 'model__min_child_weight': 10, 'model__min_split_loss': 1, 'model__subsample': 0.5}, 'columns': ['Side', 'tournament_curr_win_percentage', 'teams_region', 'teammate_role_top', 'teammate_role_jungle', 'teammate_role_mid', 'teammate_role_adc', 'teammate_role_support', 'enemy_role_top', 'enemy_role_jungle', 'enemy_role_mid', 'enemy_role_adc', 'enemy_role_support'], 'dataset_meta_data': {'shape': [520, 13]}, 'hyperparam_tuning': {'model__alpha': [1], 'model__lambda': [1], 'model__learning_rate': [0.5], 'model__max_delta_step': [3], 'model__max_depth': [5], 'model__min_child_weight': [10], 'model__min_split_loss': [1], 'model__subsample': [0.5]}, 'file_name': 'xgb_2.pkl', 'type': 'XGBClassifier', 'versions': {'pandas': '1.3.5', 'numpy': '1.21.6', 'scikit-learn': '1.0.2', 'seaborn': '0.11.2', 'sklearn': '0.0', 'tensorflow': '2.9.1', 'xgboost': '1.6.1'}, 'description': \"balanced dataset with 'roles' instead of 'champions'\"}, {'scores': {'train_score': 0.5703788981439659, 'test_score': 0.5689655172413793}, 'params': {'model__randomforestclassifier__max_depth': 5, 'model__randomforestclassifier__max_samples': 0.4, 'model__randomforestclassifier__n_estimators': 25}, 'columns': ['Side', 'tournament_curr_win_percentage', 'teams_region', 'teammate_role_top', 'teammate_role_jungle', 'teammate_role_mid', 'teammate_role_adc', 'teammate_role_support', 'enemy_role_top', 'enemy_role_jungle', 'enemy_role_mid', 'enemy_role_adc', 'enemy_role_support'], 'dataset_meta_data': {'shape': [520, 13]}, 'hyperparam_tuning': {'model__randomforestclassifier__n_estimators': [25, 50, 75], 'model__randomforestclassifier__max_depth': [5, 10, 15, 20, 25, 30], 'model__randomforestclassifier__max_samples': [0.2, 0.4, 0.6, 0.8]}, 'file_name': 'rf_3.pkl', 'type': 'Pipeline', 'versions': {'pandas': '1.3.5', 'numpy': '1.21.6', 'scikit-learn': '1.0.2', 'seaborn': '0.11.2', 'sklearn': '0.0', 'tensorflow': '2.9.1', 'xgboost': '1.6.1'}, 'description': '[supposedly] using undersampling'}, {'scores': {'train_score': 0.612535464807433, 'test_score': 0.5140186915887851}, 'params': {'model__randomforestclassifier__max_depth': 5, 'model__randomforestclassifier__max_samples': 0.6, 'model__randomforestclassifier__n_estimators': 25}, 'columns': ['Side', 'tournament_curr_win_percentage', 'teams_region', 'teammate_role_top', 'teammate_role_jungle', 'teammate_role_mid', 'teammate_role_adc', 'teammate_role_support', 'enemy_role_top', 'enemy_role_jungle', 'enemy_role_mid', 'enemy_role_adc', 'enemy_role_support'], 'dataset_meta_data': {'shape': [789, 13]}, 'hyperparam_tuning': {'model__randomforestclassifier__n_estimators': [25, 50, 75], 'model__randomforestclassifier__max_depth': [5, 10, 15, 20, 25, 30], 'model__randomforestclassifier__max_samples': [0.2, 0.4, 0.6, 0.8]}, 'file_name': 'rf_4.pkl', 'type': 'Pipeline', 'versions': {'pandas': '1.3.5', 'numpy': '1.21.6', 'scikit-learn': '1.0.2', 'seaborn': '0.11.2', 'sklearn': '0.0', 'tensorflow': '2.9.1', 'xgboost': '1.6.1'}, 'description': '[supposedly] using undersampling'}, {'scores': {'train_score': 0.5748471599563667, 'test_score': 0.5520361990950227}, 'params': {'model__xgbclassifier__alpha': 1, 'model__xgbclassifier__lambda': 1, 'model__xgbclassifier__learning_rate': 0.5, 'model__xgbclassifier__max_delta_step': 3, 'model__xgbclassifier__max_depth': 5, 'model__xgbclassifier__min_child_weight': 10, 'model__xgbclassifier__min_split_loss': 1, 'model__xgbclassifier__subsample': 0.5}, 'columns': ['Side', 'tournament_curr_win_percentage', 'teams_region', 'teammate_role_top', 'teammate_role_jungle', 'teammate_role_mid', 'teammate_role_adc', 'teammate_role_support', 'enemy_role_top', 'enemy_role_jungle', 'enemy_role_mid', 'enemy_role_adc', 'enemy_role_support'], 'dataset_meta_data': {'shape': [789, 13]}, 'hyperparam_tuning': {'model__xgbclassifier__alpha': [1], 'model__xgbclassifier__lambda': [1], 'model__xgbclassifier__learning_rate': [0.5], 'model__xgbclassifier__max_delta_step': [3], 'model__xgbclassifier__max_depth': [5], 'model__xgbclassifier__min_child_weight': [10], 'model__xgbclassifier__min_split_loss': [1], 'model__xgbclassifier__subsample': [0.5]}, 'file_name': 'xgb_3.pkl', 'type': 'Pipeline', 'versions': {'pandas': '1.3.5', 'numpy': '1.21.6', 'scikit-learn': '1.0.2', 'seaborn': '0.11.2', 'sklearn': '0.0', 'tensorflow': '2.9.1', 'xgboost': '1.6.1'}, 'description': 'using undersampling'}, {'scores': {'train_score': 0.632839658807744, 'test_score': 0.5535714285714286}, 'params': {'model__randomforestclassifier__max_depth': 8, 'model__randomforestclassifier__max_samples': 0.6, 'model__randomforestclassifier__n_estimators': 25}, 'columns': ['Side', 'tournament_curr_win_percentage', 'teams_region', 'teammate_role_top', 'teammate_role_jungle', 'teammate_role_mid', 'teammate_role_adc', 'teammate_role_support', 'enemy_role_top', 'enemy_role_jungle', 'enemy_role_mid', 'enemy_role_adc', 'enemy_role_support', 'tournament_type', 'blue_physical_damage_perc', 'blue_magic_damage_perc', 'blue_true_damage_perc', 'red_physical_damage_perc', 'red_magic_damage_perc', 'red_true_damage_perc'], 'dataset_meta_data': {'shape': [789, 20]}, 'hyperparam_tuning': {'model__randomforestclassifier__n_estimators': [15, 25, 35], 'model__randomforestclassifier__max_depth': [3, 5, 8], 'model__randomforestclassifier__max_samples': [0.5, 0.6, 0.7]}, 'file_name': 'rf_5.pkl', 'type': 'Pipeline', 'versions': {'pandas': '1.3.5', 'numpy': '1.21.6', 'scikit-learn': '1.0.2', 'seaborn': '0.11.2', 'sklearn': '0.0', 'tensorflow': '2.9.1', 'xgboost': '1.6.1'}, 'description': 'added damage profile composition columns'}, {'scores': {'train_score': 0.5625708512546304, 'test_score': 0.5429864253393666}, 'params': {'model__xgbclassifier__alpha': 1, 'model__xgbclassifier__lambda': 1, 'model__xgbclassifier__learning_rate': 0.5, 'model__xgbclassifier__max_delta_step': 3, 'model__xgbclassifier__max_depth': 5, 'model__xgbclassifier__min_child_weight': 10, 'model__xgbclassifier__min_split_loss': 1, 'model__xgbclassifier__subsample': 0.5}, 'columns': ['Side', 'tournament_curr_win_percentage', 'teams_region', 'teammate_role_top', 'teammate_role_jungle', 'teammate_role_mid', 'teammate_role_adc', 'teammate_role_support', 'enemy_role_top', 'enemy_role_jungle', 'enemy_role_mid', 'enemy_role_adc', 'enemy_role_support', 'tournament_type', 'blue_physical_damage_perc', 'blue_magic_damage_perc', 'blue_true_damage_perc', 'red_physical_damage_perc', 'red_magic_damage_perc', 'red_true_damage_perc'], 'dataset_meta_data': {'shape': (789, 20)}, 'hyperparam_tuning': {'model__xgbclassifier__alpha': [1], 'model__xgbclassifier__lambda': [1], 'model__xgbclassifier__learning_rate': [0.5], 'model__xgbclassifier__max_delta_step': [3], 'model__xgbclassifier__max_depth': [5], 'model__xgbclassifier__min_child_weight': [10], 'model__xgbclassifier__min_split_loss': [1], 'model__xgbclassifier__subsample': [0.5]}, 'file_name': 'xgb_4.pkl', 'type': 'Pipeline', 'versions': {'pandas': '1.3.5', 'numpy': '1.21.6', 'scikit-learn': '1.0.2', 'seaborn': '0.11.2', 'sklearn': '0.0', 'tensorflow': '2.9.1', 'xgboost': '1.6.1'}, 'description': 'added damage profile composition columns'}]}\n"
     ]
    }
   ],
   "source": [
    "save_model.save_model(xgb, \"xgb_4.pkl\", X_train, xgb_params[0], xgb_test_f1_score, description=\"added damage profile composition columns\")"
   ]
  },
  {
   "cell_type": "code",
   "execution_count": null,
   "metadata": {},
   "outputs": [],
   "source": [
    "# rf_pipeline[0] is the preprocessor object, which has the function get_feature_names_out\n",
    "# encoded_features = rf_pipeline[0].get_feature_names_out()"
   ]
  },
  {
   "cell_type": "code",
   "execution_count": null,
   "metadata": {},
   "outputs": [],
   "source": [
    "# # This cell did not work initially. VSCode might need to reboot to recognize the newly downloaded graphviz\n",
    "# estimator = rf_pipeline[1].estimators_[5]\n",
    "\n",
    "# from sklearn.tree import export_graphviz\n",
    "# # Export as dot file\n",
    "# export_graphviz(estimator, out_file='tree.dot', \n",
    "#                 feature_names = encoded_features,\n",
    "#                 class_names = [\"Win\", \"Loss\"],\n",
    "#                 rounded = True, proportion = False, \n",
    "#                 precision = 2, filled = True)\n",
    "\n",
    "# # Convert to png using system command (requires Graphviz)\n",
    "# from subprocess import call\n",
    "# call(['dot', '-Tpng', 'C:\\\\Users\\\\Beau\\\\Desktop\\\\ML\\\\faker\\\\tree.dot', '-o', 'C:\\\\Users\\\\Beau\\\\Desktop\\\\ML\\\\faker\\\\tree.png', '-Gdpi=600'])\n",
    "\n",
    "# # Display in jupyter notebook\n",
    "# from IPython.display import Image\n",
    "# Image(filename = 'tree.png')"
   ]
  },
  {
   "cell_type": "code",
   "execution_count": null,
   "metadata": {},
   "outputs": [],
   "source": [
    "# # Generate a PNG file for one of the trees\n",
    "# from sklearn import tree\n",
    "# import matplotlib.pyplot as plt\n",
    "# fn=encoded_features\n",
    "# cn=[\"Win\", \"Loss\"]\n",
    "# fig, axes = plt.subplots(nrows = 1,ncols = 1,figsize = (4,4), dpi=800)\n",
    "# tree.plot_tree(rf.estimator[1].estimators_[0],\n",
    "# # tree.plot_tree(rf_pipeline[1].estimators_[0],\n",
    "#                feature_names = fn, \n",
    "#                class_names=cn,\n",
    "#                filled = True);\n",
    "# fig.savefig('rf_individualtree.png')\n",
    "# print(\"Generated one tree\")  # takes about 30 seconds"
   ]
  },
  {
   "cell_type": "markdown",
   "metadata": {},
   "source": [
    "To reduce overfitting,\n",
    "A. Add more examples\n",
    "B. Reduce number of features\n",
    "C. Increase regularization parameter\n",
    "D. Trees - reduce depth and other parameters\n",
    "    - early_stopping_rounds: can use high n_estimators, and then modify this parameter. note: this is a parameter for XGBClassifier.fit()\n",
    "    - learning_rate: large learning_rate+large n_estimators leads to more accurate models, but takes longer\n",
    "\n",
    "Error Analysis\n",
    "    - manually examine 100 examples and see if there is a pattern\n",
    "\n",
    "Iterative Loop of ML\n",
    "    Choose Architecture\n",
    "    Train\n",
    "    Diagnostics (bias, variance, error analysis)"
   ]
  },
  {
   "cell_type": "markdown",
   "metadata": {},
   "source": [
    "Baseline Performance    10.6%           10.6%       10.6%\n",
    "                            +0.2%           +4.4%       +4.4%\n",
    "Training Error          10.8%           15.0%       15.0%\n",
    "                            +4.0%           +0.5%       +4.7%\n",
    "CV Error                14.8%           15.5%       19.7%\n",
    "                        (High Variance) (High Bias) (High Variance & Bias)\n",
    "\n",
    "No Hyperparameter Tuning\n",
    "RF\n",
    "Baseline Performance    35.0%\n",
    "                            -35.0%\n",
    "Training Error          0.00%\n",
    "                            +22.9%\n",
    "CV Error                22.9%\n",
    "                        (High Variance)\n",
    "XGB\n",
    "Baseline Performance    35.0%\n",
    "                            -30.8%\n",
    "Training Error          4.20%\n",
    "                            +23.4%\n",
    "CV Error                27.6%\n",
    "                        (High Variance)\n",
    "\n",
    "After Hyperparameter Tuning\n",
    "RF\n",
    "Baseline Performance    35.0%\n",
    "                            -16.0%\n",
    "Training Error          19.0%\n",
    "                            +2.10%\n",
    "CV Error                21.1%\n",
    "                        (High Variance)\n"
   ]
  },
  {
   "cell_type": "markdown",
   "metadata": {},
   "source": [
    "Random Forest Parameters\n",
    "\n",
    "https://scikit-learn.org/stable/modules/generated/sklearn.ensemble.RandomForestClassifier.html\n",
    "\n",
    "\"Prevents overfitting\" \\\n",
    "`n_estimators`. default=100. increase => overfitting \\\n",
    "`max_depth`. default=None. increase => overfitting \\\n",
    "`max_samples`. similar to `subsample` for XGB?\n",
    "\n",
    "Other \\\n",
    "`max_leaf_nodes`. default=None"
   ]
  },
  {
   "cell_type": "markdown",
   "metadata": {},
   "source": [
    "XGB Parameters\n",
    "\n",
    "https://xgboost.readthedocs.io/en/stable/parameter.html\n",
    "\n",
    "\"Prevents overfitting\" \\\n",
    "`eta` (aka `learning_rate`). default=0.3 \\\n",
    "`max_depth`. default=6. range=[0, infinity]. larger max_depth => overfitting. \\\n",
    "`subsample`. default=1. range=(0,1]\n",
    "\n",
    "\"More conversative\" \\\n",
    "`gamma` (aka `min_split_loss`). default=0.0. range=[0, infinity]. larger gamma => conservative algorithm \\\n",
    "`min_child_weight`. default=1. range=[0, infinity]. increase => conservative \\\n",
    "`max_delta_step`. default=0. range=[0, infinity]. Set to 1-10. \\\n",
    "`lambda` (aka `reg_lambda`). default=1. increase => conservative \\\n",
    "`alpha` (aka `reg_alpha`). default=0. increase => conservative\n",
    "\n",
    "Other \\\n",
    "`max_leaves`. default=0\n",
    "\n",
    "Useful Code \\\n",
    "https://xgboost.readthedocs.io/en/stable/python/python_intro.html#setting-parameters\n",
    "```\n",
    "import xgboost as xgb\n",
    "bst = xgb.train(param, dtrain, num_round, evallist)\n",
    "bst.save_model('0001.model')\n",
    "bst.dump_model('dump.raw.txt')\n",
    "bst.dump_model('dump.raw.txt', 'featmap.txt')\n",
    "bst = xgb.Booster({'nthread': 4})  # init model\n",
    "bst.load_model('model.bin')  # load data\n",
    "\n",
    "# Plotting\n",
    "xgb.plot_importance(bst)   \n",
    "xgb.plot_tree(bst, num_trees=2)\n",
    "xgb.to_graphviz(bst, num_trees=2)\n",
    "```\n",
    "\n",
    "```\n",
    "from sklearn.model_selection import GridSearchCV\n",
    "clf = GridSearchCV(xgb_model, {'max_depth': [2, 4, 6],\n",
    "                                   'n_estimators': [50, 100, 200]}, verbose=1,\n",
    "                       n_jobs=2)\n",
    "clf.fit(X, y)\n",
    "print(clf.best_score_)\n",
    "print(clf.best_params_)\n",
    "```\n",
    "\n",
    "```\n",
    "# Cross-Validation with XGB\n",
    "# https://xgboost.readthedocs.io/en/stable/python/examples/cross_validation.html#sphx-glr-python-examples-cross-validation-py\n",
    "xgb.cv(param, dtrain, num_round, nfold=5,\n",
    "       metrics={'error'}, seed=0,\n",
    "       callbacks=[xgb.callback.EvaluationMonitor(show_stdv=True)])\n",
    "```"
   ]
  },
  {
   "cell_type": "markdown",
   "metadata": {},
   "source": []
  },
  {
   "cell_type": "markdown",
   "metadata": {},
   "source": [
    "EDA"
   ]
  },
  {
   "cell_type": "code",
   "execution_count": 135,
   "metadata": {},
   "outputs": [],
   "source": [
    "import matplotlib.pyplot as plt"
   ]
  },
  {
   "cell_type": "code",
   "execution_count": 136,
   "metadata": {},
   "outputs": [
    {
     "data": {
      "text/plain": [
       "['tournament_curr_win_percentage',\n",
       " 'blue_physical_damage_perc',\n",
       " 'blue_magic_damage_perc',\n",
       " 'blue_true_damage_perc']"
      ]
     },
     "execution_count": 136,
     "metadata": {},
     "output_type": "execute_result"
    }
   ],
   "source": [
    "numerical_cols"
   ]
  },
  {
   "cell_type": "code",
   "execution_count": 138,
   "metadata": {},
   "outputs": [
    {
     "data": {
      "image/png": "[encoded data removed]",
      "text/plain": [
       "<Figure size 432x288 with 1 Axes>"
      ]
     },
     "metadata": {
      "needs_background": "light"
     },
     "output_type": "display_data"
    },
    {
     "data": {
      "image/png": "[encoded data removed]",
      "text/plain": [
       "<Figure size 720x720 with 1 Axes>"
      ]
     },
     "metadata": {
      "needs_background": "light"
     },
     "output_type": "display_data"
    },
    {
     "data": {
      "image/png": "[encoded data removed]",
      "text/plain": [
       "<Figure size 720x720 with 1 Axes>"
      ]
     },
     "metadata": {
      "needs_background": "light"
     },
     "output_type": "display_data"
    },
    {
     "data": {
      "image/png": "[encoded data removed]",
      "text/plain": [
       "<Figure size 720x720 with 1 Axes>"
      ]
     },
     "metadata": {
      "needs_background": "light"
     },
     "output_type": "display_data"
    },
    {
     "data": {
      "image/png": "[encoded data removed]",
      "text/plain": [
       "<Figure size 720x720 with 1 Axes>"
      ]
     },
     "metadata": {
      "needs_background": "light"
     },
     "output_type": "display_data"
    }
   ],
   "source": [
    "for col in numerical_cols:\n",
    "    # seaborn.histplot(data=X_train, x=col)\n",
    "    seaborn.histplot(data=X_train, x=col, kde=True)\n",
    "    plt.figure(figsize=(10,10))\n",
    "    plt.xticks(rotation=45)"
   ]
  },
  {
   "cell_type": "code",
   "execution_count": null,
   "metadata": {},
   "outputs": [],
   "source": [
    "categorical_cols"
   ]
  },
  {
   "cell_type": "code",
   "execution_count": 536,
   "metadata": {},
   "outputs": [
    {
     "data": {
      "image/png": "[encoded data removed]",
      "text/plain": [
       "<Figure size 432x288 with 1 Axes>"
      ]
     },
     "metadata": {
      "needs_background": "light"
     },
     "output_type": "display_data"
    },
    {
     "data": {
      "image/png": "[encoded data removed]",
      "text/plain": [
       "<Figure size 720x720 with 1 Axes>"
      ]
     },
     "metadata": {
      "needs_background": "light"
     },
     "output_type": "display_data"
    },
    {
     "data": {
      "image/png": "[encoded data removed]",
      "text/plain": [
       "<Figure size 720x720 with 1 Axes>"
      ]
     },
     "metadata": {
      "needs_background": "light"
     },
     "output_type": "display_data"
    },
    {
     "data": {
      "image/png": "[encoded data removed]",
      "text/plain": [
       "<Figure size 720x720 with 1 Axes>"
      ]
     },
     "metadata": {
      "needs_background": "light"
     },
     "output_type": "display_data"
    },
    {
     "data": {
      "image/png": "[encoded data removed]",
      "text/plain": [
       "<Figure size 720x720 with 1 Axes>"
      ]
     },
     "metadata": {
      "needs_background": "light"
     },
     "output_type": "display_data"
    },
    {
     "data": {
      "image/png": "[encoded data removed]",
      "text/plain": [
       "<Figure size 720x720 with 1 Axes>"
      ]
     },
     "metadata": {
      "needs_background": "light"
     },
     "output_type": "display_data"
    },
    {
     "data": {
      "image/png": "[encoded data removed]",
      "text/plain": [
       "<Figure size 720x720 with 1 Axes>"
      ]
     },
     "metadata": {
      "needs_background": "light"
     },
     "output_type": "display_data"
    },
    {
     "data": {
      "image/png": "[encoded data removed]",
      "text/plain": [
       "<Figure size 720x720 with 1 Axes>"
      ]
     },
     "metadata": {
      "needs_background": "light"
     },
     "output_type": "display_data"
    },
    {
     "data": {
      "image/png": "[encoded data removed]",
      "text/plain": [
       "<Figure size 720x720 with 1 Axes>"
      ]
     },
     "metadata": {
      "needs_background": "light"
     },
     "output_type": "display_data"
    },
    {
     "data": {
      "image/png": "[encoded data removed]",
      "text/plain": [
       "<Figure size 720x720 with 1 Axes>"
      ]
     },
     "metadata": {
      "needs_background": "light"
     },
     "output_type": "display_data"
    },
    {
     "data": {
      "image/png": "[encoded data removed]",
      "text/plain": [
       "<Figure size 720x720 with 1 Axes>"
      ]
     },
     "metadata": {
      "needs_background": "light"
     },
     "output_type": "display_data"
    },
    {
     "data": {
      "image/png": "[encoded data removed]",
      "text/plain": [
       "<Figure size 720x720 with 1 Axes>"
      ]
     },
     "metadata": {
      "needs_background": "light"
     },
     "output_type": "display_data"
    },
    {
     "data": {
      "image/png": "[encoded data removed]",
      "text/plain": [
       "<Figure size 720x720 with 1 Axes>"
      ]
     },
     "metadata": {
      "needs_background": "light"
     },
     "output_type": "display_data"
    },
    {
     "data": {
      "image/png": "[encoded data removed]",
      "text/plain": [
       "<Figure size 720x720 with 1 Axes>"
      ]
     },
     "metadata": {
      "needs_background": "light"
     },
     "output_type": "display_data"
    }
   ],
   "source": [
    "for col in categorical_cols:\n",
    "    seaborn.barplot(data=X_train, x=col, y=y_train)\n",
    "    plt.figure(figsize=(10,10))\n",
    "    plt.xticks(rotation=45)"
   ]
  },
  {
   "cell_type": "code",
   "execution_count": null,
   "metadata": {},
   "outputs": [],
   "source": [
    "print_pandas_no_truncate()\n",
    "for col in categorical_cols:\n",
    "    print(X_train.pivot_table(index=y_train, columns=col, aggfunc=\"size\", fill_value=0))\n",
    "print_pandas_reset()"
   ]
  },
  {
   "cell_type": "markdown",
   "metadata": {},
   "source": [
    "Error Analysis"
   ]
  },
  {
   "cell_type": "code",
   "execution_count": 8,
   "metadata": {},
   "outputs": [
    {
     "name": "stderr",
     "output_type": "stream",
     "text": [
      "/home/beaujb/github/faker-classifier/.venv/lib/python3.8/site-packages/sklearn/base.py:329: UserWarning: Trying to unpickle estimator OneHotEncoder from version 1.0.2 when using version 1.1.2. This might lead to breaking code or invalid results. Use at your own risk. For more info please refer to:\n",
      "https://scikit-learn.org/stable/model_persistence.html#security-maintainability-limitations\n",
      "  warnings.warn(\n",
      "/home/beaujb/github/faker-classifier/.venv/lib/python3.8/site-packages/sklearn/base.py:329: UserWarning: Trying to unpickle estimator Pipeline from version 1.0.2 when using version 1.1.2. This might lead to breaking code or invalid results. Use at your own risk. For more info please refer to:\n",
      "https://scikit-learn.org/stable/model_persistence.html#security-maintainability-limitations\n",
      "  warnings.warn(\n",
      "/home/beaujb/github/faker-classifier/.venv/lib/python3.8/site-packages/sklearn/base.py:329: UserWarning: Trying to unpickle estimator ColumnTransformer from version 1.0.2 when using version 1.1.2. This might lead to breaking code or invalid results. Use at your own risk. For more info please refer to:\n",
      "https://scikit-learn.org/stable/model_persistence.html#security-maintainability-limitations\n",
      "  warnings.warn(\n",
      "/home/beaujb/github/faker-classifier/.venv/lib/python3.8/site-packages/sklearn/base.py:329: UserWarning: Trying to unpickle estimator DecisionTreeClassifier from version 1.0.2 when using version 1.1.2. This might lead to breaking code or invalid results. Use at your own risk. For more info please refer to:\n",
      "https://scikit-learn.org/stable/model_persistence.html#security-maintainability-limitations\n",
      "  warnings.warn(\n",
      "/home/beaujb/github/faker-classifier/.venv/lib/python3.8/site-packages/sklearn/base.py:329: UserWarning: Trying to unpickle estimator RandomForestClassifier from version 1.0.2 when using version 1.1.2. This might lead to breaking code or invalid results. Use at your own risk. For more info please refer to:\n",
      "https://scikit-learn.org/stable/model_persistence.html#security-maintainability-limitations\n",
      "  warnings.warn(\n",
      "/home/beaujb/github/faker-classifier/.venv/lib/python3.8/site-packages/sklearn/base.py:329: UserWarning: Trying to unpickle estimator GridSearchCV from version 1.0.2 when using version 1.1.2. This might lead to breaking code or invalid results. Use at your own risk. For more info please refer to:\n",
      "https://scikit-learn.org/stable/model_persistence.html#security-maintainability-limitations\n",
      "  warnings.warn(\n"
     ]
    }
   ],
   "source": [
    "# from sklearn.metrics import confusion_matrix, ConfusionMatrixDisplay\n",
    "import joblib\n",
    "# rf = joblib.load(\"C:\\\\Users\\\\Beau\\\\Desktop\\\\ML\\\\faker\\\\models\\\\rf_5.pkl\")\n",
    "rf = joblib.load(\"/home/beaujb/github/faker-classifier/models/rf_5.pkl\")"
   ]
  },
  {
   "cell_type": "code",
   "execution_count": 17,
   "metadata": {},
   "outputs": [
    {
     "ename": "ValueError",
     "evalue": "Specifying the columns using strings is only supported for pandas DataFrames",
     "output_type": "error",
     "traceback": [
      "\u001b[0;31m---------------------------------------------------------------------------\u001b[0m",
      "\u001b[0;31mEmpty\u001b[0m                                     Traceback (most recent call last)",
      "File \u001b[0;32m~/github/faker-classifier/.venv/lib/python3.8/site-packages/joblib/parallel.py:822\u001b[0m, in \u001b[0;36mParallel.dispatch_one_batch\u001b[0;34m(self, iterator)\u001b[0m\n\u001b[1;32m    821\u001b[0m \u001b[39mtry\u001b[39;00m:\n\u001b[0;32m--> 822\u001b[0m     tasks \u001b[39m=\u001b[39m \u001b[39mself\u001b[39;49m\u001b[39m.\u001b[39;49m_ready_batches\u001b[39m.\u001b[39;49mget(block\u001b[39m=\u001b[39;49m\u001b[39mFalse\u001b[39;49;00m)\n\u001b[1;32m    823\u001b[0m \u001b[39mexcept\u001b[39;00m queue\u001b[39m.\u001b[39mEmpty:\n\u001b[1;32m    824\u001b[0m     \u001b[39m# slice the iterator n_jobs * batchsize items at a time. If the\u001b[39;00m\n\u001b[1;32m    825\u001b[0m     \u001b[39m# slice returns less than that, then the current batchsize puts\u001b[39;00m\n\u001b[0;32m   (...)\u001b[0m\n\u001b[1;32m    828\u001b[0m     \u001b[39m# accordingly to distribute evenly the last items between all\u001b[39;00m\n\u001b[1;32m    829\u001b[0m     \u001b[39m# workers.\u001b[39;00m\n",
      "File \u001b[0;32m/usr/lib/python3.8/queue.py:167\u001b[0m, in \u001b[0;36mQueue.get\u001b[0;34m(self, block, timeout)\u001b[0m\n\u001b[1;32m    166\u001b[0m     \u001b[39mif\u001b[39;00m \u001b[39mnot\u001b[39;00m \u001b[39mself\u001b[39m\u001b[39m.\u001b[39m_qsize():\n\u001b[0;32m--> 167\u001b[0m         \u001b[39mraise\u001b[39;00m Empty\n\u001b[1;32m    168\u001b[0m \u001b[39melif\u001b[39;00m timeout \u001b[39mis\u001b[39;00m \u001b[39mNone\u001b[39;00m:\n",
      "\u001b[0;31mEmpty\u001b[0m: ",
      "\nDuring handling of the above exception, another exception occurred:\n",
      "\u001b[0;31mValueError\u001b[0m                                Traceback (most recent call last)",
      "\u001b[1;32m/home/beaujb/github/faker-classifier/ensemble.ipynb Cell 74\u001b[0m in \u001b[0;36m<cell line: 1>\u001b[0;34m()\u001b[0m\n\u001b[0;32m----> <a href='vscode-notebook-cell://wsl%2Bubuntu/home/beaujb/github/faker-classifier/ensemble.ipynb#Y154sdnNjb2RlLXJlbW90ZQ%3D%3D?line=0'>1</a>\u001b[0m rf\u001b[39m.\u001b[39;49mpredict([[\u001b[39m1\u001b[39;49m,\u001b[39m1\u001b[39;49m,\u001b[39m1\u001b[39;49m,\u001b[39m1\u001b[39;49m,\u001b[39m1\u001b[39;49m,\u001b[39m1\u001b[39;49m,\u001b[39m1\u001b[39;49m,\u001b[39m1\u001b[39;49m,\u001b[39m1\u001b[39;49m,\u001b[39m1\u001b[39;49m,\u001b[39m1\u001b[39;49m,\u001b[39m1\u001b[39;49m,\u001b[39m1\u001b[39;49m,\u001b[39m1\u001b[39;49m,\u001b[39m1\u001b[39;49m,\u001b[39m1\u001b[39;49m,\u001b[39m1\u001b[39;49m,\u001b[39m1\u001b[39;49m,\u001b[39m1\u001b[39;49m,\u001b[39m1\u001b[39;49m]])\n",
      "File \u001b[0;32m~/github/faker-classifier/.venv/lib/python3.8/site-packages/sklearn/model_selection/_search.py:500\u001b[0m, in \u001b[0;36mBaseSearchCV.predict\u001b[0;34m(self, X)\u001b[0m\n\u001b[1;32m    482\u001b[0m \u001b[39m\"\"\"Call predict on the estimator with the best found parameters.\u001b[39;00m\n\u001b[1;32m    483\u001b[0m \n\u001b[1;32m    484\u001b[0m \u001b[39mOnly available if ``refit=True`` and the underlying estimator supports\u001b[39;00m\n\u001b[0;32m   (...)\u001b[0m\n\u001b[1;32m    497\u001b[0m \u001b[39m    the best found parameters.\u001b[39;00m\n\u001b[1;32m    498\u001b[0m \u001b[39m\"\"\"\u001b[39;00m\n\u001b[1;32m    499\u001b[0m check_is_fitted(\u001b[39mself\u001b[39m)\n\u001b[0;32m--> 500\u001b[0m \u001b[39mreturn\u001b[39;00m \u001b[39mself\u001b[39;49m\u001b[39m.\u001b[39;49mbest_estimator_\u001b[39m.\u001b[39;49mpredict(X)\n",
      "File \u001b[0;32m~/github/faker-classifier/.venv/lib/python3.8/site-packages/sklearn/pipeline.py:457\u001b[0m, in \u001b[0;36mPipeline.predict\u001b[0;34m(self, X, **predict_params)\u001b[0m\n\u001b[1;32m    455\u001b[0m Xt \u001b[39m=\u001b[39m X\n\u001b[1;32m    456\u001b[0m \u001b[39mfor\u001b[39;00m _, name, transform \u001b[39min\u001b[39;00m \u001b[39mself\u001b[39m\u001b[39m.\u001b[39m_iter(with_final\u001b[39m=\u001b[39m\u001b[39mFalse\u001b[39;00m):\n\u001b[0;32m--> 457\u001b[0m     Xt \u001b[39m=\u001b[39m transform\u001b[39m.\u001b[39;49mtransform(Xt)\n\u001b[1;32m    458\u001b[0m \u001b[39mreturn\u001b[39;00m \u001b[39mself\u001b[39m\u001b[39m.\u001b[39msteps[\u001b[39m-\u001b[39m\u001b[39m1\u001b[39m][\u001b[39m1\u001b[39m]\u001b[39m.\u001b[39mpredict(Xt, \u001b[39m*\u001b[39m\u001b[39m*\u001b[39mpredict_params)\n",
      "File \u001b[0;32m~/github/faker-classifier/.venv/lib/python3.8/site-packages/sklearn/compose/_column_transformer.py:763\u001b[0m, in \u001b[0;36mColumnTransformer.transform\u001b[0;34m(self, X)\u001b[0m\n\u001b[1;32m    758\u001b[0m \u001b[39melse\u001b[39;00m:\n\u001b[1;32m    759\u001b[0m     \u001b[39m# ndarray was used for fitting or transforming, thus we only\u001b[39;00m\n\u001b[1;32m    760\u001b[0m     \u001b[39m# check that n_features_in_ is consistent\u001b[39;00m\n\u001b[1;32m    761\u001b[0m     \u001b[39mself\u001b[39m\u001b[39m.\u001b[39m_check_n_features(X, reset\u001b[39m=\u001b[39m\u001b[39mFalse\u001b[39;00m)\n\u001b[0;32m--> 763\u001b[0m Xs \u001b[39m=\u001b[39m \u001b[39mself\u001b[39;49m\u001b[39m.\u001b[39;49m_fit_transform(\n\u001b[1;32m    764\u001b[0m     X,\n\u001b[1;32m    765\u001b[0m     \u001b[39mNone\u001b[39;49;00m,\n\u001b[1;32m    766\u001b[0m     _transform_one,\n\u001b[1;32m    767\u001b[0m     fitted\u001b[39m=\u001b[39;49m\u001b[39mTrue\u001b[39;49;00m,\n\u001b[1;32m    768\u001b[0m     column_as_strings\u001b[39m=\u001b[39;49mfit_dataframe_and_transform_dataframe,\n\u001b[1;32m    769\u001b[0m )\n\u001b[1;32m    770\u001b[0m \u001b[39mself\u001b[39m\u001b[39m.\u001b[39m_validate_output(Xs)\n\u001b[1;32m    772\u001b[0m \u001b[39mif\u001b[39;00m \u001b[39mnot\u001b[39;00m Xs:\n\u001b[1;32m    773\u001b[0m     \u001b[39m# All transformers are None\u001b[39;00m\n",
      "File \u001b[0;32m~/github/faker-classifier/.venv/lib/python3.8/site-packages/sklearn/compose/_column_transformer.py:621\u001b[0m, in \u001b[0;36mColumnTransformer._fit_transform\u001b[0;34m(self, X, y, func, fitted, column_as_strings)\u001b[0m\n\u001b[1;32m    615\u001b[0m transformers \u001b[39m=\u001b[39m \u001b[39mlist\u001b[39m(\n\u001b[1;32m    616\u001b[0m     \u001b[39mself\u001b[39m\u001b[39m.\u001b[39m_iter(\n\u001b[1;32m    617\u001b[0m         fitted\u001b[39m=\u001b[39mfitted, replace_strings\u001b[39m=\u001b[39m\u001b[39mTrue\u001b[39;00m, column_as_strings\u001b[39m=\u001b[39mcolumn_as_strings\n\u001b[1;32m    618\u001b[0m     )\n\u001b[1;32m    619\u001b[0m )\n\u001b[1;32m    620\u001b[0m \u001b[39mtry\u001b[39;00m:\n\u001b[0;32m--> 621\u001b[0m     \u001b[39mreturn\u001b[39;00m Parallel(n_jobs\u001b[39m=\u001b[39;49m\u001b[39mself\u001b[39;49m\u001b[39m.\u001b[39;49mn_jobs)(\n\u001b[1;32m    622\u001b[0m         delayed(func)(\n\u001b[1;32m    623\u001b[0m             transformer\u001b[39m=\u001b[39;49mclone(trans) \u001b[39mif\u001b[39;49;00m \u001b[39mnot\u001b[39;49;00m fitted \u001b[39melse\u001b[39;49;00m trans,\n\u001b[1;32m    624\u001b[0m             X\u001b[39m=\u001b[39;49m_safe_indexing(X, column, axis\u001b[39m=\u001b[39;49m\u001b[39m1\u001b[39;49m),\n\u001b[1;32m    625\u001b[0m             y\u001b[39m=\u001b[39;49my,\n\u001b[1;32m    626\u001b[0m             weight\u001b[39m=\u001b[39;49mweight,\n\u001b[1;32m    627\u001b[0m             message_clsname\u001b[39m=\u001b[39;49m\u001b[39m\"\u001b[39;49m\u001b[39mColumnTransformer\u001b[39;49m\u001b[39m\"\u001b[39;49m,\n\u001b[1;32m    628\u001b[0m             message\u001b[39m=\u001b[39;49m\u001b[39mself\u001b[39;49m\u001b[39m.\u001b[39;49m_log_message(name, idx, \u001b[39mlen\u001b[39;49m(transformers)),\n\u001b[1;32m    629\u001b[0m         )\n\u001b[1;32m    630\u001b[0m         \u001b[39mfor\u001b[39;49;00m idx, (name, trans, column, weight) \u001b[39min\u001b[39;49;00m \u001b[39menumerate\u001b[39;49m(transformers, \u001b[39m1\u001b[39;49m)\n\u001b[1;32m    631\u001b[0m     )\n\u001b[1;32m    632\u001b[0m \u001b[39mexcept\u001b[39;00m \u001b[39mValueError\u001b[39;00m \u001b[39mas\u001b[39;00m e:\n\u001b[1;32m    633\u001b[0m     \u001b[39mif\u001b[39;00m \u001b[39m\"\u001b[39m\u001b[39mExpected 2D array, got 1D array instead\u001b[39m\u001b[39m\"\u001b[39m \u001b[39min\u001b[39;00m \u001b[39mstr\u001b[39m(e):\n",
      "File \u001b[0;32m~/github/faker-classifier/.venv/lib/python3.8/site-packages/joblib/parallel.py:1043\u001b[0m, in \u001b[0;36mParallel.__call__\u001b[0;34m(self, iterable)\u001b[0m\n\u001b[1;32m   1034\u001b[0m \u001b[39mtry\u001b[39;00m:\n\u001b[1;32m   1035\u001b[0m     \u001b[39m# Only set self._iterating to True if at least a batch\u001b[39;00m\n\u001b[1;32m   1036\u001b[0m     \u001b[39m# was dispatched. In particular this covers the edge\u001b[39;00m\n\u001b[0;32m   (...)\u001b[0m\n\u001b[1;32m   1040\u001b[0m     \u001b[39m# was very quick and its callback already dispatched all the\u001b[39;00m\n\u001b[1;32m   1041\u001b[0m     \u001b[39m# remaining jobs.\u001b[39;00m\n\u001b[1;32m   1042\u001b[0m     \u001b[39mself\u001b[39m\u001b[39m.\u001b[39m_iterating \u001b[39m=\u001b[39m \u001b[39mFalse\u001b[39;00m\n\u001b[0;32m-> 1043\u001b[0m     \u001b[39mif\u001b[39;00m \u001b[39mself\u001b[39;49m\u001b[39m.\u001b[39;49mdispatch_one_batch(iterator):\n\u001b[1;32m   1044\u001b[0m         \u001b[39mself\u001b[39m\u001b[39m.\u001b[39m_iterating \u001b[39m=\u001b[39m \u001b[39mself\u001b[39m\u001b[39m.\u001b[39m_original_iterator \u001b[39mis\u001b[39;00m \u001b[39mnot\u001b[39;00m \u001b[39mNone\u001b[39;00m\n\u001b[1;32m   1046\u001b[0m     \u001b[39mwhile\u001b[39;00m \u001b[39mself\u001b[39m\u001b[39m.\u001b[39mdispatch_one_batch(iterator):\n",
      "File \u001b[0;32m~/github/faker-classifier/.venv/lib/python3.8/site-packages/joblib/parallel.py:833\u001b[0m, in \u001b[0;36mParallel.dispatch_one_batch\u001b[0;34m(self, iterator)\u001b[0m\n\u001b[1;32m    830\u001b[0m n_jobs \u001b[39m=\u001b[39m \u001b[39mself\u001b[39m\u001b[39m.\u001b[39m_cached_effective_n_jobs\n\u001b[1;32m    831\u001b[0m big_batch_size \u001b[39m=\u001b[39m batch_size \u001b[39m*\u001b[39m n_jobs\n\u001b[0;32m--> 833\u001b[0m islice \u001b[39m=\u001b[39m \u001b[39mlist\u001b[39;49m(itertools\u001b[39m.\u001b[39;49mislice(iterator, big_batch_size))\n\u001b[1;32m    834\u001b[0m \u001b[39mif\u001b[39;00m \u001b[39mlen\u001b[39m(islice) \u001b[39m==\u001b[39m \u001b[39m0\u001b[39m:\n\u001b[1;32m    835\u001b[0m     \u001b[39mreturn\u001b[39;00m \u001b[39mFalse\u001b[39;00m\n",
      "File \u001b[0;32m~/github/faker-classifier/.venv/lib/python3.8/site-packages/sklearn/compose/_column_transformer.py:624\u001b[0m, in \u001b[0;36m<genexpr>\u001b[0;34m(.0)\u001b[0m\n\u001b[1;32m    615\u001b[0m transformers \u001b[39m=\u001b[39m \u001b[39mlist\u001b[39m(\n\u001b[1;32m    616\u001b[0m     \u001b[39mself\u001b[39m\u001b[39m.\u001b[39m_iter(\n\u001b[1;32m    617\u001b[0m         fitted\u001b[39m=\u001b[39mfitted, replace_strings\u001b[39m=\u001b[39m\u001b[39mTrue\u001b[39;00m, column_as_strings\u001b[39m=\u001b[39mcolumn_as_strings\n\u001b[1;32m    618\u001b[0m     )\n\u001b[1;32m    619\u001b[0m )\n\u001b[1;32m    620\u001b[0m \u001b[39mtry\u001b[39;00m:\n\u001b[1;32m    621\u001b[0m     \u001b[39mreturn\u001b[39;00m Parallel(n_jobs\u001b[39m=\u001b[39m\u001b[39mself\u001b[39m\u001b[39m.\u001b[39mn_jobs)(\n\u001b[1;32m    622\u001b[0m         delayed(func)(\n\u001b[1;32m    623\u001b[0m             transformer\u001b[39m=\u001b[39mclone(trans) \u001b[39mif\u001b[39;00m \u001b[39mnot\u001b[39;00m fitted \u001b[39melse\u001b[39;00m trans,\n\u001b[0;32m--> 624\u001b[0m             X\u001b[39m=\u001b[39m_safe_indexing(X, column, axis\u001b[39m=\u001b[39;49m\u001b[39m1\u001b[39;49m),\n\u001b[1;32m    625\u001b[0m             y\u001b[39m=\u001b[39my,\n\u001b[1;32m    626\u001b[0m             weight\u001b[39m=\u001b[39mweight,\n\u001b[1;32m    627\u001b[0m             message_clsname\u001b[39m=\u001b[39m\u001b[39m\"\u001b[39m\u001b[39mColumnTransformer\u001b[39m\u001b[39m\"\u001b[39m,\n\u001b[1;32m    628\u001b[0m             message\u001b[39m=\u001b[39m\u001b[39mself\u001b[39m\u001b[39m.\u001b[39m_log_message(name, idx, \u001b[39mlen\u001b[39m(transformers)),\n\u001b[1;32m    629\u001b[0m         )\n\u001b[1;32m    630\u001b[0m         \u001b[39mfor\u001b[39;00m idx, (name, trans, column, weight) \u001b[39min\u001b[39;00m \u001b[39menumerate\u001b[39m(transformers, \u001b[39m1\u001b[39m)\n\u001b[1;32m    631\u001b[0m     )\n\u001b[1;32m    632\u001b[0m \u001b[39mexcept\u001b[39;00m \u001b[39mValueError\u001b[39;00m \u001b[39mas\u001b[39;00m e:\n\u001b[1;32m    633\u001b[0m     \u001b[39mif\u001b[39;00m \u001b[39m\"\u001b[39m\u001b[39mExpected 2D array, got 1D array instead\u001b[39m\u001b[39m\"\u001b[39m \u001b[39min\u001b[39;00m \u001b[39mstr\u001b[39m(e):\n",
      "File \u001b[0;32m~/github/faker-classifier/.venv/lib/python3.8/site-packages/sklearn/utils/__init__.py:353\u001b[0m, in \u001b[0;36m_safe_indexing\u001b[0;34m(X, indices, axis)\u001b[0m\n\u001b[1;32m    346\u001b[0m     \u001b[39mraise\u001b[39;00m \u001b[39mValueError\u001b[39;00m(\n\u001b[1;32m    347\u001b[0m         \u001b[39m\"\u001b[39m\u001b[39m'\u001b[39m\u001b[39mX\u001b[39m\u001b[39m'\u001b[39m\u001b[39m should be a 2D NumPy array, 2D sparse matrix or pandas \u001b[39m\u001b[39m\"\u001b[39m\n\u001b[1;32m    348\u001b[0m         \u001b[39m\"\u001b[39m\u001b[39mdataframe when indexing the columns (i.e. \u001b[39m\u001b[39m'\u001b[39m\u001b[39maxis=1\u001b[39m\u001b[39m'\u001b[39m\u001b[39m). \u001b[39m\u001b[39m\"\u001b[39m\n\u001b[1;32m    349\u001b[0m         \u001b[39m\"\u001b[39m\u001b[39mGot \u001b[39m\u001b[39m{}\u001b[39;00m\u001b[39m instead with \u001b[39m\u001b[39m{}\u001b[39;00m\u001b[39m dimension(s).\u001b[39m\u001b[39m\"\u001b[39m\u001b[39m.\u001b[39mformat(\u001b[39mtype\u001b[39m(X), X\u001b[39m.\u001b[39mndim)\n\u001b[1;32m    350\u001b[0m     )\n\u001b[1;32m    352\u001b[0m \u001b[39mif\u001b[39;00m axis \u001b[39m==\u001b[39m \u001b[39m1\u001b[39m \u001b[39mand\u001b[39;00m indices_dtype \u001b[39m==\u001b[39m \u001b[39m\"\u001b[39m\u001b[39mstr\u001b[39m\u001b[39m\"\u001b[39m \u001b[39mand\u001b[39;00m \u001b[39mnot\u001b[39;00m \u001b[39mhasattr\u001b[39m(X, \u001b[39m\"\u001b[39m\u001b[39mloc\u001b[39m\u001b[39m\"\u001b[39m):\n\u001b[0;32m--> 353\u001b[0m     \u001b[39mraise\u001b[39;00m \u001b[39mValueError\u001b[39;00m(\n\u001b[1;32m    354\u001b[0m         \u001b[39m\"\u001b[39m\u001b[39mSpecifying the columns using strings is only supported for \u001b[39m\u001b[39m\"\u001b[39m\n\u001b[1;32m    355\u001b[0m         \u001b[39m\"\u001b[39m\u001b[39mpandas DataFrames\u001b[39m\u001b[39m\"\u001b[39m\n\u001b[1;32m    356\u001b[0m     )\n\u001b[1;32m    358\u001b[0m \u001b[39mif\u001b[39;00m \u001b[39mhasattr\u001b[39m(X, \u001b[39m\"\u001b[39m\u001b[39miloc\u001b[39m\u001b[39m\"\u001b[39m):\n\u001b[1;32m    359\u001b[0m     \u001b[39mreturn\u001b[39;00m _pandas_indexing(X, indices, indices_dtype, axis\u001b[39m=\u001b[39maxis)\n",
      "\u001b[0;31mValueError\u001b[0m: Specifying the columns using strings is only supported for pandas DataFrames"
     ]
    }
   ],
   "source": [
    "rf.predict([[1,1,1,1,1,1,1,1,1,1,1,1,1,1,1,1,1,1,1,1]])"
   ]
  },
  {
   "cell_type": "code",
   "execution_count": 33,
   "metadata": {},
   "outputs": [
    {
     "data": {
      "text/html": [
       "<div>\n",
       "<style scoped>\n",
       "    .dataframe tbody tr th:only-of-type {\n",
       "        vertical-align: middle;\n",
       "    }\n",
       "\n",
       "    .dataframe tbody tr th {\n",
       "        vertical-align: top;\n",
       "    }\n",
       "\n",
       "    .dataframe thead th {\n",
       "        text-align: right;\n",
       "    }\n",
       "</style>\n",
       "<table border=\"1\" class=\"dataframe\">\n",
       "  <thead>\n",
       "    <tr style=\"text-align: right;\">\n",
       "      <th></th>\n",
       "      <th>Side</th>\n",
       "      <th>tournament_curr_win_percentage</th>\n",
       "      <th>teams_region</th>\n",
       "      <th>teammate_role_top</th>\n",
       "      <th>teammate_role_jungle</th>\n",
       "      <th>teammate_role_mid</th>\n",
       "      <th>teammate_role_adc</th>\n",
       "      <th>teammate_role_support</th>\n",
       "      <th>enemy_role_top</th>\n",
       "      <th>enemy_role_jungle</th>\n",
       "      <th>enemy_role_mid</th>\n",
       "      <th>enemy_role_adc</th>\n",
       "      <th>enemy_role_support</th>\n",
       "      <th>tournament_type</th>\n",
       "      <th>blue_physical_damage_perc</th>\n",
       "      <th>blue_magic_damage_perc</th>\n",
       "      <th>blue_true_damage_perc</th>\n",
       "      <th>red_physical_damage_perc</th>\n",
       "      <th>red_magic_damage_perc</th>\n",
       "      <th>red_true_damage_perc</th>\n",
       "    </tr>\n",
       "  </thead>\n",
       "  <tbody>\n",
       "    <tr>\n",
       "      <th>712</th>\n",
       "      <td>Blue</td>\n",
       "      <td>0.3077</td>\n",
       "      <td>Korea</td>\n",
       "      <td>Diver</td>\n",
       "      <td>Vanguard</td>\n",
       "      <td>Diver</td>\n",
       "      <td>Marksman</td>\n",
       "      <td>Burst</td>\n",
       "      <td>Artillery</td>\n",
       "      <td>Battlemage</td>\n",
       "      <td>Juggernaut</td>\n",
       "      <td>Nimble</td>\n",
       "      <td>Warden</td>\n",
       "      <td>Regular Season</td>\n",
       "      <td>58.332843</td>\n",
       "      <td>31.696382</td>\n",
       "      <td>9.970774</td>\n",
       "      <td>62.760950</td>\n",
       "      <td>34.303846</td>\n",
       "      <td>3.003665</td>\n",
       "    </tr>\n",
       "    <tr>\n",
       "      <th>272</th>\n",
       "      <td>Blue</td>\n",
       "      <td>0.7059</td>\n",
       "      <td>Korea</td>\n",
       "      <td>Vanguard</td>\n",
       "      <td>Skirmisher</td>\n",
       "      <td>Artillery</td>\n",
       "      <td>Nimble</td>\n",
       "      <td>Vanguard</td>\n",
       "      <td>Warden</td>\n",
       "      <td>Diver</td>\n",
       "      <td>Assassin</td>\n",
       "      <td>Nimble</td>\n",
       "      <td>Juggernaut</td>\n",
       "      <td>Regular Season</td>\n",
       "      <td>46.905727</td>\n",
       "      <td>49.697161</td>\n",
       "      <td>3.428536</td>\n",
       "      <td>63.949686</td>\n",
       "      <td>31.795712</td>\n",
       "      <td>4.254603</td>\n",
       "    </tr>\n",
       "    <tr>\n",
       "      <th>27</th>\n",
       "      <td>Blue</td>\n",
       "      <td>1.0000</td>\n",
       "      <td>Korea</td>\n",
       "      <td>Vanguard</td>\n",
       "      <td>Vanguard</td>\n",
       "      <td>Burst</td>\n",
       "      <td>Sniper</td>\n",
       "      <td>Enchanter</td>\n",
       "      <td>Battlemage</td>\n",
       "      <td>Assassin</td>\n",
       "      <td>Assassin</td>\n",
       "      <td>Glasscannon</td>\n",
       "      <td>Enchanter</td>\n",
       "      <td>Playoffs</td>\n",
       "      <td>35.965637</td>\n",
       "      <td>60.396715</td>\n",
       "      <td>3.647306</td>\n",
       "      <td>42.252138</td>\n",
       "      <td>49.395099</td>\n",
       "      <td>8.352763</td>\n",
       "    </tr>\n",
       "    <tr>\n",
       "      <th>776</th>\n",
       "      <td>Blue</td>\n",
       "      <td>0.4000</td>\n",
       "      <td>Korea</td>\n",
       "      <td>Diver</td>\n",
       "      <td>Diver</td>\n",
       "      <td>Vanguard</td>\n",
       "      <td>Nimble</td>\n",
       "      <td>Catcher</td>\n",
       "      <td>Nimble</td>\n",
       "      <td>Diver</td>\n",
       "      <td>Burst</td>\n",
       "      <td>Nimble</td>\n",
       "      <td>Vanguard</td>\n",
       "      <td>Low Stakes</td>\n",
       "      <td>56.683832</td>\n",
       "      <td>37.964674</td>\n",
       "      <td>5.387840</td>\n",
       "      <td>59.321561</td>\n",
       "      <td>32.701540</td>\n",
       "      <td>7.976899</td>\n",
       "    </tr>\n",
       "    <tr>\n",
       "      <th>753</th>\n",
       "      <td>Blue</td>\n",
       "      <td>0.8889</td>\n",
       "      <td>Korea</td>\n",
       "      <td>Diver</td>\n",
       "      <td>Vanguard</td>\n",
       "      <td>Assassin</td>\n",
       "      <td>Nimble</td>\n",
       "      <td>Warden</td>\n",
       "      <td>Diver</td>\n",
       "      <td>Diver</td>\n",
       "      <td>Skirmisher</td>\n",
       "      <td>Sniper</td>\n",
       "      <td>Warden</td>\n",
       "      <td>Playoffs</td>\n",
       "      <td>47.474656</td>\n",
       "      <td>43.747444</td>\n",
       "      <td>8.777900</td>\n",
       "      <td>43.454644</td>\n",
       "      <td>51.092054</td>\n",
       "      <td>5.508669</td>\n",
       "    </tr>\n",
       "    <tr>\n",
       "      <th>...</th>\n",
       "      <td>...</td>\n",
       "      <td>...</td>\n",
       "      <td>...</td>\n",
       "      <td>...</td>\n",
       "      <td>...</td>\n",
       "      <td>...</td>\n",
       "      <td>...</td>\n",
       "      <td>...</td>\n",
       "      <td>...</td>\n",
       "      <td>...</td>\n",
       "      <td>...</td>\n",
       "      <td>...</td>\n",
       "      <td>...</td>\n",
       "      <td>...</td>\n",
       "      <td>...</td>\n",
       "      <td>...</td>\n",
       "      <td>...</td>\n",
       "      <td>...</td>\n",
       "      <td>...</td>\n",
       "      <td>...</td>\n",
       "    </tr>\n",
       "    <tr>\n",
       "      <th>113</th>\n",
       "      <td>Red</td>\n",
       "      <td>0.5000</td>\n",
       "      <td>Korea</td>\n",
       "      <td>Diver</td>\n",
       "      <td>Assassin</td>\n",
       "      <td>Enchanter</td>\n",
       "      <td>Sniper</td>\n",
       "      <td>Enchanter</td>\n",
       "      <td>Skirmisher</td>\n",
       "      <td>Diver</td>\n",
       "      <td>Burst</td>\n",
       "      <td>Nimble</td>\n",
       "      <td>Warden</td>\n",
       "      <td>Regular Season</td>\n",
       "      <td>57.137228</td>\n",
       "      <td>39.894833</td>\n",
       "      <td>2.967939</td>\n",
       "      <td>50.924679</td>\n",
       "      <td>45.811614</td>\n",
       "      <td>3.263707</td>\n",
       "    </tr>\n",
       "    <tr>\n",
       "      <th>601</th>\n",
       "      <td>Red</td>\n",
       "      <td>0.2500</td>\n",
       "      <td>Korea</td>\n",
       "      <td>Juggernaut</td>\n",
       "      <td>Vanguard</td>\n",
       "      <td>Skirmisher</td>\n",
       "      <td>Catcher</td>\n",
       "      <td>Assassin</td>\n",
       "      <td>Juggernaut</td>\n",
       "      <td>Diver</td>\n",
       "      <td>Burst</td>\n",
       "      <td>Nimble</td>\n",
       "      <td>Warden</td>\n",
       "      <td>Regular Season</td>\n",
       "      <td>51.857454</td>\n",
       "      <td>38.660341</td>\n",
       "      <td>9.500331</td>\n",
       "      <td>58.239134</td>\n",
       "      <td>27.649088</td>\n",
       "      <td>14.111778</td>\n",
       "    </tr>\n",
       "    <tr>\n",
       "      <th>37</th>\n",
       "      <td>Red</td>\n",
       "      <td>0.8125</td>\n",
       "      <td>Korea</td>\n",
       "      <td>Warden</td>\n",
       "      <td>Diver</td>\n",
       "      <td>Assassin</td>\n",
       "      <td>Glasscannon</td>\n",
       "      <td>Catcher</td>\n",
       "      <td>Warden</td>\n",
       "      <td>Assassin</td>\n",
       "      <td>Assassin</td>\n",
       "      <td>Sniper</td>\n",
       "      <td>Catcher</td>\n",
       "      <td>Playoffs</td>\n",
       "      <td>60.497853</td>\n",
       "      <td>36.418764</td>\n",
       "      <td>4.686590</td>\n",
       "      <td>61.176349</td>\n",
       "      <td>28.909683</td>\n",
       "      <td>9.913968</td>\n",
       "    </tr>\n",
       "    <tr>\n",
       "      <th>649</th>\n",
       "      <td>Blue</td>\n",
       "      <td>0.6000</td>\n",
       "      <td>Korea</td>\n",
       "      <td>Skirmisher</td>\n",
       "      <td>Diver</td>\n",
       "      <td>Burst</td>\n",
       "      <td>Nimble</td>\n",
       "      <td>Warden</td>\n",
       "      <td>Skirmisher</td>\n",
       "      <td>Vanguard</td>\n",
       "      <td>Battlemage</td>\n",
       "      <td>Sniper</td>\n",
       "      <td>Warden</td>\n",
       "      <td>Regular Season</td>\n",
       "      <td>46.457050</td>\n",
       "      <td>41.926258</td>\n",
       "      <td>11.627554</td>\n",
       "      <td>27.397772</td>\n",
       "      <td>69.530104</td>\n",
       "      <td>3.072124</td>\n",
       "    </tr>\n",
       "    <tr>\n",
       "      <th>883</th>\n",
       "      <td>Blue</td>\n",
       "      <td>0.5000</td>\n",
       "      <td>Korea</td>\n",
       "      <td>Vanguard</td>\n",
       "      <td>Diver</td>\n",
       "      <td>Enchanter</td>\n",
       "      <td>Nimble</td>\n",
       "      <td>Vanguard</td>\n",
       "      <td>Diver</td>\n",
       "      <td>Juggernaut</td>\n",
       "      <td>Battlemage</td>\n",
       "      <td>Glasscannon</td>\n",
       "      <td>Warden</td>\n",
       "      <td>Regular Season</td>\n",
       "      <td>55.901023</td>\n",
       "      <td>39.428778</td>\n",
       "      <td>4.670199</td>\n",
       "      <td>40.998119</td>\n",
       "      <td>50.630503</td>\n",
       "      <td>8.371378</td>\n",
       "    </tr>\n",
       "  </tbody>\n",
       "</table>\n",
       "<p>198 rows × 20 columns</p>\n",
       "</div>"
      ],
      "text/plain": [
       "     Side  tournament_curr_win_percentage teams_region teammate_role_top  \\\n",
       "712  Blue                          0.3077        Korea             Diver   \n",
       "272  Blue                          0.7059        Korea          Vanguard   \n",
       "27   Blue                          1.0000        Korea          Vanguard   \n",
       "776  Blue                          0.4000        Korea             Diver   \n",
       "753  Blue                          0.8889        Korea             Diver   \n",
       "..    ...                             ...          ...               ...   \n",
       "113   Red                          0.5000        Korea             Diver   \n",
       "601   Red                          0.2500        Korea        Juggernaut   \n",
       "37    Red                          0.8125        Korea            Warden   \n",
       "649  Blue                          0.6000        Korea        Skirmisher   \n",
       "883  Blue                          0.5000        Korea          Vanguard   \n",
       "\n",
       "    teammate_role_jungle teammate_role_mid teammate_role_adc  \\\n",
       "712             Vanguard             Diver          Marksman   \n",
       "272           Skirmisher         Artillery            Nimble   \n",
       "27              Vanguard             Burst            Sniper   \n",
       "776                Diver          Vanguard            Nimble   \n",
       "753             Vanguard          Assassin            Nimble   \n",
       "..                   ...               ...               ...   \n",
       "113             Assassin         Enchanter            Sniper   \n",
       "601             Vanguard        Skirmisher           Catcher   \n",
       "37                 Diver          Assassin       Glasscannon   \n",
       "649                Diver             Burst            Nimble   \n",
       "883                Diver         Enchanter            Nimble   \n",
       "\n",
       "    teammate_role_support enemy_role_top enemy_role_jungle enemy_role_mid  \\\n",
       "712                 Burst      Artillery        Battlemage     Juggernaut   \n",
       "272              Vanguard         Warden             Diver       Assassin   \n",
       "27              Enchanter     Battlemage          Assassin       Assassin   \n",
       "776               Catcher         Nimble             Diver          Burst   \n",
       "753                Warden          Diver             Diver     Skirmisher   \n",
       "..                    ...            ...               ...            ...   \n",
       "113             Enchanter     Skirmisher             Diver          Burst   \n",
       "601              Assassin     Juggernaut             Diver          Burst   \n",
       "37                Catcher         Warden          Assassin       Assassin   \n",
       "649                Warden     Skirmisher          Vanguard     Battlemage   \n",
       "883              Vanguard          Diver        Juggernaut     Battlemage   \n",
       "\n",
       "    enemy_role_adc enemy_role_support tournament_type  \\\n",
       "712         Nimble             Warden  Regular Season   \n",
       "272         Nimble         Juggernaut  Regular Season   \n",
       "27     Glasscannon          Enchanter        Playoffs   \n",
       "776         Nimble           Vanguard      Low Stakes   \n",
       "753         Sniper             Warden        Playoffs   \n",
       "..             ...                ...             ...   \n",
       "113         Nimble             Warden  Regular Season   \n",
       "601         Nimble             Warden  Regular Season   \n",
       "37          Sniper            Catcher        Playoffs   \n",
       "649         Sniper             Warden  Regular Season   \n",
       "883    Glasscannon             Warden  Regular Season   \n",
       "\n",
       "     blue_physical_damage_perc  blue_magic_damage_perc  blue_true_damage_perc  \\\n",
       "712                  58.332843               31.696382               9.970774   \n",
       "272                  46.905727               49.697161               3.428536   \n",
       "27                   35.965637               60.396715               3.647306   \n",
       "776                  56.683832               37.964674               5.387840   \n",
       "753                  47.474656               43.747444               8.777900   \n",
       "..                         ...                     ...                    ...   \n",
       "113                  57.137228               39.894833               2.967939   \n",
       "601                  51.857454               38.660341               9.500331   \n",
       "37                   60.497853               36.418764               4.686590   \n",
       "649                  46.457050               41.926258              11.627554   \n",
       "883                  55.901023               39.428778               4.670199   \n",
       "\n",
       "     red_physical_damage_perc  red_magic_damage_perc  red_true_damage_perc  \n",
       "712                 62.760950              34.303846              3.003665  \n",
       "272                 63.949686              31.795712              4.254603  \n",
       "27                  42.252138              49.395099              8.352763  \n",
       "776                 59.321561              32.701540              7.976899  \n",
       "753                 43.454644              51.092054              5.508669  \n",
       "..                        ...                    ...                   ...  \n",
       "113                 50.924679              45.811614              3.263707  \n",
       "601                 58.239134              27.649088             14.111778  \n",
       "37                  61.176349              28.909683              9.913968  \n",
       "649                 27.397772              69.530104              3.072124  \n",
       "883                 40.998119              50.630503              8.371378  \n",
       "\n",
       "[198 rows x 20 columns]"
      ]
     },
     "execution_count": 33,
     "metadata": {},
     "output_type": "execute_result"
    }
   ],
   "source": [
    "X_test"
   ]
  },
  {
   "cell_type": "code",
   "execution_count": 42,
   "metadata": {},
   "outputs": [
    {
     "name": "stdout",
     "output_type": "stream",
     "text": [
      "[[36 33]\n",
      " [67 62]]\n",
      "tn=62\n"
     ]
    },
    {
     "data": {
      "image/png": "[encoded data removed]",
      "text/plain": [
       "<Figure size 432x288 with 2 Axes>"
      ]
     },
     "metadata": {
      "needs_background": "light"
     },
     "output_type": "display_data"
    },
    {
     "data": {
      "text/plain": [
       "<Figure size 720x720 with 0 Axes>"
      ]
     },
     "metadata": {},
     "output_type": "display_data"
    }
   ],
   "source": [
    "predictions = rf.predict(X_test)\n",
    "cm = confusion_matrix(y_true=y_test, y_pred=predictions)\n",
    "print(cm)\n",
    "tn, fp, fn, tp = cm.ravel()\n",
    "print(f\"tn={tp}\")\n",
    "display = ConfusionMatrixDisplay(confusion_matrix=cm, display_labels=rf.classes_)\n",
    "display.plot()\n",
    "plt.figure(figsize=(10,10))\n",
    "plt.show()"
   ]
  },
  {
   "cell_type": "code",
   "execution_count": 39,
   "metadata": {},
   "outputs": [
    {
     "name": "stdout",
     "output_type": "stream",
     "text": [
      "              precision    recall  f1-score   support\n",
      "\n",
      "           0       0.35      0.52      0.42        69\n",
      "           1       0.65      0.48      0.55       129\n",
      "\n",
      "    accuracy                           0.49       198\n",
      "   macro avg       0.50      0.50      0.49       198\n",
      "weighted avg       0.55      0.49      0.51       198\n",
      "\n"
     ]
    }
   ],
   "source": [
    "from sklearn.metrics import classification_report\n",
    "print(classification_report(y_true=y_test, y_pred=predictions))"
   ]
  },
  {
   "cell_type": "code",
   "execution_count": 50,
   "metadata": {},
   "outputs": [
    {
     "name": "stdout",
     "output_type": "stream",
     "text": [
      "0.0\n"
     ]
    },
    {
     "data": {
      "text/plain": [
       "0.5"
      ]
     },
     "execution_count": 50,
     "metadata": {},
     "output_type": "execute_result"
    }
   ],
   "source": [
    "from sklearn.metrics import balanced_accuracy_score, recall_score\n",
    "y_true = [1, 1, 1, 0, 0, 0]\n",
    "y_pred = [0, 0, 0, 0, 0, 0]\n",
    "print(recall_score(y_true, y_pred))\n",
    "balanced_accuracy_score(y_true, y_pred)\n",
    "# two classes\n",
    "# recall respect to 1: (0 / (0 + 0)) => 0.0\n",
    "# recall respect to 0: (3 / (3 + 0)) => 1.0\n",
    "# balanced_accuracy_score = (0.0 + 1.0) / two => 0.5"
   ]
  },
  {
   "cell_type": "code",
   "execution_count": null,
   "metadata": {},
   "outputs": [],
   "source": [
    "pandas.set_option('display.max_columns', None)\n",
    "pandas.set_option('display.max_colwidth', None)\n",
    "pandas.set_option('display.max_rows', None)\n",
    "\n",
    "count = 0\n",
    "for i, match in X_test.iterrows():\n",
    "    match = pandas.DataFrame(match).T  # convert 'match':Series to DataFrame (which will have shape (13,1)) and transpose to have shape (1,13) as a compatible datatype for *.predict \n",
    "    prediction = rf.predict(match)[0]\n",
    "\n",
    "    if prediction == y_test.loc[i]:\n",
    "        continue\n",
    "    # Type 1 - False Positive\n",
    "    if prediction == 1 and y_test.loc[i] != prediction:\n",
    "        print(\"TYPE 1 ERROR\")\n",
    "    # Type 2 - False Negative\n",
    "    if prediction == 0 and y_test.loc[i] != prediction:\n",
    "        print(\"TYPE 2 ERROR\")\n",
    "    print(match)\n",
    "    print(dataframe.loc[i])\n",
    "    count += 1\n",
    "    if count == 15:\n",
    "        break\n",
    "pandas.reset_option('display.max_columns')\n",
    "pandas.reset_option('display.max_colwidth')\n",
    "pandas.reset_option('display.max_rows')"
   ]
  },
  {
   "cell_type": "markdown",
   "metadata": {},
   "source": [
    "Helper Functions"
   ]
  },
  {
   "cell_type": "code",
   "execution_count": null,
   "metadata": {},
   "outputs": [],
   "source": [
    "def print_df_row(row):\n",
    "    \"\"\"Print full row details. Resets panda options\"\"\"\n",
    "    # Removes truncations\n",
    "    pandas.set_option('display.max_columns', None)\n",
    "    pandas.set_option('display.max_colwidth', None)\n",
    "    pandas.set_option('display.max_rows', None)\n",
    "\n",
    "    # Print\n",
    "    print(row)\n",
    "\n",
    "    # Reset\n",
    "    pandas.reset_option('display.max_columns')\n",
    "    pandas.reset_option('display.max_colwidth')\n",
    "    pandas.reset_option('display.max_rows')\n",
    "\n",
    "def print_pandas_no_truncate():\n",
    "    pandas.set_option('display.max_columns', None)\n",
    "    pandas.set_option('display.max_colwidth', None)\n",
    "    pandas.set_option('display.max_rows', None)\n",
    "\n",
    "def print_pandas_reset():\n",
    "    pandas.reset_option('display.max_columns')\n",
    "    pandas.reset_option('display.max_colwidth')\n",
    "    pandas.reset_option('display.max_rows')"
   ]
  },
  {
   "cell_type": "code",
   "execution_count": 35,
   "metadata": {},
   "outputs": [
    {
     "name": "stdout",
     "output_type": "stream",
     "text": [
      "{'Illaoi': 97.0, 'Kled': 96.6, 'Draven': 95.1, 'Riven': 94.6, 'Aatrox': 94.4, 'Talon': 94.1, 'Sivir': 94.0, 'Senna': 93.6, 'Xayah': 91.9, 'Tryndamere': 91.1}\n",
      "\n",
      "{'Karthus': 0.6, 'Xerath': 1.0, 'Galio': 1.4, \"Vel'Koz\": 1.4, 'Viktor': 1.4, 'Cassiopeia': 1.9, 'Brand': 2.2, 'Rumble': 2.3, 'Ziggs': 2.5}\n"
     ]
    }
   ],
   "source": [
    "highest_physical_damage = sorted(gol_champions, key=lambda x: gol_champions[x][\"physical_damage\"], reverse=True)[:10]\n",
    "highest_physical_damage = {champ: gol_champions[champ][\"physical_damage\"] for champ in highest_physical_damage}\n",
    "print(highest_physical_damage)\n",
    "print()\n",
    "lowest_physical_damage = sorted(gol_champions, key=lambda x: gol_champions[x][\"physical_damage\"])[1:10]\n",
    "lowest_physical_damage = {champ: gol_champions[champ][\"physical_damage\"] for champ in lowest_physical_damage}\n",
    "print(lowest_physical_damage)"
   ]
  },
  {
   "cell_type": "code",
   "execution_count": 36,
   "metadata": {},
   "outputs": [
    {
     "name": "stdout",
     "output_type": "stream",
     "text": [
      "{'Xerath': 98.0, 'Viktor': 97.5, 'Cassiopeia': 96.7, 'Ziggs': 96.6, 'Singed': 96.1, 'Rumble': 96.0, 'Veigar': 95.8, 'Azir': 95.6, 'Karthus': 95.6, 'Brand': 95.4}\n",
      "\n",
      "{'Darius': 0.6, 'Kled': 0.6, 'Riven': 0.9, 'Draven': 1.4, 'Talon': 1.4, 'Senna': 1.6, 'Pyke': 1.9, 'Urgot': 2.1, 'Illaoi': 2.2}\n"
     ]
    }
   ],
   "source": [
    "highest_magic_damage = sorted(gol_champions, key=lambda x: gol_champions[x][\"magic_damage\"], reverse=True)[:10]\n",
    "highest_magic_damage = {champ: gol_champions[champ][\"magic_damage\"] for champ in highest_magic_damage}\n",
    "print(highest_magic_damage)\n",
    "print()\n",
    "lowest_magic_damage = sorted(gol_champions, key=lambda x: gol_champions[x][\"magic_damage\"])[1:10]\n",
    "lowest_magic_damage = {champ: gol_champions[champ][\"magic_damage\"] for champ in lowest_magic_damage}\n",
    "print(lowest_magic_damage)"
   ]
  },
  {
   "cell_type": "code",
   "execution_count": 38,
   "metadata": {},
   "outputs": [
    {
     "name": "stdout",
     "output_type": "stream",
     "text": [
      "{'Master Yi': 34.2, 'Olaf': 31.7, 'Fiora': 30.4, 'Gwen': 29.7, 'Camille': 26.9, 'Lillia': 26.0, 'Renata Glasc': 25.4, 'Vayne': 25.3, \"Bel'Veth\": 24.2, 'Sett': 24.2}\n",
      "\n",
      "{'Nilah': 0, 'Rammus': 0.5, 'Illaoi': 0.8, 'Malphite': 0.8, 'Singed': 0.8, 'Dr. Mundo': 0.9, 'Ziggs': 0.9, 'Maokai': 1.0, 'Nasus': 1.0, 'Ryze': 1}\n"
     ]
    }
   ],
   "source": [
    "highest_true_damage = sorted(gol_champions, key=lambda x: gol_champions[x][\"true_damage\"], reverse=True)[:10]\n",
    "highest_true_damage = {champ: gol_champions[champ][\"true_damage\"] for champ in highest_true_damage}\n",
    "print(highest_true_damage)\n",
    "print()\n",
    "lowest_true_damage = sorted(gol_champions, key=lambda x: gol_champions[x][\"true_damage\"])[1:10]\n",
    "lowest_true_damage = {champ: gol_champions[champ][\"true_damage\"] for champ in lowest_true_damage}\n",
    "print(lowest_true_damage)"
   ]
  },
  {
   "cell_type": "markdown",
   "metadata": {},
   "source": [
    "Damage Type weighted with DPM"
   ]
  },
  {
   "cell_type": "code",
   "execution_count": 39,
   "metadata": {},
   "outputs": [
    {
     "name": "stdout",
     "output_type": "stream",
     "text": [
      "{'Illaoi': 537.38, 'Sivir': 528.28, 'Jayce': 517.65, 'Xayah': 491.665, 'Quinn': 490.30799999999994, 'Jinx': 478.268, 'Caitlyn': 472.20700000000005, 'Twitch': 463.33099999999996, 'Draven': 462.186, 'Aphelios': 460.8}\n",
      "\n",
      "{'Karthus': 3.3659999999999997, 'Xerath': 7.43, 'Galio': 4.536, \"Vel'Koz\": 8.595999999999998, 'Viktor': 8.665999999999999, 'Cassiopeia': 9.215, 'Brand': 10.516000000000002, 'Rumble': 11.936999999999998, 'Ziggs': 17.1}\n"
     ]
    }
   ],
   "source": [
    "highest_physical_damage = sorted(gol_champions, key=lambda x: gol_champions[x][\"physical_damage\"] * gol_champions[x][\"DPM\"], reverse=True)[:10]\n",
    "highest_physical_damage = {champ: gol_champions[champ][\"physical_damage\"] * gol_champions[champ][\"DPM\"] / 100 for champ in highest_physical_damage}\n",
    "print(highest_physical_damage)\n",
    "print()\n",
    "lowest_physical_damage = sorted(gol_champions, key=lambda x: gol_champions[x][\"physical_damage\"])[1:10]\n",
    "lowest_physical_damage = {champ: gol_champions[champ][\"physical_damage\"] * gol_champions[champ][\"DPM\"] / 100 for champ in lowest_physical_damage}\n",
    "print(lowest_physical_damage)"
   ]
  },
  {
   "cell_type": "code",
   "execution_count": 40,
   "metadata": {},
   "outputs": [
    {
     "name": "stdout",
     "output_type": "stream",
     "text": [
      "{'Xerath': 728.14, 'Ziggs': 660.7439999999999, 'Viktor': 603.525, 'Heimerdinger': 587.168, 'Karthus': 536.316, 'Azir': 532.492, 'Corki': 507.955, 'Rumble': 498.24, 'Taliyah': 497.596, 'Teemo': 487.816}\n",
      "\n",
      "{'Darius': 2.01, 'Kled': 2.238, 'Riven': 2.898, 'Draven': 6.803999999999999, 'Talon': 6.075999999999999, 'Senna': 7.344000000000001, 'Pyke': 3.211, 'Urgot': 8.043000000000001, 'Illaoi': 12.188000000000002}\n"
     ]
    }
   ],
   "source": [
    "highest_magic_damage = sorted(gol_champions, key=lambda x: gol_champions[x][\"magic_damage\"] * gol_champions[x][\"DPM\"], reverse=True)[:10]\n",
    "highest_magic_damage = {champ: gol_champions[champ][\"magic_damage\"] * gol_champions[champ][\"DPM\"] / 100 for champ in highest_magic_damage}\n",
    "print(highest_magic_damage)\n",
    "print()\n",
    "lowest_magic_damage = sorted(gol_champions, key=lambda x: gol_champions[x][\"magic_damage\"])[1:10]\n",
    "lowest_magic_damage = {champ: gol_champions[champ][\"magic_damage\"] * gol_champions[champ][\"DPM\"] / 100 for champ in lowest_magic_damage}\n",
    "print(lowest_magic_damage)"
   ]
  },
  {
   "cell_type": "code",
   "execution_count": 41,
   "metadata": {},
   "outputs": [
    {
     "name": "stdout",
     "output_type": "stream",
     "text": [
      "{'Master Yi': 142.95600000000002, 'Gwen': 138.69899999999998, \"Vel'Koz\": 131.396, 'Fiora': 130.72, 'Ahri': 119.05400000000002, 'Vayne': 116.63300000000001, 'Lillia': 104.52, 'Camille': 99.79899999999999, 'Olaf': 96.685, 'Twitch': 92.897}\n",
      "\n",
      "{'Rammus': 2.055, 'Illaoi': 4.432, 'Malphite': 2.8640000000000003, 'Singed': 2.968, 'Dr. Mundo': 3.762, 'Ziggs': 6.156000000000001, 'Maokai': 3.61, 'Nasus': 4.94, 'Ryze': 4.31}\n"
     ]
    }
   ],
   "source": [
    "highest_true_damage = sorted(gol_champions, key=lambda x: gol_champions[x][\"true_damage\"] * gol_champions[x][\"DPM\"], reverse=True)[:10]\n",
    "highest_true_damage = {champ: gol_champions[champ][\"true_damage\"] * gol_champions[champ][\"DPM\"] / 100 for champ in highest_true_damage}\n",
    "print(highest_true_damage)\n",
    "print()\n",
    "lowest_true_damage = sorted(gol_champions, key=lambda x: gol_champions[x][\"true_damage\"])[1:10]\n",
    "lowest_true_damage = {champ: gol_champions[champ][\"true_damage\"] * gol_champions[champ][\"DPM\"] / 100 for champ in lowest_true_damage}\n",
    "print(lowest_true_damage)"
   ]
  },
  {
   "cell_type": "code",
   "execution_count": 85,
   "metadata": {},
   "outputs": [
    {
     "name": "stdout",
     "output_type": "stream",
     "text": [
      "GOL Data last updated on 20220731\n",
      "No data on Nilah.\n"
     ]
    }
   ],
   "source": [
    "# Verify damage profile sums to 100\n",
    "print(\"GOL Data last updated on 20220731\")\n",
    "for champ, info in gol_champions.items():\n",
    "    total = 0\n",
    "    for k, v in info.items():\n",
    "        if 'damage' in k:\n",
    "            total += v\n",
    "    if total < 99.999 and total != 0:\n",
    "        print(f\"{champ} has total={total}\")\n",
    "    if total == 0:\n",
    "        print(f\"No data on {champ}.\")"
   ]
  }
 ],
 "metadata": {
  "kernelspec": {
   "display_name": "Python 3.8.10 ('.venv': venv)",
   "language": "python",
   "name": "python3"
  },
  "language_info": {
   "codemirror_mode": {
    "name": "ipython",
    "version": 3
   },
   "file_extension": ".py",
   "mimetype": "text/x-python",
   "name": "python",
   "nbconvert_exporter": "python",
   "pygments_lexer": "ipython3",
   "version": "3.8.10"
  },
  "orig_nbformat": 4,
  "vscode": {
   "interpreter": {
    "hash": "e82112af01882ea095af638c39e4eacecb57b5e6d4e5075da91472a56e93d09a"
   }
  }
 },
 "nbformat": 4,
 "nbformat_minor": 2
}
